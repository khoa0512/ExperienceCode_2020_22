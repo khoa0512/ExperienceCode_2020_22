{
 "cells": [
  {
   "cell_type": "code",
   "execution_count": null,
   "id": "6dea55d0",
   "metadata": {},
   "outputs": [],
   "source": [
    "import pickle\n",
    "import numpy as np\n",
    "from utils import load_data, generate_data, preprocess_data, error\n",
    "from sklearn.decomposition import PCA\n",
    "from sklearn.preprocessing import StandardScaler\n",
    "from tqdm import tqdm\n",
    "from pydmd import DMD, DMDc\n",
    "\n",
    "import matplotlib.pyplot as plt\n",
    "#from pylc.utils import format_axis, rcparams, format_axis_im\n",
    "from mpl_toolkits.axes_grid1 import make_axes_locatable\n",
    "#rcparams(1)\n",
    "\n",
    "import warnings\n",
    "warnings.filterwarnings(\"ignore\", category=RuntimeWarning) \n",
    "warnings.filterwarnings(\"ignore\", category=UserWarning)\n"
   ]
  },
  {
   "cell_type": "code",
   "execution_count": null,
   "id": "21ee97c4-ea0f-4048-a8c3-bd669abc1f61",
   "metadata": {},
   "outputs": [],
   "source": []
  },
  {
   "cell_type": "code",
   "execution_count": null,
   "id": "64a2aa8e-e3cf-4718-adf0-3463bbf9dcf4",
   "metadata": {},
   "outputs": [],
   "source": [
    "import pickle\n",
    "from scipy import sparse\n",
    "from tensorflow import keras\n",
    "from tensorflow.keras import layers, models\n",
    "from keras.callbacks import EarlyStopping\n",
    "import numpy as np\n",
    "import spektral\n",
    "import os\n",
    "import tensorflow as tf\n",
    "import pandas\n",
    "import matplotlib.pyplot as plt\n",
    "import keras_tuner as kt"
   ]
  },
  {
   "cell_type": "markdown",
   "id": "defc1ee9",
   "metadata": {},
   "source": [
    "### load data"
   ]
  },
  {
   "cell_type": "code",
   "execution_count": null,
   "id": "184f46e1-6546-43f2-a66b-3251c4375a56",
   "metadata": {},
   "outputs": [],
   "source": [
    "x, u, sites = load_data(holiday=False, pollutant=['SO2', 'PM2.5', 'PM10', 'CO', 'NO2', 'O3'])\n",
    "\n",
    "x = preprocess_data(x)\n",
    "u = preprocess_data(u)\n",
    "\n",
    "x, u = generate_data(x, u, window=4*24, size=31*24, rolling=True)\n",
    "\n",
    "print([x.shape, u.shape])"
   ]
  },
  {
   "cell_type": "code",
   "execution_count": null,
   "id": "fd17177e-50a6-4c0e-beb7-cab9e93d40fb",
   "metadata": {},
   "outputs": [],
   "source": [
    "x[0][1]"
   ]
  },
  {
   "cell_type": "markdown",
   "id": "f39e0e23",
   "metadata": {},
   "source": [
    "### simple dmd"
   ]
  },
  {
   "cell_type": "code",
   "execution_count": null,
   "id": "596c1abc-d675-4f6b-ae81-dc111f158171",
   "metadata": {},
   "outputs": [],
   "source": [
    "from sklearn.datasets import make_classification\n",
    "# define dataset\n",
    "X, U = make_classification(n_samples=1000, n_features=100, n_informative=10, n_redundant=90, random_state=1)\n",
    "# summarize the dataset\n",
    "print(X.shape, y.shape)"
   ]
  },
  {
   "cell_type": "code",
   "execution_count": null,
   "id": "7ac662a1-501f-47f3-95bf-109389dd2166",
   "metadata": {},
   "outputs": [],
   "source": [
    "def dmd(x, r, n_pca=None, return_A=True):\n",
    "    \n",
    "    ss = StandardScaler()\n",
    "    x_ = ss.fit_transform(x.T).T\n",
    "    \n",
    "    if n_pca != None:\n",
    "        pca = PCA(n_components=n_pca, whiten=True, random_state=0)\n",
    "        x_ = pca.fit_transform(x_.T).T\n",
    "    \n",
    "    # x: m*n, m > n-1 is the often case in DMD\n",
    "    # r_max = min(m, n-1)\n",
    "    dmd_ = DMD(svd_rank=r)\n",
    "    dmd_.fit(x_)\n",
    "    x_pred = dmd_.reconstructed_data.real\n",
    "\n",
    "    if n_pca != None:\n",
    "        x_pred = pca.inverse_transform(x_pred.T).T\n",
    "    \n",
    "    x_pred = ss.inverse_transform(x_pred.T).T\n",
    "    \n",
    "    if return_A:\n",
    "        return x_pred, dmd_.eigs\n",
    "    else:\n",
    "        return x_pred"
   ]
  },
  {
   "cell_type": "code",
   "execution_count": null,
   "id": "270babd6",
   "metadata": {},
   "outputs": [],
   "source": [
    "x_pred, A_ = dmd(x[284], r=84, n_pca=85)"
   ]
  },
  {
   "cell_type": "code",
   "execution_count": null,
   "id": "1cd9b5a2",
   "metadata": {},
   "outputs": [],
   "source": [
    "fig, ax = plt.subplots()\n",
    "\n",
    "ax.plot(x[284][0], label='True')\n",
    "ax.plot(x_pred[0], label='Pred')\n",
    "\n",
    "ax.set_xlabel('Time (h)')\n",
    "ax.set_ylabel('PM2.5')\n",
    "ax.set_xlim([0, 95])\n",
    "ax.legend()\n",
    "#format_axis(ax)"
   ]
  },
  {
   "cell_type": "code",
   "execution_count": null,
   "id": "a8eee7b2",
   "metadata": {},
   "outputs": [],
   "source": [
    "fig, ax = plt.subplots(figsize=(8,8))\n",
    "\n",
    "ax.scatter(A_.real, A_.imag, color='b', label='Eigenvalues')\n",
    "circle = plt.Circle((0, 0), 1, edgecolor='g', linestyle='--', fill=False, label='Unit Circle')\n",
    "ax.add_patch(circle)\n",
    "ax.legend(loc=1, fontsize=15)\n",
    "ax.grid()\n",
    "ax.set_xlabel('Real Part')\n",
    "ax.set_ylabel('Imaginary Part')\n",
    "ax.set_xlim([-1.2, 1.2])\n",
    "ax.set_ylim([-1.2, 1.2])\n",
    "#format_axis(ax)\n",
    "# plt.savefig('../result/figure/A1_eig.png', dpi=300, bbox_inches='tight')"
   ]
  },
  {
   "cell_type": "markdown",
   "id": "be8cee31",
   "metadata": {},
   "source": [
    "### dmd with control"
   ]
  },
  {
   "cell_type": "code",
   "execution_count": null,
   "id": "bfe1efa8",
   "metadata": {},
   "outputs": [],
   "source": [
    "def dmdc(x, u, r, n_pca=None, std=True):\n",
    "    \n",
    "    u = u[:, :-1]\n",
    "    \n",
    "    if std == True:\n",
    "        ss = StandardScaler()\n",
    "        x_ = ss.fit_transform(x.T).T\n",
    "\n",
    "        ss1 = StandardScaler()\n",
    "        u_ = ss1.fit_transform(u.T).T\n",
    "    else:\n",
    "        x_ = x\n",
    "        u_ = u\n",
    "    \n",
    "    if n_pca != None:\n",
    "        pca = PCA(n_components=n_pca, whiten=True, random_state=0)\n",
    "        x_ = pca.fit_transform(x_.T).T\n",
    "        \n",
    "        pca2 = PCA(n_components=n_pca, whiten=True, random_state=1)\n",
    "        u_ = pca2.fit_transform(u_.T).T\n",
    "    \n",
    "    # x: m*n, m > n-1 is the often case in DMD\n",
    "    # r_max = min(m, n-1)\n",
    "    dmd_ = DMDc(svd_rank=r)\n",
    "    dmd_.fit(x_, u_)\n",
    "    x_pred = dmd_.reconstructed_data().real\n",
    "\n",
    "    if n_pca != None:\n",
    "        x_pred = pca.inverse_transform(x_pred.T).T\n",
    "    \n",
    "    if std == True:\n",
    "        x_pred = ss.inverse_transform(x_pred.T).T\n",
    "    else:\n",
    "        x_pred = x_pred\n",
    "    \n",
    "    return x_pred, dmd_.B"
   ]
  },
  {
   "cell_type": "code",
   "execution_count": null,
   "id": "ec303b5d",
   "metadata": {},
   "outputs": [],
   "source": [
    "i = 0\n",
    "x_pred, B_ = dmdc(x[i], u[i], r=90, n_pca=None, std=True)\n",
    "\n",
    "B = np.array(B_)\n",
    "# err1_ = error(x[-1], x_pred, mode='percent')"
   ]
  },
  {
   "cell_type": "code",
   "execution_count": null,
   "id": "d36fe23b",
   "metadata": {},
   "outputs": [],
   "source": [
    "ss1 = StandardScaler()\n",
    "x_ = ss1.fit_transform(x[0].T).T"
   ]
  },
  {
   "cell_type": "code",
   "execution_count": null,
   "id": "86688112",
   "metadata": {},
   "outputs": [],
   "source": [
    "fig, ax = plt.subplots()\n",
    "im = ax.imshow(x_, cmap='coolwarm', vmin=-2, vmax=2)\n",
    "ax.set_xticks([24 * i for i in range(5)])\n",
    "ax.set_yticks([34 * i for i in range(7)])\n",
    "ax.set_yticklabels([])\n",
    "ax.set_xticklabels([0, 1, 2, 3, 4])\n",
    "ax.grid(c='k', axis='y')\n",
    "div = make_axes_locatable(ax)\n",
    "cax = div.append_axes(\"right\", size=\"4%\", pad=\"5%\")\n",
    "cb = fig.colorbar(im, cax=cax)\n",
    "cb.set_label(label='Normalized concentration', size=25)\n",
    "ax.set_xlabel('Day')\n",
    "\n",
    "ax.text(-2, 17, r'SO$_2$', va='center', ha='right', rotation=90, fontsize=20)\n",
    "ax.text(-2, 51, r'PM$_{2.5}$', va='center', ha='right', rotation=90, fontsize=20)\n",
    "ax.text(-2, 85, r'PM$_{10}$', va='center', ha='right', rotation=90, fontsize=20)\n",
    "ax.text(-2, 119, r'CO', va='center', ha='right', rotation=90, fontsize=20)\n",
    "ax.text(-2, 153, r'NO$_2$', va='center', ha='right', rotation=90, fontsize=20)\n",
    "ax.text(-2, 187, r'O$_3$', va='center', ha='right', rotation=90, fontsize=20)\n"
   ]
  },
  {
   "cell_type": "code",
   "execution_count": null,
   "id": "cae037c2",
   "metadata": {},
   "outputs": [],
   "source": [
    "fig, ax = plt.subplots()\n",
    "im = ax.imshow(np.corrcoef(x_), cmap='coolwarm', vmin=-1, vmax=1, origin='lower')\n",
    "ax.set_xticks([34 * i for i in range(7)])\n",
    "ax.set_yticks([34 * i for i in range(7)])\n",
    "ax.set_yticklabels([])\n",
    "ax.set_xticklabels([])\n",
    "ax.grid(c='k', axis='y')\n",
    "div = make_axes_locatable(ax)\n",
    "cax = div.append_axes(\"right\", size=\"4%\", pad=\"5%\")\n",
    "cb = fig.colorbar(im, cax=cax)\n",
    "cb.set_label(label='Correlation', size=25)\n",
    "\n",
    "\n",
    "ax.text(-2, 17, r'SO$_2$', va='center', ha='right', rotation=90, fontsize=20)\n",
    "ax.text(-2, 51, r'PM$_{2.5}$', va='center', ha='right', rotation=90, fontsize=20)\n",
    "ax.text(-2, 85, r'PM$_{10}$', va='center', ha='right', rotation=90, fontsize=20)\n",
    "ax.text(-2, 119, r'CO', va='center', ha='right', rotation=90, fontsize=20)\n",
    "ax.text(-2, 153, r'NO$_2$', va='center', ha='right', rotation=90, fontsize=20)\n",
    "ax.text(-2, 187, r'O$_3$', va='center', ha='right', rotation=90, fontsize=20)\n",
    "\n",
    "ax.text(17, -15, r'SO$_2$', va='bottom', ha='center', rotation=0, fontsize=20)\n",
    "ax.text(51, -15, r'PM$_{2.5}$', va='bottom', ha='center', rotation=0, fontsize=20)\n",
    "ax.text(85, -15, r'PM$_{10}$', va='bottom', ha='center', rotation=0, fontsize=20)\n",
    "ax.text(119, -15, r'CO', va='bottom', ha='center', rotation=0, fontsize=20)\n",
    "ax.text(153, -15, r'NO$_2$', va='bottom', ha='center', rotation=0, fontsize=20)\n",
    "ax.text(187, -15, r'O$_3$', va='bottom', ha='center', rotation=0, fontsize=20)\n"
   ]
  },
  {
   "cell_type": "code",
   "execution_count": null,
   "id": "c42e4b02",
   "metadata": {},
   "outputs": [],
   "source": [
    "ss1 = StandardScaler()\n",
    "u_ = ss1.fit_transform(u[0].T).T"
   ]
  },
  {
   "cell_type": "code",
   "execution_count": null,
   "id": "bc878872",
   "metadata": {},
   "outputs": [],
   "source": [
    "fig, ax = plt.subplots()\n",
    "im = ax.imshow(u_, cmap='coolwarm', vmin=-2, vmax=2)\n",
    "ax.set_xticks([24 * i for i in range(5)])\n",
    "ax.set_yticks([34 * i for i in range(7)])\n",
    "ax.set_yticklabels([])\n",
    "ax.set_xticklabels([0, 1, 2, 3, 4])\n",
    "ax.grid(c='k', axis='y')\n",
    "div = make_axes_locatable(ax)\n",
    "cax = div.append_axes(\"right\", size=\"4%\", pad=\"5%\")\n",
    "cb = fig.colorbar(im, cax=cax)\n",
    "cb.set_label(label='Normalized value', size=25)\n",
    "ax.set_xlabel('Day')\n",
    "\n",
    "ax.text(-2, 17, r'd2m', va='center', ha='right', rotation=90, fontsize=20)\n",
    "ax.text(-2, 51, r't2m', va='center', ha='right', rotation=90, fontsize=20)\n",
    "ax.text(-2, 85, r'rh', va='center', ha='right', rotation=90, fontsize=20)\n",
    "ax.text(-2, 119, r'sp', va='center', ha='right', rotation=90, fontsize=20)\n",
    "ax.text(-2, 153, r'u10', va='center', ha='right', rotation=90, fontsize=20)\n",
    "ax.text(-2, 187, r'v10', va='center', ha='right', rotation=90, fontsize=20)\n",
    "ax.text(-2, 221, r'blh', va='center', ha='right', rotation=90, fontsize=20)"
   ]
  },
  {
   "cell_type": "code",
   "execution_count": null,
   "id": "d1a047e5",
   "metadata": {},
   "outputs": [],
   "source": [
    "fig, ax = plt.subplots()\n",
    "im = ax.imshow(np.corrcoef(u_), cmap='coolwarm', vmin=-1, vmax=1, origin='lower')\n",
    "ax.set_xticks([34 * i for i in range(7)])\n",
    "ax.set_yticks([34 * i for i in range(7)])\n",
    "ax.set_yticklabels([])\n",
    "ax.set_xticklabels([])\n",
    "ax.grid(c='k', axis='y')\n",
    "div = make_axes_locatable(ax)\n",
    "cax = div.append_axes(\"right\", size=\"4%\", pad=\"5%\")\n",
    "cb = fig.colorbar(im, cax=cax)\n",
    "cb.set_label(label='Correlation', size=25)\n",
    "\n",
    "\n",
    "ax.text(-2, 17, r'dm2', va='center', ha='right', rotation=90, fontsize=20)\n",
    "ax.text(-2, 51, r'tm2', va='center', ha='right', rotation=90, fontsize=20)\n",
    "ax.text(-2, 85, r'rh', va='center', ha='right', rotation=90, fontsize=20)\n",
    "ax.text(-2, 119, r'sp', va='center', ha='right', rotation=90, fontsize=20)\n",
    "ax.text(-2, 153, r'u10', va='center', ha='right', rotation=90, fontsize=20)\n",
    "ax.text(-2, 187, r'v10', va='center', ha='right', rotation=90, fontsize=20)\n",
    "ax.text(-2, 221, r'blh', va='center', ha='right', rotation=90, fontsize=20)\n",
    "\n",
    "ax.text(17, -15, r'dm2', va='bottom', ha='center', rotation=0, fontsize=20)\n",
    "ax.text(51, -15, r'tm2', va='bottom', ha='center', rotation=0, fontsize=20)\n",
    "ax.text(85, -15, r'rh', va='bottom', ha='center', rotation=0, fontsize=20)\n",
    "ax.text(119, -15, r'sp', va='bottom', ha='center', rotation=0, fontsize=20)\n",
    "ax.text(153, -15, r'u10', va='bottom', ha='center', rotation=0, fontsize=20)\n",
    "ax.text(187, -15, r'v10', va='bottom', ha='center', rotation=0, fontsize=20)\n",
    "ax.text(221, -15, r'blh', va='bottom', ha='center', rotation=0, fontsize=20);\n"
   ]
  },
  {
   "cell_type": "code",
   "execution_count": null,
   "id": "775e6300",
   "metadata": {},
   "outputs": [],
   "source": [
    "fig, ax = plt.subplots()\n",
    "im = ax.imshow(B, cmap='coolwarm', vmin=-.05, vmax=.05, origin='lower')\n",
    "ax.set_xticks([34 * i for i in range(7)])\n",
    "ax.set_yticks([34 * i for i in range(6)])\n",
    "ax.set_yticklabels([])\n",
    "ax.set_xticklabels([])\n",
    "ax.grid(c='k', axis='both')\n",
    "div = make_axes_locatable(ax)\n",
    "cax = div.append_axes(\"right\", size=\"4%\", pad=\"5%\")\n",
    "cb = fig.colorbar(im, cax=cax)\n",
    "cb.set_label(label='B Matrix', size=25)\n",
    "\n",
    "\n",
    "ax.text(-2, 17, r'SO$_2$', va='center', ha='right', rotation=90, fontsize=20)\n",
    "ax.text(-2, 51, r'PM$_{2.5}$', va='center', ha='right', rotation=90, fontsize=20)\n",
    "ax.text(-2, 85, r'PM$_{10}$', va='center', ha='right', rotation=90, fontsize=20)\n",
    "ax.text(-2, 119, r'CO', va='center', ha='right', rotation=90, fontsize=20)\n",
    "ax.text(-2, 153, r'NO$_2$', va='center', ha='right', rotation=90, fontsize=20)\n",
    "ax.text(-2, 187, r'O$_3$', va='center', ha='right', rotation=90, fontsize=20)\n",
    "\n",
    "ax.text(17, -15, r'dm2', va='bottom', ha='center', rotation=0, fontsize=20)\n",
    "ax.text(51, -15, r'tm2', va='bottom', ha='center', rotation=0, fontsize=20)\n",
    "ax.text(85, -15, r'rh', va='bottom', ha='center', rotation=0, fontsize=20)\n",
    "ax.text(119, -15, r'sp', va='bottom', ha='center', rotation=0, fontsize=20)\n",
    "ax.text(153, -15, r'u10', va='bottom', ha='center', rotation=0, fontsize=20)\n",
    "ax.text(187, -15, r'v10', va='bottom', ha='center', rotation=0, fontsize=20)\n",
    "ax.text(221, -15, r'blh', va='bottom', ha='center', rotation=0, fontsize=20);\n"
   ]
  },
  {
   "cell_type": "code",
   "execution_count": null,
   "id": "4e3f2256",
   "metadata": {},
   "outputs": [],
   "source": [
    "i = 0\n",
    "j = 5\n",
    "\n",
    "Bs = B[i*34:(i+1)*34, j*34:(j+1)*34]\n",
    "Bc = np.corrcoef(Bs.T)\n",
    "plt.imshow(Bc, cmap='coolwarm', vmin=-1, vmax=1)"
   ]
  },
  {
   "cell_type": "code",
   "execution_count": null,
   "id": "5b061b65",
   "metadata": {},
   "outputs": [],
   "source": [
    "downtown = ['FTHY', 'WL', 'XZMB', 'GY', 'WSXG', 'NSH', 'YDMN', 'QM', 'ATZX', 'DS', 'TT', 'NZG', 'DSH']\n",
    "suburban = ['BBXQ', 'MTG', 'GC', 'YG', 'FS', 'DX', 'YZ', 'TZ']\n",
    "northwest_rural = ['YQ', 'BDL', 'DL', 'CP']\n",
    "northeast_rural = ['SY', 'HR', 'MY', 'SK', 'PG', 'DGC']\n",
    "southwest_rural = ['LLH']\n",
    "southeast_rural = ['YF', 'YLD']"
   ]
  },
  {
   "cell_type": "code",
   "execution_count": null,
   "id": "dd1a7f07",
   "metadata": {},
   "outputs": [],
   "source": [
    "downtown_idx = [np.where(sites == downtown[i])[0][0] for i in range(len(downtown))]\n",
    "suburban_idx = [np.where(sites == suburban[i])[0][0] for i in range(len(suburban))]\n",
    "northwest_rural_idx = [np.where(sites == northwest_rural[i])[0][0] for i in range(len(northwest_rural))]\n",
    "northeast_rural_idx = [np.where(sites == northeast_rural[i])[0][0] for i in range(len(northeast_rural))]\n",
    "southwest_rural_idx = [np.where(sites == southwest_rural[i])[0][0] for i in range(len(southwest_rural))]\n",
    "southeast_rural_idx = [np.where(sites == southeast_rural[i])[0][0] for i in range(len(southeast_rural))]\n",
    "\n",
    "len(downtown_idx), len(suburban_idx), len(northwest_rural_idx), len(northeast_rural_idx), len(southwest_rural_idx), len(southeast_rural_idx)"
   ]
  },
  {
   "cell_type": "code",
   "execution_count": null,
   "id": "ac73b811",
   "metadata": {},
   "outputs": [],
   "source": [
    "idx = downtown_idx + suburban_idx + northwest_rural_idx + northeast_rural_idx + southwest_rural_idx + southeast_rural_idx"
   ]
  },
  {
   "cell_type": "code",
   "execution_count": null,
   "id": "cc1a98a2",
   "metadata": {},
   "outputs": [],
   "source": [
    "c1 = Bc[idx]\n",
    "c2 = c1[:, idx]"
   ]
  },
  {
   "cell_type": "code",
   "execution_count": null,
   "id": "64b8213b",
   "metadata": {},
   "outputs": [],
   "source": [
    "fig, ax = plt.subplots()\n",
    "im = ax.imshow(c2, cmap='coolwarm', vmin=-1, vmax=1)\n",
    "\n",
    "ax.set_xticks([-0.5, 12.5, 20.5, 24.5, 30.5, 31.5, 33.5])\n",
    "ax.set_yticks([-0.5, 12.5, 20.5, 24.5, 30.5, 31.5, 33.5])\n",
    "ax.xaxis.set_ticklabels([])\n",
    "ax.yaxis.set_ticklabels([])\n",
    "\n",
    "div = make_axes_locatable(ax)\n",
    "cax = div.append_axes(\"right\", size=\"4%\", pad=\"5%\")\n",
    "cb = fig.colorbar(im, cax=cax)\n",
    "\n",
    "# format_axis_im(ax)\n",
    "# plt.yticks([12.5, 20.5, 24.5, 30.5, 33.5])\n",
    "ax.grid(c='k')"
   ]
  },
  {
   "cell_type": "code",
   "execution_count": null,
   "id": "c1d0c844",
   "metadata": {},
   "outputs": [],
   "source": [
    "len(idx)"
   ]
  },
  {
   "cell_type": "markdown",
   "id": "04109794",
   "metadata": {},
   "source": [
    "### dmd without pca"
   ]
  },
  {
   "cell_type": "code",
   "execution_count": null,
   "id": "831273d9",
   "metadata": {},
   "outputs": [],
   "source": [
    "n_bins = np.arange(-1.0, 10.0, 0.01)\n",
    "fig, ax = plt.subplots()\n",
    "\n",
    "for i in np.arange(1, 56+1, 5):\n",
    "    with open(f'../result/pickle/pca_56_r_{i}_simple.pickle', 'rb') as handle:\n",
    "        err = pickle.load(handle)\n",
    "    err_ = err[:, 0]\n",
    "    n, bins, patches = ax.hist(np.log10(err_), n_bins, density=True, histtype='step',\n",
    "                               cumulative=True, label='PCA', linewidth=2)\n",
    "ax.set_xlim([-1, 10])\n",
    "# ax.legend(loc=4)\n",
    "\n",
    "ax.set_xlabel('log10 Error')\n",
    "ax.set_ylabel('Cumulative Frequency')\n",
    "#format_axis(ax)"
   ]
  },
  {
   "cell_type": "code",
   "execution_count": null,
   "id": "fb24a626",
   "metadata": {},
   "outputs": [],
   "source": [
    "with open(f'../result/pickle/pca_56_r_1_simple.pickle', 'rb') as handle:\n",
    "    err = pickle.load(handle)\n",
    "err[:, 0]"
   ]
  },
  {
   "cell_type": "code",
   "execution_count": null,
   "id": "ef54fd8a",
   "metadata": {},
   "outputs": [],
   "source": [
    "with open(f'../result/pickle/pca_56_r_6_simple.pickle', 'rb') as handle:\n",
    "    err = pickle.load(handle)\n",
    "err[:, 0]"
   ]
  },
  {
   "cell_type": "code",
   "execution_count": null,
   "id": "9928f8c4",
   "metadata": {},
   "outputs": [],
   "source": [
    "i = 372\n",
    "x_true1, x_pred1, x_forecast1, x_future1, cond1_, eig1_ = dmd(x[i], x[i+24], r=85, n_pca=86)\n",
    "x_true2, x_pred2, x_forecast2, x_future2, cond2_, eig2_ = dmd(x[i], x[i+24], r=85, n_pca=None)"
   ]
  },
  {
   "cell_type": "code",
   "execution_count": null,
   "id": "e11946d1",
   "metadata": {},
   "outputs": [],
   "source": [
    "fig, ax = plt.subplots(figsize=(8, 4), ncols=2)\n",
    "ax[0].plot(x_true1[1], label='Original')\n",
    "ax[0].plot(x_pred1[1], label='PCA')\n",
    "\n",
    "ax[1].plot(x_true1[1], label='Original')\n",
    "ax[1].plot(x_pred2[1], label='No PCA')\n",
    "\n",
    "for ax_ in ax:\n",
    "    ax_.set_xlabel('Time (h)')\n",
    "    ax_.set_ylabel('PM2.5')\n",
    "    ax_.set_xlim([0, 94])\n",
    "    ax_.legend()\n",
    "    #format_axis(ax_)\n",
    "plt.tight_layout()\n",
    "plt.savefig('../result/figure/pca_worst.png', dpi=300, bbox_inches='tight')"
   ]
  },
  {
   "cell_type": "code",
   "execution_count": null,
   "id": "47985be0",
   "metadata": {},
   "outputs": [],
   "source": [
    "i = 372\n",
    "x_true1, x_pred1, x_forecast1, x_future1, cond1_, eig1_ = dmd(x[i], x[i+24], r=57, n_pca=None)\n",
    "x_true2, x_pred2, x_forecast2, x_future2, cond2_, eig2_ = dmd(x[i], x[i+24], r=58, n_pca=None)\n",
    "x_true3, x_pred3, x_forecast3, x_future3, cond3_, eig3_ = dmd(x[i], x[i+24], r=85, n_pca=None)"
   ]
  },
  {
   "cell_type": "code",
   "execution_count": null,
   "id": "89492cc5",
   "metadata": {},
   "outputs": [],
   "source": [
    "fig, ax = plt.subplots(figsize=(12, 4), ncols=3)\n",
    "ax[0].plot(x_true1[1], label='Original')\n",
    "ax[0].plot(x_pred1[1], label='No PCA r=57')\n",
    "\n",
    "ax[1].plot(x_true1[1], label='Original')\n",
    "ax[1].plot(x_pred2[1], label='No PCA r=58')\n",
    "\n",
    "ax[2].plot(x_true1[1], label='Original')\n",
    "ax[2].plot(x_pred3[1], label='No PCA r=85')\n",
    "\n",
    "for ax_ in ax:\n",
    "    ax_.set_xlabel('Time (h)')\n",
    "    ax_.set_ylabel('PM2.5')\n",
    "    ax_.set_xlim([0, 94])\n",
    "    ax_.legend()\n",
    "    #format_axis(ax_)\n",
    "plt.tight_layout()\n",
    "plt.savefig('../result/figure/pca_worst_nochange.png', dpi=300, bbox_inches='tight')"
   ]
  },
  {
   "cell_type": "code",
   "execution_count": null,
   "id": "ba2c4a82",
   "metadata": {},
   "outputs": [],
   "source": [
    "n_bins = np.arange(-1.0, 10.0, 0.01)\n",
    "\n",
    "fig, ax = plt.subplots()\n",
    "n, bins, patches = ax.hist(np.log10(erf1), n_bins, density=True, histtype='step',\n",
    "                           cumulative=True, label='PCA', linewidth=2)\n",
    "n, bins, patches = ax.hist(np.log10(erf2), n_bins, density=True, histtype='step',\n",
    "                           cumulative=True, label='No PCA', linewidth=2)\n",
    "ax.set_xlim([-1, 2])\n",
    "ax.legend(loc=4)\n",
    "\n",
    "ax.set_xlabel('log10 Error')\n",
    "ax.set_ylabel('Cumulative Frequency')\n",
    "#format_axis(ax)\n",
    "plt.savefig('../result/figure/error_forecast.png', dpi=300, bbox_inches='tight')"
   ]
  },
  {
   "cell_type": "code",
   "execution_count": null,
   "id": "adeef4b2",
   "metadata": {},
   "outputs": [],
   "source": [
    "x_ = x[0]\n",
    "xmax_ = np.max([x_.max(), np.abs(x_.min())])\n",
    "fig, ax = plt.subplots()\n",
    "im = ax.imshow(x_, vmin=-xmax_, vmax=xmax_, cmap='coolwarm')\n",
    "\n",
    "divider = make_axes_locatable(ax)\n",
    "cax = divider.append_axes('right', size='5%', pad=0.05)\n",
    "\n",
    "fig.colorbar(im, cax=cax, orientation='vertical')\n",
    "\n",
    "ax.set_xlabel('Time (h)')\n",
    "ax.set_ylabel('Contaminant ID')\n",
    "#format_axis(ax)\n",
    "\n",
    "plt.savefig('../result/figure/cond_original.png', dpi=300, bbox_inches='tight')\n",
    "plt.show()\n",
    "\n",
    "dmd_ = DMD(svd_rank=85)\n",
    "dmd_.fit(x_)\n",
    "A_ = dmd_.eigs\n",
    "\n",
    "print(np.linalg.cond(x_))\n",
    "\n",
    "fig, ax = plt.subplots(figsize=(8,8))\n",
    "ax.scatter(A_.real, A_.imag, color='b', label='Eigenvalues')\n",
    "circle = plt.Circle((0, 0), 1, edgecolor='g', linestyle='--', fill=False, label='Unit Circle')\n",
    "ax.add_patch(circle)\n",
    "ax.legend(loc=1)\n",
    "ax.grid()\n",
    "ax.set_xlabel('Real Part')\n",
    "ax.set_ylabel('Imaginary Part')\n",
    "ax.set_xlim([-1.2, 1.2])\n",
    "ax.set_ylim([-1.2, 1.2])\n",
    "#format_axis(ax)\n",
    "plt.savefig('../result/figure/A1_eig.png', dpi=300, bbox_inches='tight')"
   ]
  },
  {
   "cell_type": "code",
   "execution_count": null,
   "id": "9ca17598",
   "metadata": {},
   "outputs": [],
   "source": [
    "ss = StandardScaler()\n",
    "x_ = ss.fit_transform(x_.T).T\n",
    "\n",
    "xmax_ = np.max([x_.max(), np.abs(x_.min())])\n",
    "fig, ax = plt.subplots()\n",
    "im = ax.imshow(x_, vmin=-xmax_, vmax=xmax_, cmap='coolwarm')\n",
    "\n",
    "divider = make_axes_locatable(ax)\n",
    "cax = divider.append_axes('right', size='5%', pad=0.05)\n",
    "\n",
    "fig.colorbar(im, cax=cax, orientation='vertical')\n",
    "\n",
    "ax.set_xlabel('Time (h)')\n",
    "ax.set_ylabel('Contaminant ID')\n",
    "#format_axis(ax)\n",
    "\n",
    "plt.savefig('../result/figure/cond_original.png', dpi=300, bbox_inches='tight')\n",
    "plt.show()\n",
    "print(np.linalg.cond(x_))\n",
    "print(np.linalg.svd(x_)[1][1])\n",
    "\n",
    "dmd_ = DMD(svd_rank=85)\n",
    "dmd_.fit(x_)\n",
    "A2_ = dmd_.eigs\n",
    "\n",
    "fig, ax = plt.subplots(figsize=(8,8))\n",
    "ax.scatter(A2_.real, A2_.imag, color='b', label='Eigenvalues')\n",
    "circle = plt.Circle((0, 0), 1, edgecolor='g', linestyle='--', fill=False, label='Unit Circle')\n",
    "ax.add_patch(circle)\n",
    "ax.legend(loc=1)\n",
    "ax.grid()\n",
    "ax.set_xlabel('Real Part')\n",
    "ax.set_ylabel('Imaginary Part')\n",
    "ax.set_xlim([-1.2, 1.2])\n",
    "ax.set_ylim([-1.2, 1.2])\n",
    "#format_axis(ax)\n",
    "plt.savefig('../result/figure/A2_eig.png', dpi=300, bbox_inches='tight')"
   ]
  },
  {
   "cell_type": "code",
   "execution_count": null,
   "id": "723fb19e",
   "metadata": {},
   "outputs": [],
   "source": [
    "pca = PCA(n_components=96, whiten=True, random_state=0)\n",
    "x_ = pca.fit_transform(x_.T).T\n",
    "\n",
    "xmax_ = np.max([x_.max(), np.abs(x_.min())])\n",
    "fig, ax = plt.subplots()\n",
    "im = ax.imshow(x_, vmin=-xmax_, vmax=xmax_, cmap='coolwarm')\n",
    "\n",
    "divider = make_axes_locatable(ax)\n",
    "cax = divider.append_axes('right', size='5%', pad=0.05)\n",
    "\n",
    "fig.colorbar(im, cax=cax, orientation='vertical')\n",
    "\n",
    "ax.set_xlabel('Time (h)')\n",
    "ax.set_ylabel('PC ID')\n",
    "#format_axis(ax)\n",
    "\n",
    "plt.savefig('../result/figure/cond_pca.png', dpi=300, bbox_inches='tight')\n",
    "plt.show()\n",
    "print(np.linalg.cond(x_))\n",
    "print(np.linalg.svd(x_)[1][1])\n",
    "\n",
    "dmd_ = DMD(svd_rank=85)\n",
    "dmd_.fit(x_)\n",
    "A3_ = dmd_.eigs\n",
    "\n",
    "fig, ax = plt.subplots(figsize=(8,8))\n",
    "ax.scatter(A3_.real, A3_.imag, color='b', label='Eigenvalues')\n",
    "circle = plt.Circle((0, 0), 1, edgecolor='g', linestyle='--', fill=False, label='Unit Circle')\n",
    "ax.add_patch(circle)\n",
    "ax.legend(loc=1)\n",
    "ax.grid()\n",
    "ax.set_xlabel('Real Part')\n",
    "ax.set_ylabel('Imaginary Part')\n",
    "ax.set_xlim([-1.2, 1.2])\n",
    "ax.set_ylim([-1.2, 1.2])\n",
    "#format_axis(ax)\n",
    "plt.savefig('../result/figure/A3_eig.png', dpi=300, bbox_inches='tight')"
   ]
  },
  {
   "cell_type": "code",
   "execution_count": null,
   "id": "8df5b85b",
   "metadata": {},
   "outputs": [],
   "source": [
    "fig, ax = plt.subplots(figsize=(4, 4))\n",
    "ax.plot(np.linalg.svd(A_)[1])\n",
    "ax.plot(np.linalg.svd(A2_)[1])\n",
    "ax.plot(np.linalg.svd(A3_)[1])"
   ]
  },
  {
   "cell_type": "code",
   "execution_count": null,
   "id": "f75d435a",
   "metadata": {},
   "outputs": [],
   "source": []
  },
  {
   "cell_type": "code",
   "execution_count": null,
   "id": "c2d800e2",
   "metadata": {},
   "outputs": [],
   "source": [
    "fig, ax = plt.subplots(figsize=(4, 4))\n",
    "ax.plot(sorted(np.abs(np.linalg.norm(A_)), reverse=True), label='Original')\n",
    "ax.plot(sorted(np.abs(np.linalg.norm(A2_)), reverse=True), label='After Std')\n",
    "ax.plot(sorted(np.abs(np.linalg.norm(A3_)), reverse=True), label='After PCA')\n",
    "\n",
    "ax.set_xlim([0, 85])\n",
    "ax.set_xlabel('Index')\n",
    "ax.set_ylabel('Eigenvalue')\n",
    "\n",
    "ax.legend()\n",
    "#format_axis(ax)\n",
    "\n",
    "plt.savefig('../result/figure/eig_comp.png', dpi=300, bbox_inches='tight')"
   ]
  },
  {
   "cell_type": "code",
   "execution_count": null,
   "id": "0e951350",
   "metadata": {},
   "outputs": [],
   "source": [
    "fig, ax = plt.subplots(figsize=(4, 4))\n",
    "ax.plot(sorted(np.abs(np.linalg.eigvals(A_).imag), reverse=True), label='Original')\n",
    "ax.plot(sorted(np.abs(np.linalg.eigvals(A2_).imag), reverse=True), label='After Std')\n",
    "ax.plot(sorted(np.abs(np.linalg.eigvals(A3_).imag), reverse=True), label='After PCA')\n",
    "\n",
    "ax.set_xlim([0, 85])\n",
    "ax.set_xlabel('Index')\n",
    "ax.set_ylabel('Eigenvalue')\n",
    "\n",
    "ax.legend()\n",
    "#format_axis(ax)\n",
    "\n",
    "plt.savefig('../result/figure/eig_comp.png', dpi=300, bbox_inches='tight')"
   ]
  },
  {
   "cell_type": "code",
   "execution_count": null,
   "id": "f69e45c7",
   "metadata": {},
   "outputs": [],
   "source": [
    "n_bins = np.arange(-1.0, 20.0, 0.01)\n",
    "\n",
    "fig, ax = plt.subplots(figsize=(4, 4))\n",
    "n, bins, patches = ax.hist(np.log10(cond1), n_bins, density=True, histtype='step',\n",
    "                           cumulative=True, label='PCA', linewidth=2)\n",
    "n, bins, patches = ax.hist(np.log10(cond2), n_bins, density=True, histtype='step',\n",
    "                           cumulative=True, label='No PCA', linewidth=2)\n",
    "ax.set_xlim([-1, 20])\n",
    "ax.legend(loc=3)\n",
    "#format_axis(ax)\n",
    "\n",
    "ax.set_xlabel('log10 Condition Number')\n",
    "ax.set_ylabel('Cumulative Frequency')\n",
    "#format_axis(ax)\n",
    "plt.savefig('../result/figure/cond.png', dpi=300, bbox_inches='tight')"
   ]
  },
  {
   "cell_type": "code",
   "execution_count": null,
   "id": "0d536740",
   "metadata": {},
   "outputs": [],
   "source": [
    "n_bins = np.arange(0.0, 1.2, 0.001)\n",
    "\n",
    "fig, ax = plt.subplots(figsize=(4, 4))\n",
    "n, bins, patches = ax.hist(eig1, n_bins, density=True, histtype='step',\n",
    "                           cumulative=True, label='PCA', linewidth=2)\n",
    "n, bins, patches = ax.hist(eig2, n_bins, density=True, histtype='step',\n",
    "                           cumulative=True, label='No PCA', linewidth=2)\n",
    "ax.set_xlim([0.9, 1.2])\n",
    "ax.legend(loc=4)\n",
    "ax.grid()\n",
    "#format_axis(ax)\n",
    "\n",
    "ax.set_xlabel('Eigenvalue')\n",
    "ax.set_ylabel('Cumulative Frequency')\n",
    "#format_axis(ax)\n",
    "plt.savefig('../result/figure/eig.png', dpi=300, bbox_inches='tight')"
   ]
  },
  {
   "cell_type": "code",
   "execution_count": null,
   "id": "9ad097af",
   "metadata": {},
   "outputs": [],
   "source": [
    "np.where(np.array(eig1 ) >= 1), len(np.where(np.array(eig2) >= 1)[0]) / len(eig2)"
   ]
  },
  {
   "cell_type": "code",
   "execution_count": null,
   "id": "efdc3799",
   "metadata": {},
   "outputs": [],
   "source": [
    "eig2"
   ]
  },
  {
   "cell_type": "code",
   "execution_count": null,
   "id": "7544c257",
   "metadata": {},
   "outputs": [],
   "source": [
    "np.sum(np.array(err1) > np.array(err2))"
   ]
  },
  {
   "cell_type": "code",
   "execution_count": null,
   "id": "b4234b85",
   "metadata": {},
   "outputs": [],
   "source": [
    "np.log10(cond2)"
   ]
  },
  {
   "cell_type": "code",
   "execution_count": null,
   "id": "da88a4bd",
   "metadata": {},
   "outputs": [],
   "source": [
    "x_true, x_pred, x_forecast, cond_ = dmd(x[0], r=85, n_pca=86)"
   ]
  },
  {
   "cell_type": "code",
   "execution_count": null,
   "id": "302cc739",
   "metadata": {},
   "outputs": [],
   "source": [
    "plt.plot(x_pred[0])\n",
    "plt.plot(x_true[0])"
   ]
  },
  {
   "cell_type": "code",
   "execution_count": null,
   "id": "3a4101b1",
   "metadata": {},
   "outputs": [],
   "source": [
    "dmd.eigs"
   ]
  },
  {
   "cell_type": "code",
   "execution_count": null,
   "id": "7a49a20e",
   "metadata": {},
   "outputs": [],
   "source": [
    "from tensorflow import keras\n",
    "def train(size):\n",
    "    x_in = layers.Input(shape=(204, ))\n",
    "    x = layers.Dense(size, activation='selu')(x_in)\n",
    "    x = layers.Dense(204, activation='sigmoid')(x)\n",
    "    model = Model(inputs=x_in, outputs=x)\n",
    "    model.compile(optimizer=Adam(learning_rate=0.001), loss='mse')\n",
    "    cp = ModelCheckpoint(f'test_{size}.h5', monitor='val_loss',\n",
    "                     verbose=0, save_best_only=True,\n",
    "                     mode='min')\n",
    "    els = EarlyStopping(monitor='val_loss', mode='min', patience=20)\n",
    "    \n",
    "    history = model.fit(x_train, x_train, batch_size=128,\n",
    "                        epochs=500, callbacks=[cp, els],\n",
    "                        validation_split=0.2, verbose=0, shuffle=True).history"
   ]
  },
  {
   "cell_type": "code",
   "execution_count": null,
   "id": "1fadba3d",
   "metadata": {},
   "outputs": [],
   "source": [
    "n_components = np.arange(204, 150, -4)\n",
    "for size in n_components:\n",
    "    train(size)"
   ]
  },
  {
   "cell_type": "code",
   "execution_count": null,
   "id": "3d08803c",
   "metadata": {},
   "outputs": [],
   "source": [
    "fig, ax = plt.subplots()\n",
    "ax.plot(x_train[-2], label='True')\n",
    "ax.plot(x_pred[-2], label='Pred')\n",
    "ax.set_xlabel('Var ID')\n",
    "ax.set_ylabel('Magnitude')\n",
    "ax.legend()\n",
    "ax.grid()\n",
    "#format_axis(ax)\n",
    "plt.savefig('encoder.png', bbox_inches='tight', dpi=300)"
   ]
  },
  {
   "cell_type": "code",
   "execution_count": null,
   "id": "16ee4db8",
   "metadata": {},
   "outputs": [],
   "source": [
    "from tensorflow import keras\n",
    "def test(size):\n",
    "    x_in = layers.Input(shape=(204, ))\n",
    "    x = layers.Dense(size, activation='selu')(x_in)\n",
    "    x = layers.Dense(204, activation='sigmoid')(x)\n",
    "    model = Model(inputs=x_in, outputs=x)\n",
    "    model.compile(optimizer=Adam(learning_rate=0.001), loss='mse')\n",
    "\n",
    "    model.load_weights(f'test_{size}.h5')\n",
    "    \n",
    "    encoder = Model(model.input, model.layers[-2].output)\n",
    "\n",
    "    decoder_input = layers.Input(shape=(size,))\n",
    "    decoder = Model(decoder_input, model.layers[-1](decoder_input))\n",
    "\n",
    "    \n",
    "    xp = encoder.predict(xs)\n",
    "    x = generate_data(xp.T, window=48)\n",
    "    xp2 = xs\n",
    "    x2 = generate_data(xp2.T, window=48)\n",
    "\n",
    "    r = int(0.9*x.shape[-1])\n",
    "\n",
    "    err, err2 = [], []\n",
    "\n",
    "    for t in range(len(x) - 1):\n",
    "        x_o, x_r, _ = dmd(x[t], r)\n",
    "        x2_o, x2_r, _ = dmd(x2[t], r)\n",
    "\n",
    "        x_o = x2_o.T\n",
    "        x_r = x_r.T\n",
    "        x2_r = x2_r.T\n",
    "        x_r = decoder.predict(x_r)\n",
    "\n",
    "        err_ = per_error(x_o, x_r)\n",
    "        err2_ = per_error(x_o, x2_r)\n",
    "\n",
    "        err.append(err_)\n",
    "        err2.append(err2_)\n",
    "        print(f'{t}', end='\\r')\n",
    "    err = np.array(err)\n",
    "    err2 = np.array(err2)\n",
    "    err.sort()\n",
    "    err2.sort()\n",
    "    err = err[:-2]\n",
    "    err2 = err2[:-2]\n",
    "    return err.mean()"
   ]
  },
  {
   "cell_type": "code",
   "execution_count": null,
   "id": "b37b0e9a",
   "metadata": {},
   "outputs": [],
   "source": [
    "errr = []\n",
    "for size in n_components:\n",
    "    err = test(size)\n",
    "    errr.append(err)\n",
    "# print(f'AE: {err.mean():0.4g}+/-{err.std():0.4g}')\n",
    "# print(f'Ori: {err2.mean():0.4g}+/-{err2.std():0.4g}')"
   ]
  },
  {
   "cell_type": "code",
   "execution_count": null,
   "id": "609d9910",
   "metadata": {},
   "outputs": [],
   "source": [
    "fig, ax = plt.subplots()\n",
    "ax.plot(n_components, errr, label='Autoencoder')\n",
    "ax.plot(n_components, np.ones(len(n_components)) * 0.2526, label='Original')\n",
    "ax.set_xlabel('Latent Dimension')\n",
    "ax.set_ylabel('Error')\n",
    "ax.grid()\n",
    "ax.legend()\n",
    "#format_axis(ax)\n",
    "plt.savefig('ae.png', bbox_inches='tight', dpi=300)"
   ]
  },
  {
   "cell_type": "code",
   "execution_count": null,
   "id": "77c27f9c",
   "metadata": {
    "scrolled": true
   },
   "outputs": [],
   "source": [
    "n_components = np.arange(204, 150, -4)\n",
    "errr = []\n",
    "for n in n_components:\n",
    "    pca = PCA(n_components=n)\n",
    "\n",
    "    xp = pca.fit_transform(xs)\n",
    "\n",
    "    x = generate_data(xp.T, window=48)\n",
    "    xp2 = xs\n",
    "    x2 = generate_data(xp2.T, window=48)\n",
    "    # print(xp.shape)\n",
    "\n",
    "    r = int(0.9*x.shape[-1])\n",
    "\n",
    "    err, err2 = [], []\n",
    "\n",
    "    for t in range(len(x) - 1):\n",
    "        x_o, x_r, _ = dmd(x[t], r)\n",
    "        x2_o, x2_r, _ = dmd(x2[t], r)\n",
    "\n",
    "        x_o = x2_o.T\n",
    "        x_r = x_r.T\n",
    "        x2_r = x2_r.T\n",
    "        x_r = pca.inverse_transform(x_r)\n",
    "\n",
    "        err_ = per_error(x_o, x_r)\n",
    "        err2_ = per_error(x_o, x2_r)\n",
    "\n",
    "        err.append(err_)\n",
    "        err2.append(err2_)\n",
    "        print(f'{t}', end='\\r')\n",
    "    err = np.array(err)\n",
    "    err2 = np.array(err2)\n",
    "    err.sort()\n",
    "    err2.sort()\n",
    "    err = err[:-2]\n",
    "    err2 = err2[:-2]\n",
    "    errr.append(err.mean())\n",
    "    print(f'AE: {err.mean():0.4g}+/-{err.std():0.4g}')\n",
    "    print(f'Ori: {err2.mean():0.4g}+/-{err2.std():0.4g}')"
   ]
  },
  {
   "cell_type": "code",
   "execution_count": null,
   "id": "63086ad3",
   "metadata": {},
   "outputs": [],
   "source": [
    "fig, ax = plt.subplots()\n",
    "ax.plot(n_components, errr, label='PCA')\n",
    "ax.plot(n_components, np.ones(len(n_components)) * 0.2526, label='Original')\n",
    "ax.set_xlabel('# PC Components')\n",
    "ax.set_ylabel('Error')\n",
    "ax.grid()\n",
    "ax.legend()\n",
    "#format_axis(ax)\n",
    "plt.savefig('pca.png', bbox_inches='tight', dpi=300)"
   ]
  },
  {
   "cell_type": "code",
   "execution_count": null,
   "id": "9a2513e8",
   "metadata": {},
   "outputs": [],
   "source": [
    "pca = PCA(n_components=190)\n",
    "xp = pca.fit_transform(xs)"
   ]
  },
  {
   "cell_type": "code",
   "execution_count": null,
   "id": "6daef543",
   "metadata": {},
   "outputs": [],
   "source": [
    "fig, ax = plt.subplots()\n",
    "mat = np.corrcoef(xs.T)\n",
    "vmax = np.max(np.abs(mat))\n",
    "ax.matshow(mat, cmap='coolwarm', vmin=-vmax, vmax=vmax)\n",
    "#format_axis(ax)\n",
    "plt.savefig('corr.png', bbox_inches='tight', dpi=300)"
   ]
  },
  {
   "cell_type": "code",
   "execution_count": null,
   "id": "fb9879d6",
   "metadata": {},
   "outputs": [],
   "source": [
    "fig, ax = plt.subplots()\n",
    "mat = np.corrcoef(xp.T)\n",
    "vmax = np.max(np.abs(mat))\n",
    "ax.matshow(mat, cmap='coolwarm', vmin=-vmax, vmax=vmax)\n",
    "#format_axis(ax)\n",
    "plt.savefig('corr_pca.png', bbox_inches='tight', dpi=300)"
   ]
  },
  {
   "cell_type": "code",
   "execution_count": null,
   "id": "724736af",
   "metadata": {},
   "outputs": [],
   "source": [
    "size=200\n",
    "x_in = layers.Input(shape=(204, ))\n",
    "x = layers.Dense(size, activation='selu')(x_in)\n",
    "x = layers.Dense(204, activation='sigmoid')(x)\n",
    "model = Model(inputs=x_in, outputs=x)\n",
    "model.compile(optimizer=Adam(learning_rate=0.001), loss='mse')\n",
    "\n",
    "model.load_weights(f'test_{size}.h5')\n",
    "\n",
    "encoder = Model(model.input, model.layers[-2].output)\n",
    "\n",
    "decoder_input = layers.Input(shape=(size,))\n",
    "decoder = Model(decoder_input, model.layers[-1](decoder_input))\n",
    "\n",
    "\n",
    "xp2 = encoder.predict(xs)"
   ]
  },
  {
   "cell_type": "code",
   "execution_count": null,
   "id": "e1e0ab15",
   "metadata": {},
   "outputs": [],
   "source": [
    "fig, ax = plt.subplots()\n",
    "mat = np.corrcoef(xp2.T)\n",
    "vmax = np.max(np.abs(mat))\n",
    "ax.matshow(mat, cmap='coolwarm', vmin=-vmax, vmax=vmax)\n",
    "#format_axis(ax)\n",
    "plt.savefig('corr_ae.png', bbox_inches='tight', dpi=300)"
   ]
  },
  {
   "cell_type": "code",
   "execution_count": null,
   "id": "31f52aa4",
   "metadata": {},
   "outputs": [],
   "source": [
    "fig, ax = plt.subplots()\n",
    "ax.plot(xs[:, 0], label='Original')\n",
    "ax.set_xlabel('Time (hr)')\n",
    "ax.legend()\n",
    "#format_axis(ax)\n",
    "plt.savefig('signal.png', bbox_inches='tight', dpi=300)\n",
    "# ax.plot(xp[:, 0])\n",
    "# ax.plot(xp2[:, 0])"
   ]
  },
  {
   "cell_type": "code",
   "execution_count": null,
   "id": "30e0e401",
   "metadata": {},
   "outputs": [],
   "source": [
    "fig, ax = plt.subplots()\n",
    "ax.plot(xp2[:, 0], label='Autoencoder')\n",
    "ax.set_xlabel('Time (hr)')\n",
    "ax.legend()\n",
    "#format_axis(ax)\n",
    "plt.savefig('signal_ae.png', bbox_inches='tight', dpi=300)\n",
    "# ax.plot(xp[:, 0])\n",
    "# ax.plot(xp2[:, 0])"
   ]
  },
  {
   "cell_type": "code",
   "execution_count": null,
   "id": "0439ccd9",
   "metadata": {},
   "outputs": [],
   "source": [
    "fig, ax = plt.subplots()\n",
    "ax.plot(xp[:, 0], label='PCA')\n",
    "ax.set_xlabel('Time (hr)')\n",
    "ax.legend()\n",
    "#format_axis(ax)\n",
    "plt.savefig('signal_pca.png', bbox_inches='tight', dpi=300)\n",
    "# ax.plot(xp[:, 0])\n",
    "# ax.plot(xp2[:, 0])"
   ]
  },
  {
   "cell_type": "code",
   "execution_count": null,
   "id": "18e34c7a",
   "metadata": {},
   "outputs": [],
   "source": [
    "class Sampling(layers.Layer):\n",
    "    \"\"\"Uses (z_mean, z_log_var) to sample z, the vector encoding a digit.\"\"\"\n",
    "\n",
    "    def call(self, inputs):\n",
    "        z_mean, z_log_var = inputs\n",
    "        batch = tf.shape(z_mean)[0]\n",
    "        dim = tf.shape(z_mean)[1]\n",
    "        epsilon = tf.keras.backend.random_normal(shape=(batch, dim))\n",
    "        return z_mean + tf.exp(0.5 * z_log_var) * epsilon"
   ]
  },
  {
   "cell_type": "code",
   "execution_count": null,
   "id": "5d537125",
   "metadata": {},
   "outputs": [],
   "source": [
    "import numpy as np\n",
    "import tensorflow as tf\n",
    "from tensorflow import keras\n",
    "from tensorflow.keras import layers"
   ]
  },
  {
   "cell_type": "code",
   "execution_count": null,
   "id": "31efe3d2",
   "metadata": {},
   "outputs": [],
   "source": [
    "latent_dim = 102\n",
    "\n",
    "encoder_inputs = keras.Input(shape=(204, ))\n",
    "x = layers.Dense(102, activation=\"leaky_relu\")(encoder_inputs)\n",
    "z_mean = layers.Dense(latent_dim, name=\"z_mean\")(x)\n",
    "z_log_var = layers.Dense(latent_dim, name=\"z_log_var\")(x)\n",
    "z = Sampling()([z_mean, z_log_var])\n",
    "encoder = keras.Model(encoder_inputs, [z_mean, z_log_var, z], name=\"encoder\")\n",
    "# encoder.summary()"
   ]
  },
  {
   "cell_type": "code",
   "execution_count": null,
   "id": "4c0003c2",
   "metadata": {},
   "outputs": [],
   "source": [
    "latent_inputs = keras.Input(shape=(latent_dim,))\n",
    "decoder_outputs = layers.Dense(204, activation=\"sigmoid\")(latent_inputs)\n",
    "decoder = keras.Model(latent_inputs, decoder_outputs, name=\"decoder\")\n",
    "# decoder.summary()"
   ]
  },
  {
   "cell_type": "code",
   "execution_count": null,
   "id": "e3b37aba",
   "metadata": {},
   "outputs": [],
   "source": [
    "class VAE(keras.Model):\n",
    "    def __init__(self, encoder, decoder, **kwargs):\n",
    "        super(VAE, self).__init__(**kwargs)\n",
    "        self.encoder = encoder\n",
    "        self.decoder = decoder\n",
    "        self.total_loss_tracker = keras.metrics.Mean(name=\"total_loss\")\n",
    "        self.reconstruction_loss_tracker = keras.metrics.Mean(\n",
    "            name=\"reconstruction_loss\"\n",
    "        )\n",
    "        self.kl_loss_tracker = keras.metrics.Mean(name=\"kl_loss\")\n",
    "\n",
    "    @property\n",
    "    def metrics(self):\n",
    "        return [\n",
    "            self.total_loss_tracker,\n",
    "            self.reconstruction_loss_tracker,\n",
    "            self.kl_loss_tracker,\n",
    "        ]\n",
    "\n",
    "    def train_step(self, data):\n",
    "        with tf.GradientTape() as tape:\n",
    "            z_mean, z_log_var, z = self.encoder(data)\n",
    "            reconstruction = self.decoder(z)\n",
    "            reconstruction_loss = tf.reduce_mean(\n",
    "                tf.reduce_sum(\n",
    "                    keras.losses.binary_crossentropy(data, reconstruction)\n",
    "                )\n",
    "            )\n",
    "            kl_loss = -0.5 * (1 + z_log_var - tf.square(z_mean) - tf.exp(z_log_var))\n",
    "            kl_loss = tf.reduce_mean(tf.reduce_sum(kl_loss, axis=1))\n",
    "            total_loss = reconstruction_loss + kl_loss\n",
    "        grads = tape.gradient(total_loss, self.trainable_weights)\n",
    "        self.optimizer.apply_gradients(zip(grads, self.trainable_weights))\n",
    "        self.total_loss_tracker.update_state(total_loss)\n",
    "        self.reconstruction_loss_tracker.update_state(reconstruction_loss)\n",
    "        self.kl_loss_tracker.update_state(kl_loss)\n",
    "        return {\n",
    "            \"loss\": self.total_loss_tracker.result(),\n",
    "            \"reconstruction_loss\": self.reconstruction_loss_tracker.result(),\n",
    "            \"kl_loss\": self.kl_loss_tracker.result(),\n",
    "        }"
   ]
  },
  {
   "cell_type": "code",
   "execution_count": null,
   "id": "0e16e3ad",
   "metadata": {},
   "outputs": [],
   "source": [
    "vae = VAE(encoder, decoder)\n",
    "vae.compile(optimizer=keras.optimizers.Adam())\n",
    "vae.fit(x_train, epochs=500, batch_size=128)"
   ]
  },
  {
   "cell_type": "code",
   "execution_count": null,
   "id": "22177e3a",
   "metadata": {},
   "outputs": [],
   "source": [
    "x_pred = vae.decoder.predict(vae.encoder.predict(x_train)[0])"
   ]
  },
  {
   "cell_type": "code",
   "execution_count": null,
   "id": "5b58b7aa",
   "metadata": {},
   "outputs": [],
   "source": [
    "idx = 26\n",
    "plt.plot(x_pred[idx])\n",
    "plt.plot(x_train[idx])"
   ]
  },
  {
   "cell_type": "code",
   "execution_count": null,
   "id": "8d93b211",
   "metadata": {},
   "outputs": [],
   "source": [
    "(x_train, _), (x_test, _) = keras.datasets.mnist.load_data()\n",
    "mnist_digits = np.concatenate([x_train, x_test], axis=0)\n",
    "mnist_digits = np.expand_dims(mnist_digits, -1).astype(\"float32\") / 255"
   ]
  },
  {
   "cell_type": "code",
   "execution_count": null,
   "id": "66db9066",
   "metadata": {},
   "outputs": [],
   "source": [
    "mnist_digits.shape"
   ]
  },
  {
   "cell_type": "code",
   "execution_count": null,
   "id": "83cf0079",
   "metadata": {},
   "outputs": [],
   "source": [
    "xp = xs\n",
    "x = generate_data(xp.T, window=48)\n",
    "print(xp.shape)\n",
    "\n",
    "r = int(0.9*x.shape[-1])\n",
    "\n",
    "err = []\n",
    "\n",
    "for t in range(len(x) - 1):\n",
    "    if t != 40:\n",
    "        x_o, x_r, _ = dmd(x[t], r)\n",
    "        x_o = x_o.T\n",
    "        x_r = x_r.T\n",
    "\n",
    "    #     x_o = decoder.predict(x_o)\n",
    "    #     x_r = decoder.predict(x_r)\n",
    "        err_ = per_error(x_o, x_r)\n",
    "\n",
    "        err.append(err_)\n",
    "        print(f'{t}', end='\\r')\n",
    "err = np.array(err)\n",
    "print(f'Reconstruction Error: {err.mean():0.4g}+/-{err.std():0.4g}')"
   ]
  },
  {
   "cell_type": "code",
   "execution_count": null,
   "id": "63712bf1",
   "metadata": {},
   "outputs": [],
   "source": []
  },
  {
   "cell_type": "code",
   "execution_count": null,
   "id": "fd05cf1c",
   "metadata": {},
   "outputs": [],
   "source": [
    "plt.plot(err)\n",
    "print(np.argmax(err))"
   ]
  },
  {
   "cell_type": "code",
   "execution_count": null,
   "id": "b32f0201",
   "metadata": {},
   "outputs": [],
   "source": [
    "x_o, x_r, _ = dmd(x[40], r)\n",
    "x_o = x_o.T\n",
    "x_r = x_r.T"
   ]
  },
  {
   "cell_type": "code",
   "execution_count": null,
   "id": "ba73826e",
   "metadata": {},
   "outputs": [],
   "source": [
    "plt.plot(x_o[:, 2])\n",
    "plt.plot(x_r[:, 2])"
   ]
  },
  {
   "cell_type": "markdown",
   "id": "b5c82cd7",
   "metadata": {},
   "source": [
    "feature matrix (8760, 204) = (time, # features)\n",
    "\n",
    "previously, PCA --> hidden dimension --> DMD with truncation --> inverse transform\n",
    "\n",
    "tool \n",
    "1. can map to a hidden dimension\n",
    "2. have inverse transform\n",
    "\n",
    "\n",
    "tool 1: PCA\n",
    "tool 2: autoencoder"
   ]
  },
  {
   "cell_type": "markdown",
   "id": "b8eca531",
   "metadata": {},
   "source": [
    "autoencoder\n",
    "\n",
    "autoencoder --> (204 -> 32) -> 204 (f1)\n",
    "f1^(-1) 32-->204 "
   ]
  },
  {
   "cell_type": "code",
   "execution_count": null,
   "id": "eb69c23b",
   "metadata": {},
   "outputs": [],
   "source": []
  },
  {
   "cell_type": "code",
   "execution_count": null,
   "id": "02c6a33c",
   "metadata": {},
   "outputs": [],
   "source": [
    "xs.shape"
   ]
  },
  {
   "cell_type": "code",
   "execution_count": null,
   "id": "849f5abd",
   "metadata": {},
   "outputs": [],
   "source": [
    "import tensorflow as tf\n",
    "from tensorflow.keras.layers import Input, Dense\n",
    "from tensorflow.keras.optimizers import Adam\n",
    "from tensorflow.keras.models import Model\n",
    "from tensorflow.keras.callbacks import ModelCheckpoint"
   ]
  },
  {
   "cell_type": "code",
   "execution_count": null,
   "id": "bf29ed74",
   "metadata": {},
   "outputs": [],
   "source": [
    "def nn():\n",
    "    x_in = Input((204, ))\n",
    "    x = Dense(64, activation='relu')(x_in)\n",
    "    x = Dense(64, activation='relu')(x)\n",
    "    x_out = Dense(204, activation='linear')(x)\n",
    "    model = Model(inputs=x_in, outputs=x_out)\n",
    "    return model"
   ]
  },
  {
   "cell_type": "code",
   "execution_count": null,
   "id": "571ba069",
   "metadata": {},
   "outputs": [],
   "source": [
    "model = nn()\n",
    "model.compile(optimizer=Adam(), loss='mse')\n",
    "mcp = ModelCheckpoint('test.h5', mode='min')\n",
    "model.fit(xs, xs, epochs=100, batch_size=32, callbacks=[mcp])"
   ]
  },
  {
   "cell_type": "code",
   "execution_count": null,
   "id": "00d12cce",
   "metadata": {},
   "outputs": [],
   "source": []
  }
 ],
 "metadata": {
  "kernelspec": {
   "display_name": "Python 3",
   "language": "python",
   "name": "python3"
  },
  "language_info": {
   "codemirror_mode": {
    "name": "ipython",
    "version": 3
   },
   "file_extension": ".py",
   "mimetype": "text/x-python",
   "name": "python",
   "nbconvert_exporter": "python",
   "pygments_lexer": "ipython3",
   "version": "3.8.8"
  }
 },
 "nbformat": 4,
 "nbformat_minor": 5
}
