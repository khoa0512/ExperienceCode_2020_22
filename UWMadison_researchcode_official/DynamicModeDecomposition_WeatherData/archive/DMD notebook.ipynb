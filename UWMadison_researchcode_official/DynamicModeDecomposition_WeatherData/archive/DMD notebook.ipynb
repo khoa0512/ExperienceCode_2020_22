{
 "cells": [
  {
   "cell_type": "code",
   "execution_count": null,
   "id": "charged-still",
   "metadata": {},
   "outputs": [],
   "source": [
    "import pandas as pd\n",
    "import numpy as np\n",
    "import matplotlib.pyplot as plt \n",
    "from scipy.stats import linregress\n",
    "from sklearn.impute import KNNImputer as KNN\n",
    "\n",
    "params = {'legend.fontsize': 18,\n",
    "          'figure.figsize': (13, 10),\n",
    "         'axes.labelsize': 24,\n",
    "         'axes.titlesize':24,\n",
    "         'axes.linewidth':5,\n",
    "         'xtick.labelsize':20,\n",
    "         'ytick.labelsize':20}\n",
    "plt.rcParams.update(params)\n",
    "plt.style.use('seaborn-colorblind')\n",
    "plt.rcParams['pdf.fonttype'] = 42\n",
    "\n",
    "np.random.seed(123)"
   ]
  },
  {
   "cell_type": "markdown",
   "id": "induced-greenhouse",
   "metadata": {},
   "source": [
    "# Import data"
   ]
  },
  {
   "cell_type": "code",
   "execution_count": null,
   "id": "municipal-asset",
   "metadata": {},
   "outputs": [],
   "source": [
    "path = '/Users/sjiang87/AtmosphericData/data/Hourly_data_of_Beijing_from_Jinxi_interpolated.csv'\n",
    "df = pd.read_csv(path)\n",
    "df.head()"
   ]
  },
  {
   "cell_type": "markdown",
   "id": "regional-rubber",
   "metadata": {},
   "source": [
    "# Interpolate missing values and save separate .csv "
   ]
  },
  {
   "cell_type": "code",
   "execution_count": null,
   "id": "danish-mystery",
   "metadata": {},
   "outputs": [],
   "source": [
    "'''# define feature data to interpolate \n",
    "features = ['CO', 'NO2', 'O3', 'PM10', 'PM2.5', 'SO2', 'ISD_t2m', \\\n",
    "       'ISD_d2m', 'ISD_sp', 'ISD_rh', 'ISD_u', 'ISD_v', 'ERA5_d2m', 'ERA5_t2m', \\\n",
    "       'ERA5_rh', 'ERA5_sp', 'ERA5_u10', 'ERA5_v10', 'ERA5_blh']\n",
    "\n",
    "# Use 5 nearest rows which have a feature to fill in each row's missing features\n",
    "X_incomplete = np.array(df[features].values, np.float32)\n",
    "X_filled_knn = KNN(n_neighbors=5).fit_transform(X_incomplete)\n",
    "df_filled = df.copy()\n",
    "for j,feature in enumerate(features):\n",
    "    df_filled[feature] = X_filled_knn[:, j]\n",
    "\n",
    "# save interpolated data\n",
    "path = 'data/Hourly_data_of_Beijing_from_Jinxi_interpolated.csv'\n",
    "df_filled.to_csv(path, index=False)'''\n",
    "print(\"Already interpolated data.\")"
   ]
  },
  {
   "cell_type": "markdown",
   "id": "coastal-wesley",
   "metadata": {},
   "source": [
    "# Define input and target variables"
   ]
  },
  {
   "cell_type": "code",
   "execution_count": null,
   "id": "north-aircraft",
   "metadata": {},
   "outputs": [],
   "source": [
    "# define some random variables to track over time\n",
    "\n",
    "# inputs should include time and holiday as inputs, but these need to be encoded somehow\n",
    "# inputs = ['Time', 'Holiday', 'ERA5_d2m', 'ERA5_t2m', 'ERA5_rh', 'ERA5_sp', 'ERA5_u10', 'ERA5_v10', 'ERA5_blh']\n",
    "inputs = ['ERA5_d2m', 'ERA5_t2m', 'ERA5_rh', 'ERA5_sp', 'ERA5_u10', 'ERA5_v10', 'ERA5_blh']\n",
    "targets = ['SO2', 'PM2.5']\n",
    "df[targets]"
   ]
  },
  {
   "cell_type": "code",
   "execution_count": null,
   "id": "naval-mineral",
   "metadata": {},
   "outputs": [],
   "source": [
    "plt.hist(df[targets[0]].values)\n",
    "plt.yscale('log')\n",
    "plt.title(targets[0])"
   ]
  },
  {
   "cell_type": "code",
   "execution_count": null,
   "id": "suitable-boost",
   "metadata": {},
   "outputs": [],
   "source": [
    "plt.hist(df[targets[1]].values)\n",
    "plt.title(targets[1])\n",
    "plt.yscale('log')"
   ]
  },
  {
   "cell_type": "markdown",
   "id": "expired-montreal",
   "metadata": {},
   "source": [
    "# Example 1: Use DMD to model only target variables at single site"
   ]
  },
  {
   "cell_type": "markdown",
   "id": "hundred-canal",
   "metadata": {},
   "source": [
    "# Pick a site and pull X matrix"
   ]
  },
  {
   "cell_type": "code",
   "execution_count": null,
   "id": "married-trouble",
   "metadata": {},
   "outputs": [],
   "source": [
    "df = pd.read_csv(path)\n",
    "site_num = 0\n",
    "\n",
    "sites = df['Site'].values \n",
    "unique_sites = np.unique(sites)\n",
    "inds = sites == unique_sites[site_num]\n",
    "df = df[targets].iloc[inds].interpolate().copy()\n",
    "print(f\"Looking only at site {unique_sites[site_num]}\")\n",
    "df.head()"
   ]
  },
  {
   "cell_type": "markdown",
   "id": "stainless-coordinate",
   "metadata": {},
   "source": [
    "# Basic DMD model"
   ]
  },
  {
   "cell_type": "code",
   "execution_count": null,
   "id": "offshore-tracy",
   "metadata": {},
   "outputs": [],
   "source": [
    "# Define Xt: shape m x n, m = number of features, n = number of time points\n",
    "Xt = np.array(df.values.T, np.float32)\n",
    "m, n = Xt.shape\n",
    "X  = Xt[:, :-1]\n",
    "Xp = Xt[:, 1:]\n",
    "\n",
    "# solve for A where AX ~= Xp \n",
    "A = Xp @ np.linalg.pinv(X)"
   ]
  },
  {
   "cell_type": "markdown",
   "id": "instrumental-damage",
   "metadata": {},
   "source": [
    "# Plot random trajectory from training data"
   ]
  },
  {
   "cell_type": "code",
   "execution_count": null,
   "id": "bottom-pavilion",
   "metadata": {},
   "outputs": [],
   "source": [
    "def predict(A, X0, n):\n",
    "    Xpred = np.zeros([A.shape[0], n])\n",
    "    Xpred[:, 0] = X0\n",
    "    for i in range(1, n):\n",
    "        Xpred[:, i] = A@Xpred[:, i-1]\n",
    "    return Xpred\n",
    "\n",
    "# random starting point\n",
    "n_start = np.random.choice(np.arange(n))\n",
    "n_pred  = 24 # hours to predict\n",
    "Xpred   = predict(A, X[:, n_start], n_pred)\n",
    "Xtrue   = Xp[:, n_start-1:n_start+n_pred-1]\n",
    "\n",
    "plt.figure(figsize=(14, 6))\n",
    "for i in range(m):\n",
    "    plt.subplot(1,2,i+1)\n",
    "    plt.plot(Xpred[i], c=f'C{i}', label=f'Predicted')\n",
    "    plt.plot(Xtrue[i], c=f'C{i}', label=f'True', linestyle='--')\n",
    "    plt.title(f\"Prediction of {targets[i]}\")\n",
    "    plt.xlabel(\"hours ahead\")\n",
    "    plt.legend()\n",
    "plt.suptitle(\"Fit to data\\n\", fontsize=24)\n",
    "plt.tight_layout(rect=[0, 0.03, 1, 0.95])\n",
    "# plt.savefig(\"Figures/DMD_example_2.png\")\n",
    "plt.show()"
   ]
  },
  {
   "cell_type": "code",
   "execution_count": null,
   "id": "direct-nirvana",
   "metadata": {},
   "outputs": [],
   "source": [
    "# compute reconstruction of Xp\n",
    "Xr = A@X\n",
    "\n",
    "plt.figure(figsize=(14, 6))\n",
    "for i in range(m):\n",
    "    plt.subplot(1,2,i+1)\n",
    "    R = linregress(Xr[i], Xp[i]).rvalue\n",
    "    plt.scatter(Xr[i], Xp[i], label='R: {:.3f}'.format(R))\n",
    "    plt.title(f\"Prediction of {targets[i]}\")\n",
    "    plt.legend()\n",
    "plt.suptitle(\"Fit to data\\n\", fontsize=24)\n",
    "plt.tight_layout(rect=[0, 0.03, 1, 0.95])\n",
    "#plt.savefig(\"Figures/DMD_example_1.png\", dpi=100)\n",
    "plt.show()"
   ]
  },
  {
   "cell_type": "markdown",
   "id": "moving-portugal",
   "metadata": {},
   "source": [
    "# Example 2: Augmented DMD model"
   ]
  },
  {
   "cell_type": "code",
   "execution_count": null,
   "id": "better-listing",
   "metadata": {},
   "outputs": [],
   "source": [
    "# Define function to create augmented matrix \n",
    "def augment(Xt, l):\n",
    "    m, n = Xt.shape\n",
    "    Xt_aug = np.zeros([m*l, n-l+1])\n",
    "    for i in range(l):\n",
    "        Xt_aug[i*m:(i+1)*m] = Xt[:, i:n-l+i+1]\n",
    "    X_aug  = Xt_aug[:, :-1]\n",
    "    Xp_aug = Xt_aug[:, 1:] \n",
    "    return Xt_aug, X_aug, Xp_aug\n",
    "\n",
    "# Define Xt: shape m x n, m = number of features, n = number of time points\n",
    "l  = 12\n",
    "Xt = np.array(df.values.T, np.float32)\n",
    "m, n = Xt.shape\n",
    "X  = Xt[:, :-1]\n",
    "Xp = Xt[:, 1:]\n",
    "Xt_aug, X_aug, Xp_aug = augment(Xt, l)\n",
    "\n",
    "# solve for A where AX ~= Xp \n",
    "A_aug = Xp_aug @ np.linalg.pinv(X_aug)"
   ]
  },
  {
   "cell_type": "markdown",
   "id": "weird-piano",
   "metadata": {},
   "source": [
    "# Plot random trajectory from training data"
   ]
  },
  {
   "cell_type": "code",
   "execution_count": null,
   "id": "ready-charm",
   "metadata": {},
   "outputs": [],
   "source": [
    "def predict_aug(A, X, m, n):\n",
    "    Xpred = np.zeros([m, n])\n",
    "    Xpred[:, 0] = np.copy(X[-m:])\n",
    "    for i in range(1, n):\n",
    "        X = A@X \n",
    "        Xpred[:, i] = np.copy(X[-m:])\n",
    "    return Xpred\n",
    "\n",
    "# random starting point\n",
    "n_start = np.random.choice(np.arange(n))\n",
    "n_pred  = 24 # hours to predict\n",
    "Xpred   = predict_aug(A_aug, X_aug[:, n_start], m, n_pred)\n",
    "Xtrue   = X_aug[-m:, n_start:n_start+n_pred-1]\n",
    "\n",
    "plt.figure(figsize=(14, 6))\n",
    "for i in range(m):\n",
    "    plt.subplot(1,2,i+1)\n",
    "    plt.plot(Xpred[i], c=f'C{i}', label=f'Predicted')\n",
    "    plt.plot(Xtrue[i], c=f'C{i}', label=f'True', linestyle='--')\n",
    "    plt.title(f\"Prediction of {targets[i]}\")\n",
    "    plt.xlabel(\"hours ahead\")\n",
    "    plt.legend()\n",
    "plt.suptitle(f\"Fit to data (l={l})\", fontsize=24)\n",
    "plt.tight_layout(rect=[0, 0.03, 1, 0.95])\n",
    "plt.show()"
   ]
  },
  {
   "cell_type": "code",
   "execution_count": null,
   "id": "sunset-authorization",
   "metadata": {},
   "outputs": [],
   "source": [
    "l_list = [1, 12, 24]\n",
    "\n",
    "Xt = np.array(df.values.T, np.float32)\n",
    "m, n = Xt.shape\n",
    "X  = Xt[:, :-1]\n",
    "Xp = Xt[:, 1:]\n",
    "\n",
    "plt.figure(figsize=(14, 10))\n",
    "k = 0\n",
    "for l in l_list:\n",
    "    \n",
    "    Xt_aug, X_aug, Xp_aug = augment(Xt, l)\n",
    "\n",
    "    # solve for A where AX ~= Xp \n",
    "    A_aug = Xp_aug @ np.linalg.pinv(X_aug)\n",
    "    # compute reconstruction of Xp\n",
    "    Xr = (A_aug@X_aug)[-m:, :]\n",
    "\n",
    "    for i in range(m):\n",
    "        plt.subplot(3,2,k+1)\n",
    "        k += 1\n",
    "        R = linregress(Xr[i], Xp_aug[-m:, :][i]).rvalue\n",
    "        plt.scatter(Xr[i], Xp_aug[-m:, :][i], label='R: {:.3f}'.format(R))\n",
    "        plt.title(f\"Prediction of {targets[i]}, l={l}\")\n",
    "        plt.legend(loc='upper left')\n",
    "        \n",
    "plt.tight_layout(rect=[0, 0.03, 1, 0.95])\n",
    "plt.savefig(\"Figures/DMD_example_3.png\", dpi=100)\n",
    "plt.show()"
   ]
  },
  {
   "cell_type": "markdown",
   "id": "empirical-sustainability",
   "metadata": {},
   "source": [
    "# Example 3: DMDc model $x_{k+1} = Ax_{k} + Bu_{k}$"
   ]
  },
  {
   "cell_type": "code",
   "execution_count": null,
   "id": "ancient-curve",
   "metadata": {},
   "outputs": [],
   "source": [
    "df = pd.read_csv(path)\n",
    "site_num = 0\n",
    "\n",
    "sites = df['Site'].values \n",
    "unique_sites = np.unique(sites)\n",
    "inds = sites == unique_sites[site_num]\n",
    "dfX = df[targets].iloc[inds].copy()\n",
    "dfU = df[inputs].iloc[inds].copy()\n",
    "print(f\"Looking only at site {unique_sites[site_num]}\")\n",
    "\n",
    "# Set up matrices Xp, X, L \n",
    "Xt = np.array(dfX.values.T, np.float32)\n",
    "Lt = np.array(dfU.values.T, np.float32)\n",
    "\n",
    "# standardize output \n",
    "Xt = Xt.T\n",
    "Xt = (Xt - np.mean(Xt, 0)) / np.std(Xt, 0)\n",
    "Xt = Xt.T\n",
    "\n",
    "# standardize control input \n",
    "Lt = Lt.T\n",
    "Lt = (Lt - np.mean(Lt, 0)) / np.std(Lt, 0)\n",
    "Lt = Lt.T\n",
    "\n",
    "m, n = Xt.shape\n",
    "X  = Xt[:, :-1]\n",
    "L  = Lt[:, :-1]\n",
    "Xp = Xt[:, 1:]\n",
    "\n",
    "def DMDc(Xp, X, L):\n",
    "    n = X.shape[0]\n",
    "    l = L.shape[0]\n",
    "    # Gamma matrix = [X; L]\n",
    "    Gamma = np.concatenate((X, L))\n",
    "    U, S, Vh = np.linalg.svd(Gamma, full_matrices=False)\n",
    "    U1 = U[:n, :]\n",
    "    U2 = U[n:, :]\n",
    "    A = Xp@Vh.T/S@U1.T\n",
    "    B = Xp@Vh.T/S@U2.T\n",
    "    return A, B\n",
    "\n",
    "# run DMD w/ control!\n",
    "A, B = DMDc(Xp, X, L)"
   ]
  },
  {
   "cell_type": "markdown",
   "id": "breathing-pattern",
   "metadata": {},
   "source": [
    "# Plot trajectory using DMDc "
   ]
  },
  {
   "cell_type": "code",
   "execution_count": null,
   "id": "single-juice",
   "metadata": {},
   "outputs": [],
   "source": [
    "def predict(A, B, X0, U, n):\n",
    "    Xpred = np.zeros([A.shape[0], n])\n",
    "    Xpred[:, 0] = X0\n",
    "    for i in range(1, n):\n",
    "        Xpred[:, i] = A@Xpred[:, i-1] + B@U[:, i-1]\n",
    "    return Xpred\n",
    "\n",
    "# random starting point\n",
    "n_start = np.random.choice(np.arange(n))\n",
    "n_pred  = 24 # hours to predict\n",
    "Xpred   = predict(A, B, X[:, n_start], L[:, n_start:(n_start+n_pred)], n_pred)\n",
    "Xtrue   = X[:, n_start:n_start+n_pred]\n",
    "\n",
    "plt.figure(figsize=(14, 6))\n",
    "for i in range(m):\n",
    "    plt.subplot(1,2,i+1)\n",
    "    plt.plot(Xpred[i], c=f'C{i}', label=f'Predicted')\n",
    "    plt.plot(Xtrue[i], c=f'C{i}', label=f'True', linestyle='--')\n",
    "    plt.title(f\"Prediction of {targets[i]}\")\n",
    "    plt.xlabel(\"hours ahead\")\n",
    "    plt.legend()\n",
    "plt.suptitle(\"Fit to data\\n\", fontsize=24)\n",
    "plt.tight_layout(rect=[0, 0.03, 1, 0.95])\n",
    "#plt.savefig(\"Figures/DMD_example_5.png\")\n",
    "plt.show()"
   ]
  },
  {
   "cell_type": "markdown",
   "id": "encouraging-involvement",
   "metadata": {},
   "source": [
    "# DMDc reconstruction "
   ]
  },
  {
   "cell_type": "code",
   "execution_count": null,
   "id": "international-discipline",
   "metadata": {},
   "outputs": [],
   "source": [
    "# compute reconstruction of Xp\n",
    "Xr = A@X + B@L\n",
    "\n",
    "plt.figure(figsize=(14, 6))\n",
    "for i in range(m):\n",
    "    plt.subplot(1,2,i+1)\n",
    "    R = linregress(Xr[i], Xp[i]).rvalue\n",
    "    plt.scatter(Xr[i], Xp[i], label='R: {:.3f}'.format(R))\n",
    "    plt.title(f\"Prediction of {targets[i]}\")\n",
    "    plt.legend()\n",
    "plt.suptitle(\"Fit to data\\n\", fontsize=24)\n",
    "plt.tight_layout(rect=[0, 0.03, 1, 0.95])\n",
    "#plt.savefig(\"Figures/DMD_example_4.png\", dpi=100)\n",
    "plt.show()"
   ]
  },
  {
   "cell_type": "markdown",
   "id": "stupid-bedroom",
   "metadata": {},
   "source": [
    "# Analyze B matrix"
   ]
  },
  {
   "cell_type": "code",
   "execution_count": null,
   "id": "exposed-electricity",
   "metadata": {},
   "outputs": [],
   "source": [
    "for i, target in enumerate(targets):\n",
    "    fig = plt.figure()\n",
    "    ax = fig.add_subplot(111)\n",
    "\n",
    "    ax.bar(range(L.shape[0]), B[i, :], align='center')\n",
    "    ax.set_xticks(range(L.shape[0]))\n",
    "    ax.set_xticklabels(inputs)\n",
    "    plt.xticks(rotation=45)\n",
    "    plt.ylabel(\"Control coefficient\")\n",
    "    plt.title(f\"Control influence on {target}\")\n",
    "    plt.savefig(f\"DMD_ControlEffect_{target}.png\", dpi=100)\n",
    "    plt.show()"
   ]
  },
  {
   "cell_type": "markdown",
   "id": "hidden-sphere",
   "metadata": {},
   "source": [
    "# Example 4: DMDc with delay embedding"
   ]
  },
  {
   "cell_type": "code",
   "execution_count": null,
   "id": "micro-shannon",
   "metadata": {},
   "outputs": [],
   "source": [
    "def DMDc(Xp, X, L):\n",
    "    n = X.shape[0]\n",
    "    l = L.shape[0]\n",
    "    # Gamma matrix = [X; L]\n",
    "    Gamma = np.concatenate((X, L))\n",
    "    U, S, Vh = np.linalg.svd(Gamma, full_matrices=False)\n",
    "    U1 = U[:n, :]\n",
    "    U2 = U[n:, :]\n",
    "    A = Xp@Vh.T/S@U1.T\n",
    "    B = Xp@Vh.T/S@U2.T\n",
    "    return A, B\n",
    "\n",
    "# Define function to create augmented matrix \n",
    "def augment(Xt, l):\n",
    "    m, n = Xt.shape\n",
    "    Xt_aug = np.zeros([m*l, n-l+1])\n",
    "    for i in range(l):\n",
    "        Xt_aug[i*m:(i+1)*m] = Xt[:, i:n-l+i+1]\n",
    "    X_aug  = Xt_aug[:, :-1]\n",
    "    Xp_aug = Xt_aug[:, 1:] \n",
    "    return Xt_aug, X_aug, Xp_aug\n",
    "\n",
    "# import data\n",
    "df = pd.read_csv(path)\n",
    "site_num = 0\n",
    "sites = df['Site'].values \n",
    "unique_sites = np.unique(sites)\n",
    "inds = sites == unique_sites[site_num]\n",
    "dfX = df[targets].iloc[inds].copy()\n",
    "dfU = df[inputs].iloc[inds].copy()\n",
    "print(f\"Looking only at site {unique_sites[site_num]}\")\n",
    "\n",
    "# Define time lag parameter (hrs)\n",
    "l  = 12\n",
    "\n",
    "# Set up matrices Xp, X, L \n",
    "Xt = np.array(dfX.values.T, np.float32)\n",
    "Lt = np.array(dfU.values.T, np.float32)\n",
    "m, n = Xt.shape\n",
    "Xt_aug, X_aug, Xp_aug = augment(Xt, l)\n",
    "Lt_aug, L_aug, Lp_aug = augment(Lt, l)\n",
    "\n",
    "# run DMD w/ control!\n",
    "A, B = DMDc(Xp_aug, X_aug, L_aug)\n",
    "[s.shape for s in [Xt_aug, X_aug, Xp_aug, Lt_aug, L_aug, Lp_aug]]"
   ]
  },
  {
   "cell_type": "markdown",
   "id": "structured-compound",
   "metadata": {},
   "source": [
    "# Plot trajectory"
   ]
  },
  {
   "cell_type": "code",
   "execution_count": null,
   "id": "balanced-protest",
   "metadata": {},
   "outputs": [],
   "source": [
    "def predict_aug(A, B, X, L, m, n):\n",
    "    Xpred = np.zeros([m, n])\n",
    "    Xpred[:, 0] = np.copy(X[-m:])\n",
    "    for i in range(1, n):\n",
    "        X = A@X + B@L[:, i]\n",
    "        Xpred[:, i] = np.copy(X[-m:])\n",
    "    return Xpred\n",
    "\n",
    "# random starting point\n",
    "n_start = np.random.choice(np.arange(n))\n",
    "n_pred  = 24 # hours to predict\n",
    "Xpred   = predict_aug(A, B, X_aug[:, n_start], L_aug[:, n_start:n_start+n_pred], m, n_pred)\n",
    "Xtrue   = X_aug[-m:, n_start:n_start+n_pred-1]\n",
    "print([Xpred.shape, Xtrue.shape])\n",
    "\n",
    "plt.figure(figsize=(14, 6))\n",
    "for i in range(m):\n",
    "    plt.subplot(1,2,i+1)\n",
    "    plt.plot(Xpred[i], c=f'C{i}', label=f'Predicted')\n",
    "    plt.plot(Xtrue[i], c=f'C{i}', label=f'True', linestyle='--')\n",
    "    plt.title(f\"Prediction of {targets[i]}\")\n",
    "    plt.xlabel(\"hours ahead\")\n",
    "    plt.legend()\n",
    "plt.suptitle(f\"Fit to data (l={l})\", fontsize=24)\n",
    "plt.tight_layout(rect=[0, 0.03, 1, 0.95])\n",
    "# plt.savefig(\"Figures/DMD_example_7.png\", dpi=100)\n",
    "plt.show()"
   ]
  },
  {
   "cell_type": "code",
   "execution_count": null,
   "id": "wrong-reward",
   "metadata": {},
   "outputs": [],
   "source": [
    "# define list of time lags to try \n",
    "l_list = [1, 12, 24]\n",
    "\n",
    "# Set up matrices Xp, X, L \n",
    "Xt = np.array(dfX.values.T, np.float32)\n",
    "Lt = np.array(dfU.values.T, np.float32)\n",
    "m, n = Xt.shape\n",
    "\n",
    "plt.figure(figsize=(14, 10))\n",
    "k = 0\n",
    "for l in l_list:\n",
    "    # augment X and L\n",
    "    Xt_aug, X_aug, Xp_aug = augment(Xt, l)\n",
    "    Lt_aug, L_aug, Lp_aug = augment(Lt, l)\n",
    "\n",
    "    # run DMD w/ control!\n",
    "    A, B = DMDc(Xp_aug, X_aug, L_aug)\n",
    "    \n",
    "    # compute reconstruction of Xp\n",
    "    Xr = (A@X_aug + B@L_aug)[-m:, :]\n",
    "\n",
    "    for i in range(m):\n",
    "        plt.subplot(3,2,k+1)\n",
    "        k += 1\n",
    "        R = linregress(Xr[i], Xp_aug[-m:, :][i]).rvalue\n",
    "        plt.scatter(Xr[i], Xp_aug[-m:, :][i], label='R: {:.3f}'.format(R))\n",
    "        plt.title(f\"Prediction of {targets[i]}, l={l}\")\n",
    "        plt.legend(loc='upper left')\n",
    "        \n",
    "plt.tight_layout(rect=[0, 0.03, 1, 0.95])\n",
    "# plt.savefig(\"Figures/DMD_example_6.png\", dpi=100)\n",
    "plt.show()"
   ]
  },
  {
   "cell_type": "markdown",
   "id": "executive-defeat",
   "metadata": {},
   "source": [
    "# Validate model on held-out data"
   ]
  }
 ],
 "metadata": {
  "kernelspec": {
   "display_name": "Python 3",
   "language": "python",
   "name": "python3"
  },
  "language_info": {
   "codemirror_mode": {
    "name": "ipython",
    "version": 3
   },
   "file_extension": ".py",
   "mimetype": "text/x-python",
   "name": "python",
   "nbconvert_exporter": "python",
   "pygments_lexer": "ipython3",
   "version": "3.8.8"
  }
 },
 "nbformat": 4,
 "nbformat_minor": 5
}
