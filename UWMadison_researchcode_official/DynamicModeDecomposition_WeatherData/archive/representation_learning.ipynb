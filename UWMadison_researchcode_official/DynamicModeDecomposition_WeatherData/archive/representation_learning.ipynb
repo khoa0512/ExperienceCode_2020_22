{
 "cells": [
  {
   "cell_type": "code",
   "execution_count": 1,
   "id": "c3b14ab9",
   "metadata": {},
   "outputs": [],
   "source": [
    "%config Completer.use_jedi = False\n",
    "import numpy as np\n",
    "import pandas as pd\n",
    "import sklearn.preprocessing as skp\n",
    "from sklearn.metrics import mean_squared_error\n",
    "import matplotlib.pyplot as plt\n",
    "import matplotlib.patches as patches\n",
    "from mpl_toolkits.axes_grid1 import make_axes_locatable\n",
    "import matplotlib\n",
    "def rcparams(r=1):\n",
    "    matplotlib.rcParams['font.family'] = 'sans-serif'\n",
    "    matplotlib.rcParams['font.size'] = 25 * r\n",
    "    matplotlib.rcParams['xtick.labelsize'] = 20 * r\n",
    "    matplotlib.rcParams['ytick.labelsize'] = 20 * r\n",
    "    matplotlib.rcParams['axes.labelsize'] = 25 * r\n",
    "    matplotlib.rcParams['legend.title_fontsize'] = 17 * r\n",
    "    matplotlib.rcParams['legend.fontsize'] = 17 * r\n",
    "    matplotlib.rcParams['axes.axisbelow'] = True\n",
    "    matplotlib.rcParams['figure.figsize'] = [6 * r, 6 * r]\n",
    "\n",
    "\n",
    "# format axis\n",
    "def format_axis(ax):\n",
    "    from matplotlib.ticker import (AutoMinorLocator)\n",
    "    ax.xaxis.set_minor_locator(AutoMinorLocator())\n",
    "    ax.yaxis.set_minor_locator(AutoMinorLocator())\n",
    "    ax.tick_params(which='both', width=2)\n",
    "    ax.tick_params(which='major', length=6)\n",
    "    ax.tick_params(which='minor', length=3)\n",
    "    ax.locator_params(axis='x', nbins=5)\n",
    "    ax.locator_params(axis='y', nbins=5)\n",
    "    for axis in ['top', 'bottom', 'left', 'right']:\n",
    "        ax.spines[axis].set_linewidth(1.5)\n",
    "        \n",
    "def format_axis_im(ax):\n",
    "    from matplotlib.ticker import (AutoMinorLocator)\n",
    "    ax.xaxis.set_minor_locator(AutoMinorLocator())\n",
    "    ax.yaxis.set_minor_locator(AutoMinorLocator())\n",
    "    ax.tick_params(which='both', width=2)\n",
    "    ax.tick_params(which='major', length=6)\n",
    "    ax.tick_params(which='minor', length=0)\n",
    "#     ax.locator_params(axis='x', nbins=5)\n",
    "#     ax.locator_params(axis='y', nbins=5)\n",
    "    for axis in ['top', 'bottom', 'left', 'right']:\n",
    "        ax.spines[axis].set_linewidth(1.5)"
   ]
  },
  {
   "cell_type": "code",
   "execution_count": 2,
   "id": "c5d01bc7",
   "metadata": {},
   "outputs": [],
   "source": [
    "import numpy as np\n",
    "import matplotlib.pyplot as plt\n",
    "\n",
    "from scipy.ndimage import convolve\n",
    "from sklearn import linear_model, datasets, metrics\n",
    "from sklearn.model_selection import train_test_split\n",
    "from sklearn.neural_network import BernoulliRBM\n",
    "from sklearn.pipeline import Pipeline\n",
    "from sklearn.preprocessing import minmax_scale\n",
    "from sklearn.base import clone"
   ]
  },
  {
   "cell_type": "code",
   "execution_count": 3,
   "id": "6191b1dc",
   "metadata": {},
   "outputs": [],
   "source": [
    "# #############################################################################\n",
    "# Setting up\n",
    "\n",
    "\n",
    "def nudge_dataset(X, Y):\n",
    "    \"\"\"\n",
    "    This produces a dataset 5 times bigger than the original one,\n",
    "    by moving the 8x8 images in X around by 1px to left, right, down, up\n",
    "    \"\"\"\n",
    "    direction_vectors = [\n",
    "        [[0, 1, 0], [0, 0, 0], [0, 0, 0]],\n",
    "        [[0, 0, 0], [1, 0, 0], [0, 0, 0]],\n",
    "        [[0, 0, 0], [0, 0, 1], [0, 0, 0]],\n",
    "        [[0, 0, 0], [0, 0, 0], [0, 1, 0]],\n",
    "    ]\n",
    "\n",
    "    def shift(x, w):\n",
    "        return convolve(x.reshape((8, 8)), mode=\"constant\", weights=w).ravel()\n",
    "\n",
    "    X = np.concatenate(\n",
    "        [X] + [np.apply_along_axis(shift, 1, X, vector) for vector in direction_vectors]\n",
    "    )\n",
    "    Y = np.concatenate([Y for _ in range(5)], axis=0)\n",
    "    return X, Y\n",
    "\n",
    "\n",
    "# Load Data\n",
    "X, y = datasets.load_digits(return_X_y=True)\n",
    "X = np.asarray(X, \"float32\")\n",
    "X, Y = nudge_dataset(X, y)\n",
    "X = minmax_scale(X, feature_range=(0, 1))  # 0-1 scaling\n",
    "\n",
    "X_train, X_test, Y_train, Y_test = train_test_split(X, Y, test_size=0.2, random_state=0)\n"
   ]
  },
  {
   "cell_type": "code",
   "execution_count": 4,
   "id": "0b8371d7",
   "metadata": {},
   "outputs": [],
   "source": [
    "# Models we will use\n",
    "logistic = linear_model.LogisticRegression(solver=\"newton-cg\", tol=1)\n",
    "rbm = BernoulliRBM(random_state=0, verbose=True)\n",
    "\n",
    "rbm_features_classifier = Pipeline(steps=[(\"rbm\", rbm), (\"logistic\", logistic)])"
   ]
  },
  {
   "cell_type": "code",
   "execution_count": 5,
   "id": "3dcd8fa7",
   "metadata": {},
   "outputs": [
    {
     "name": "stdout",
     "output_type": "stream",
     "text": [
      "[BernoulliRBM] Iteration 1, pseudo-likelihood = -25.57, time = 0.11s\n",
      "[BernoulliRBM] Iteration 2, pseudo-likelihood = -23.68, time = 0.14s\n",
      "[BernoulliRBM] Iteration 3, pseudo-likelihood = -22.74, time = 0.14s\n",
      "[BernoulliRBM] Iteration 4, pseudo-likelihood = -21.83, time = 0.13s\n",
      "[BernoulliRBM] Iteration 5, pseudo-likelihood = -21.62, time = 0.14s\n",
      "[BernoulliRBM] Iteration 6, pseudo-likelihood = -20.88, time = 0.13s\n",
      "[BernoulliRBM] Iteration 7, pseudo-likelihood = -20.83, time = 0.13s\n",
      "[BernoulliRBM] Iteration 8, pseudo-likelihood = -20.56, time = 0.13s\n",
      "[BernoulliRBM] Iteration 9, pseudo-likelihood = -20.27, time = 0.13s\n",
      "[BernoulliRBM] Iteration 10, pseudo-likelihood = -20.17, time = 0.13s\n"
     ]
    },
    {
     "data": {
      "text/plain": [
       "LogisticRegression(C=100.0, solver='newton-cg', tol=1)"
      ]
     },
     "execution_count": 5,
     "metadata": {},
     "output_type": "execute_result"
    }
   ],
   "source": [
    "# #############################################################################\n",
    "# Training\n",
    "\n",
    "# Hyper-parameters. These were set by cross-validation,\n",
    "# using a GridSearchCV. Here we are not performing cross-validation to\n",
    "# save time.\n",
    "rbm.learning_rate = 0.06\n",
    "rbm.n_iter = 10\n",
    "# More components tend to give better prediction performance, but larger\n",
    "# fitting time\n",
    "rbm.n_components = 100\n",
    "logistic.C = 6000\n",
    "\n",
    "# Training RBM-Logistic Pipeline\n",
    "rbm_features_classifier.fit(X_train, Y_train)\n",
    "\n",
    "# Training the Logistic regression classifier directly on the pixel\n",
    "raw_pixel_classifier = clone(logistic)\n",
    "raw_pixel_classifier.C = 100.0\n",
    "raw_pixel_classifier.fit(X_train, Y_train)\n"
   ]
  },
  {
   "cell_type": "code",
   "execution_count": 6,
   "id": "2c9ac44f",
   "metadata": {},
   "outputs": [
    {
     "name": "stdout",
     "output_type": "stream",
     "text": [
      "Logistic regression using RBM features:\n",
      "              precision    recall  f1-score   support\n",
      "\n",
      "           0       0.99      0.98      0.99       174\n",
      "           1       0.91      0.95      0.93       184\n",
      "           2       0.94      0.95      0.94       166\n",
      "           3       0.93      0.89      0.91       194\n",
      "           4       0.95      0.95      0.95       186\n",
      "           5       0.95      0.91      0.93       181\n",
      "           6       0.98      0.96      0.97       207\n",
      "           7       0.94      0.98      0.96       154\n",
      "           8       0.89      0.90      0.89       182\n",
      "           9       0.87      0.91      0.89       169\n",
      "\n",
      "    accuracy                           0.94      1797\n",
      "   macro avg       0.94      0.94      0.94      1797\n",
      "weighted avg       0.94      0.94      0.94      1797\n",
      "\n",
      "\n",
      "Logistic regression using raw pixel features:\n",
      "              precision    recall  f1-score   support\n",
      "\n",
      "           0       0.90      0.92      0.91       174\n",
      "           1       0.60      0.58      0.59       184\n",
      "           2       0.75      0.85      0.80       166\n",
      "           3       0.78      0.78      0.78       194\n",
      "           4       0.81      0.84      0.83       186\n",
      "           5       0.76      0.76      0.76       181\n",
      "           6       0.90      0.87      0.89       207\n",
      "           7       0.85      0.88      0.86       154\n",
      "           8       0.67      0.58      0.62       182\n",
      "           9       0.75      0.76      0.75       169\n",
      "\n",
      "    accuracy                           0.78      1797\n",
      "   macro avg       0.78      0.78      0.78      1797\n",
      "weighted avg       0.78      0.78      0.78      1797\n",
      "\n",
      "\n"
     ]
    }
   ],
   "source": [
    "# #############################################################################\n",
    "# Evaluation\n",
    "\n",
    "Y_pred = rbm_features_classifier.predict(X_test)\n",
    "print(\n",
    "    \"Logistic regression using RBM features:\\n%s\\n\"\n",
    "    % (metrics.classification_report(Y_test, Y_pred))\n",
    ")\n",
    "\n",
    "Y_pred = raw_pixel_classifier.predict(X_test)\n",
    "print(\n",
    "    \"Logistic regression using raw pixel features:\\n%s\\n\"\n",
    "    % (metrics.classification_report(Y_test, Y_pred))\n",
    ")"
   ]
  },
  {
   "cell_type": "code",
   "execution_count": 7,
   "id": "de59e850",
   "metadata": {},
   "outputs": [
    {
     "data": {
      "image/png": "[encoded data removed]",
      "text/plain": [
       "<Figure size 302.4x288 with 100 Axes>"
      ]
     },
     "metadata": {},
     "output_type": "display_data"
    }
   ],
   "source": [
    "# #############################################################################\n",
    "# Plotting\n",
    "\n",
    "plt.figure(figsize=(4.2, 4))\n",
    "for i, comp in enumerate(rbm.components_):\n",
    "    plt.subplot(10, 10, i + 1)\n",
    "    plt.imshow(comp.reshape((8, 8)), cmap=plt.cm.gray_r, interpolation=\"nearest\")\n",
    "    plt.xticks(())\n",
    "    plt.yticks(())\n",
    "plt.suptitle(\"100 components extracted by RBM\", fontsize=16)\n",
    "plt.subplots_adjust(0.08, 0.02, 0.92, 0.85, 0.08, 0.23)\n",
    "\n",
    "plt.show()"
   ]
  },
  {
   "cell_type": "code",
   "execution_count": null,
   "id": "e574940a",
   "metadata": {},
   "outputs": [],
   "source": []
  }
 ],
 "metadata": {
  "kernelspec": {
   "display_name": "Python 3",
   "language": "python",
   "name": "python3"
  },
  "language_info": {
   "codemirror_mode": {
    "name": "ipython",
    "version": 3
   },
   "file_extension": ".py",
   "mimetype": "text/x-python",
   "name": "python",
   "nbconvert_exporter": "python",
   "pygments_lexer": "ipython3",
   "version": "3.8.8"
  }
 },
 "nbformat": 4,
 "nbformat_minor": 5
}
