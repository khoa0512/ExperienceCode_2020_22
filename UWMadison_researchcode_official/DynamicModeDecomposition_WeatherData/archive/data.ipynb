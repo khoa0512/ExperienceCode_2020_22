{
 "cells": [
  {
   "cell_type": "code",
   "execution_count": null,
   "id": "8724b3c3-f65e-43f3-b542-42bee3efac35",
   "metadata": {},
   "outputs": [],
   "source": [
    "%config Completer.use_jedi = False\n",
    "import glob\n",
    "import matplotlib\n",
    "import pickle\n",
    "import matplotlib.pyplot as plt\n",
    "import numpy as np\n",
    "import seaborn as sn\n",
    "import pandas as pd\n",
    "import scipy as sp\n",
    "import sklearn.preprocessing as skp\n",
    "import sklearn.model_selection as skms\n",
    "import sklearn.metrics as skm\n",
    "\n",
    "def rcparams(r=0.5):\n",
    "    matplotlib.rcParams['font.size'] = 25 * r\n",
    "    matplotlib.rcParams['xtick.labelsize'] = 20 * r\n",
    "    matplotlib.rcParams['ytick.labelsize'] = 20 * r\n",
    "    matplotlib.rcParams['axes.labelsize'] = 25 * r\n",
    "    matplotlib.rcParams['legend.title_fontsize'] = 17 * r\n",
    "    matplotlib.rcParams['legend.fontsize'] = 17 * r\n",
    "    matplotlib.rcParams['axes.axisbelow'] = True\n",
    "    matplotlib.rcParams['figure.figsize'] = [6 * r, 6 * r]\n",
    "\n",
    "# format axis\n",
    "\n",
    "def format_axis(ax):\n",
    "    from matplotlib.ticker import (AutoMinorLocator)\n",
    "    ax.xaxis.set_minor_locator(AutoMinorLocator())\n",
    "    ax.yaxis.set_minor_locator(AutoMinorLocator())\n",
    "    ax.tick_params(which='both', width=2)\n",
    "    ax.tick_params(which='major', length=6)\n",
    "    ax.tick_params(which='minor', length=3)\n",
    "    ax.locator_params(axis='x', nbins=5)\n",
    "    ax.locator_params(axis='y', nbins=5)\n",
    "    for axis in ['top', 'bottom', 'left', 'right']:\n",
    "        ax.spines[axis].set_linewidth(1.5)\n"
   ]
  },
  {
   "cell_type": "code",
   "execution_count": null,
   "id": "49a3dc2e-1205-4390-974e-215275ac0a2a",
   "metadata": {},
   "outputs": [],
   "source": [
    "path = '/Users/sjiang87/data_weight/atmospheric/data/Hourly_data_of_Beijing_from_Jinxi_interpolated.csv'\n",
    "df = pd.read_csv(path)\n",
    "df.head()\n",
    "# check naminghttps://confluence.ecmwf.int/display/CKB/ERA5%3A+data+documentation\n",
    "# https://climserv.ipsl.polytechnique.fr/fr/les-donnees/era-5-4.html\n",
    "keys = ['ERA5_d2m', 'ERA5_t2m', 'ERA5_rh', 'ERA5_sp', 'ERA5_u10', 'ERA5_v10', 'ERA5_blh', 'SO2', 'PM2.5']\n",
    "names = ['Dew point at 2 meters',\n",
    "         'Temperature at 2 meters',\n",
    "         'Relative humidity',\n",
    "         'Surface pressure', \n",
    "         '10m U wind component', \n",
    "         '10m V wind component',\n",
    "         'Boundary layer height',\n",
    "         'SO2', 'PM2.5']"
   ]
  },
  {
   "cell_type": "code",
   "execution_count": null,
   "id": "397613d0-215b-4d88-9e26-a518333fd9ee",
   "metadata": {},
   "outputs": [],
   "source": [
    "df = pd.read_csv(path)\n",
    "site_num = 0\n",
    "sites = df['Site'].values\n",
    "unique_sites = np.unique(sites)\n",
    "inds = sites == unique_sites[site_num]\n",
    "df = df[keys].iloc[inds].interpolate().copy()\n",
    "df = df - df.mean(axis=0)\n",
    "df = df / df.std(axis=0)\n",
    "print(f\"Looking only at site {unique_sites[site_num]}\")"
   ]
  },
  {
   "cell_type": "code",
   "execution_count": null,
   "id": "8a9b382e-170a-4d9f-b058-b3af305fa267",
   "metadata": {},
   "outputs": [],
   "source": [
    "rcparams(0.5)\n",
    "fig, ax = plt.subplots(nrows=3, ncols=3, figsize=(8, 6))\n",
    "ax = ax.ravel()\n",
    "for i, key in enumerate(df.keys()):\n",
    "    n = len(df[key])\n",
    "    if i <= 6:\n",
    "        ax[i].plot(np.arange(n) / 24, df[key], color='k')\n",
    "    else:\n",
    "        ax[i].plot(np.arange(n) / 24, np.log(df[key]), color='tab:red')\n",
    "    ax[i].set_title(names[i], fontsize=12)\n",
    "    ax[i].set_xlim([0, n / 24])\n",
    "    ax[i].set_xlabel('Day')\n",
    "    format_axis(ax[i])\n",
    "plt.suptitle(f'Site {unique_sites[site_num]}')\n",
    "plt.tight_layout()\n",
    "# plt.savefig(f'Site {unique_sites[site_num]}.png', bbox_inches='tight')"
   ]
  },
  {
   "cell_type": "code",
   "execution_count": null,
   "id": "470d3086-0567-40e1-8e18-224b71c9221a",
   "metadata": {},
   "outputs": [],
   "source": [
    "fig, ax = plt.subplots()\n",
    "ax.matshow(df.corr())\n",
    "ax.set_xticks(np.arange(len(names)))\n",
    "ax.set_xticklabels(names, rotation=45, ha='left')\n",
    "ax.set_yticks(np.arange(len(names)))\n",
    "ax.set_yticklabels(names, rotation=45, va='top')\n",
    "# format_axis(ax)\n",
    "plt.savefig(f'Site {unique_sites[site_num]} corr.png', bbox_inches='tight')\n",
    "plt.show()"
   ]
  },
  {
   "cell_type": "code",
   "execution_count": null,
   "id": "4bce1ec3",
   "metadata": {},
   "outputs": [],
   "source": [
    "data_sites = []\n",
    "for i in range(34):\n",
    "    df = pd.read_csv(path)\n",
    "    site_num = i\n",
    "    sites = df['Site'].values\n",
    "    unique_sites = np.unique(sites)\n",
    "    inds = sites == unique_sites[site_num]\n",
    "    df = df[keys].iloc[inds].interpolate().copy()\n",
    "    df = df - df.mean(axis=0)\n",
    "    df = df / df.std(axis=0)\n",
    "    so2 = df['SO2']\n",
    "    pm = df['PM2.5']\n",
    "    data_sites.append([so2, pm])"
   ]
  },
  {
   "cell_type": "code",
   "execution_count": null,
   "id": "233767bf",
   "metadata": {},
   "outputs": [],
   "source": [
    "rcparams(0.5)\n",
    "fig, ax = plt.subplots(nrows=6, ncols=6, figsize=(10, 10))\n",
    "ax = ax.ravel()\n",
    "for i, site in enumerate(data_sites):\n",
    "    n = len(site[0])\n",
    "    ax[i].plot(np.arange(n) / 24, site[0], color='k')\n",
    "    ax[i].set_title(unique_sites[i], fontsize=12)\n",
    "    ax[i].set_xlim([0, n / 24])\n",
    "    format_axis(ax[i])\n",
    "for i in [-2, -1]:\n",
    "    ax[i].axis('off')\n",
    "plt.suptitle('SO2')\n",
    "plt.tight_layout()\n",
    "plt.savefig(f'SO2.png', bbox_inches='tight')"
   ]
  },
  {
   "cell_type": "code",
   "execution_count": null,
   "id": "16dff8ad",
   "metadata": {},
   "outputs": [],
   "source": [
    "rcparams(0.5)\n",
    "fig, ax = plt.subplots(nrows=6, ncols=6, figsize=(10, 10))\n",
    "ax = ax.ravel()\n",
    "for i, site in enumerate(data_sites):\n",
    "    n = len(site[0])\n",
    "    ax[i].plot(np.arange(n) / 24, site[1], color='k')\n",
    "    ax[i].set_title(unique_sites[i], fontsize=12)\n",
    "    ax[i].set_xlim([0, n / 24])\n",
    "    format_axis(ax[i])\n",
    "for i in [-2, -1]:\n",
    "    ax[i].axis('off')\n",
    "plt.suptitle('PM2.5')\n",
    "plt.tight_layout()\n",
    "plt.savefig(f'PM2.5.png', bbox_inches='tight')"
   ]
  },
  {
   "cell_type": "code",
   "execution_count": null,
   "id": "50dea846-37f7-445c-b409-2f59e7eb7241",
   "metadata": {},
   "outputs": [],
   "source": [
    "x = df.values.T\n",
    "x.shape"
   ]
  },
  {
   "cell_type": "code",
   "execution_count": null,
   "id": "fc58924b-4482-44f8-afdd-6ca36bf08efe",
   "metadata": {},
   "outputs": [],
   "source": [
    "def generate_date(x, train=96, test=24):\n",
    "    window = train + test\n",
    "    n_total = x.shape[1]\n",
    "    n_sample = n_total - window\n",
    "    x_train = np.array([x[:, i: i + train] for i in range(n_sample)])\n",
    "    x_test = np.array([x[:, (i + train): (i + train + test)] for i in range(n_sample)])\n",
    "    print(f'x train: {x_train.shape}')\n",
    "    print(f'x test: {x_test.shape}')\n",
    "    return x_train, x_test"
   ]
  },
  {
   "cell_type": "markdown",
   "id": "4a33564d",
   "metadata": {},
   "source": [
    "### dmd"
   ]
  },
  {
   "cell_type": "code",
   "execution_count": null,
   "id": "6c91fbce-7a80-400d-9831-90ae1b1235de",
   "metadata": {},
   "outputs": [],
   "source": [
    "def predict(A, x, n):\n",
    "    x_pred = [x]\n",
    "    for i in range(n):\n",
    "        x_pred.append(A @ x)\n",
    "        x = x_pred[i+1]\n",
    "    x_pred = np.array(x_pred).T\n",
    "    return x_pred\n",
    "\n",
    "i = 100\n",
    "x_train, x_test = generate_date(x, 96, 24)\n",
    "x_true = x_total = np.array(x_train[i, -2:, :])\n",
    "x0 = x_total[:, :-1]\n",
    "x1 = x_total[:, 1:]\n",
    "x_future = x_test[i, -2:, :]\n",
    "\n",
    "def dmd(x0, x1):\n",
    "    A = x1 @ np.linalg.pinv(x0)\n",
    "    x_pred = predict(A, x0[:, 0], 119)\n",
    "    return x_pred\n",
    "x_pred = dmd(x0, x1)"
   ]
  },
  {
   "cell_type": "code",
   "execution_count": null,
   "id": "b6c89ddf-02c1-411e-a809-36f70b8c98cb",
   "metadata": {},
   "outputs": [],
   "source": [
    "rcparams(0.75)\n",
    "fig, ax = plt.subplots(nrows=1, ncols=2, figsize=(8, 4.5))\n",
    "for i in range(2):\n",
    "    ax[i].plot(np.arange(96) / 24, x_true[i, :], 'k', label='True')\n",
    "    ax[i].plot(np.arange(96) / 24, x_pred[i, :96], 'k--', label='Reconst.')\n",
    "    ax[i].plot(np.arange(96, 120) / 24, x_future[i, :], 'r', label='Future')\n",
    "    ax[i].plot(np.arange(96, 120) / 24, x_pred[i, 96:], 'r--', label='Predicted')\n",
    "    ax[i].set_ylabel(df.keys()[-2:][i])\n",
    "    ax[i].set_xlabel('Day')\n",
    "    if i == 0:\n",
    "        ax[i].legend()\n",
    "    format_axis(ax[i])\n",
    "plt.tight_layout()\n",
    "plt.savefig('dmd.png', bbox_inches='tight')"
   ]
  },
  {
   "cell_type": "markdown",
   "id": "c9b32516",
   "metadata": {},
   "source": [
    "### dmd time delay"
   ]
  },
  {
   "cell_type": "code",
   "execution_count": null,
   "id": "ccb71380",
   "metadata": {
    "scrolled": true
   },
   "outputs": [],
   "source": [
    "def predict(A, x, n):\n",
    "    x_pred = [x]\n",
    "    for i in range(n):\n",
    "        x_pred.append(A @ x)\n",
    "        x = x_pred[i+1]\n",
    "    x_pred = np.array(x_pred).T\n",
    "    return x_pred[-2:]\n",
    "\n",
    "delay = 6\n",
    "i = 777 - delay\n",
    "x_train, x_test = generate_date(x, 96, 24)\n",
    "x_true = x_total = np.array(x_train[i, -2:, :])\n",
    "\n",
    "\n",
    "n_state, n_time = x_total.shape\n",
    "x_delay = np.zeros((2 * delay, n_time - delay))\n",
    "for j in range(n_time - delay):\n",
    "    for k in range(delay):\n",
    "        x_delay[k*2:k*2+2, j] = x_total[:, j + k : j + k + 1].T\n",
    "x_delay = np.array(x_delay)\n",
    "\n",
    "x0 = x_delay[:, :-1]\n",
    "x1 = x_delay[:, 1:]\n",
    "\n",
    "A = x1 @ np.linalg.pinv(x0)\n",
    "\n",
    "x_pred = predict(A, x_delay[:, 0], 119)\n",
    "x_true = x_total = np.array(x_train[i + delay, -2:, :])\n",
    "x_future = x_test[i + delay, -2:, :]"
   ]
  },
  {
   "cell_type": "code",
   "execution_count": null,
   "id": "a2d50ffd",
   "metadata": {},
   "outputs": [],
   "source": [
    "rcparams(0.75)\n",
    "fig, ax = plt.subplots(nrows=1, ncols=2, figsize=(8, 4.5))\n",
    "for i in range(2):\n",
    "    ax[i].plot(np.arange(96) / 24, x_true[i, :], 'k', label='True')\n",
    "    ax[i].plot(np.arange(96) / 24, x_pred[i, :96], 'k--', label='Reconst.')\n",
    "    ax[i].plot(np.arange(96, 120) / 24, x_future[i, :], 'r', label='Future')\n",
    "    ax[i].plot(np.arange(96, 120) / 24, x_pred[i, 96:], 'r--', label='Predicted')\n",
    "    ax[i].set_ylabel(df.keys()[-2:][i])\n",
    "    ax[i].set_xlabel('Day')\n",
    "    if i == 0:\n",
    "        ax[i].legend()\n",
    "    format_axis(ax[i])\n",
    "plt.tight_layout()\n",
    "plt.savefig(f'dmdd_{delay}.png', bbox_inches='tight')"
   ]
  },
  {
   "cell_type": "markdown",
   "id": "c310e1ae",
   "metadata": {},
   "source": [
    "### dmdc"
   ]
  },
  {
   "cell_type": "code",
   "execution_count": null,
   "id": "b069a8d7",
   "metadata": {},
   "outputs": [],
   "source": [
    "def predict(A, B, x, u, n):\n",
    "    x_pred = [x]\n",
    "    for i in range(n):\n",
    "        x_pred.append(A @ x + B @ u[:, i])\n",
    "        x = x_pred[i+1]\n",
    "    x_pred = np.array(x_pred).T\n",
    "    return x_pred\n",
    "\n",
    "from scipy.sparse.linalg import svds\n",
    "\n",
    "i = 100\n",
    "x_train, x_test = generate_date(x, 96, 24)\n",
    "x_true = x_total = np.array(x_train[i, -2:, :])\n",
    "u_total = np.array(x_train[i, :-2, :])\n",
    "\n",
    "x0 = x_total[:, :-1]\n",
    "x1 = x_total[:, 1:]\n",
    "u0 = u_total[:, :-1]\n",
    "u1 = u_total[:, 1:]\n",
    "x_future = x_test[i, -2:, :]\n",
    "\n",
    "g = np.concatenate((x0, u0), axis=0)\n",
    "u, s, v = np.linalg.svd(g, full_matrices=False)\n",
    "\n",
    "ux = u[:2, :]\n",
    "uu = u[2:, :]\n",
    "A = x1 @ v.T / s @ ux.T\n",
    "B = x1 @ v.T / s @ uu.T\n",
    "x_future = x_test[i, -2:, :]\n",
    "u_future = x_test[i, :-2, :]\n",
    "\n",
    "x_pred = predict(A, B, x_total[:, 0], np.concatenate((u1, u_future), axis=1), 119)"
   ]
  },
  {
   "cell_type": "code",
   "execution_count": null,
   "id": "5d55162b",
   "metadata": {},
   "outputs": [],
   "source": [
    "[u.shape, s.shape, v.shape]"
   ]
  },
  {
   "cell_type": "code",
   "execution_count": null,
   "id": "d5d47320",
   "metadata": {},
   "outputs": [],
   "source": [
    "rcparams(0.75)\n",
    "fig, ax = plt.subplots(nrows=1, ncols=2, figsize=(8, 4.5))\n",
    "for i in range(2):\n",
    "    ax[i].plot(np.arange(96) / 24, x_true[i, :], 'k', label='True')\n",
    "    ax[i].plot(np.arange(96) / 24, x_pred[i, :96], 'k--', label='Reconst.')\n",
    "    ax[i].plot(np.arange(96, 120) / 24, x_future[i, :], 'r', label='Future')\n",
    "    ax[i].plot(np.arange(96, 120) / 24, x_pred[i, 96:], 'r--', label='Predicted')\n",
    "    ax[i].set_ylabel(df.keys()[-2:][i])\n",
    "    ax[i].set_xlabel('Day')\n",
    "    if i == 0:\n",
    "        ax[i].legend()\n",
    "    format_axis(ax[i])\n",
    "plt.tight_layout()\n",
    "plt.savefig(f'dmdc.png', bbox_inches='tight')"
   ]
  },
  {
   "cell_type": "code",
   "execution_count": null,
   "id": "bd3b4abe",
   "metadata": {},
   "outputs": [],
   "source": [
    "B.shape"
   ]
  },
  {
   "cell_type": "code",
   "execution_count": null,
   "id": "3aa051bd",
   "metadata": {},
   "outputs": [],
   "source": [
    "rcparams(0.75)\n",
    "fig, ax = plt.subplots(nrows=1, ncols=2, figsize=(8, 6))\n",
    "for i in range(2):\n",
    "    ax[i].bar(np.arange(7), B[i], color='k')\n",
    "    ax[i].set_title(df.keys()[-2:][i])\n",
    "    ax[i].set_xticks(np.arange(7))\n",
    "    ax[i].set_xticklabels(names[:7], rotation=90, ha='right', fontsize=12)\n",
    "plt.tight_layout()\n",
    "plt.savefig(f'B.png', bbox_inches='tight')"
   ]
  },
  {
   "cell_type": "markdown",
   "id": "4024fe94",
   "metadata": {},
   "source": [
    "### dmdc with time delay"
   ]
  },
  {
   "cell_type": "code",
   "execution_count": null,
   "id": "16b6ccda",
   "metadata": {},
   "outputs": [],
   "source": [
    "def predict(A, B, x, u, n):\n",
    "    x_pred = [x]\n",
    "    for i in range(n):\n",
    "        x_pred.append(A @ x + B @ u[:, i])\n",
    "        x = x_pred[i+1]\n",
    "    x_pred = np.array(x_pred).T\n",
    "    return x_pred\n",
    "\n",
    "delay  = 12\n",
    "i = 100- delay\n",
    "x_train, x_test = generate_date(x, 96, 24)\n",
    "x_true = x_total = np.array(x_train[i, -2:, :])\n",
    "u_total = np.array(x_train[i, :-2, :])\n",
    "###\n",
    "n_state, n_time = x_total.shape\n",
    "x_delay = np.zeros((2 * delay, n_time - delay))\n",
    "for j in range(n_time - delay):\n",
    "    for k in range(delay):\n",
    "        x_delay[k*2:k*2+2, j] = x_total[:, j + k : j + k + 1].T\n",
    "x_delay = np.array(x_delay)\n",
    "\n",
    "x0 = x_delay[:, :-1]\n",
    "x1 = x_delay[:, 1:]\n",
    "###\n",
    "n_state, n_time = u_total.shape\n",
    "u_delay = np.zeros((7 * delay, n_time - delay))\n",
    "for j in range(n_time - delay):\n",
    "    for k in range(delay):\n",
    "        u_delay[k*7:k*7+7, j] = u_total[:, j + k : j + k + 1].T\n",
    "u_delay = np.array(u_delay)\n",
    "u0 = u_delay[:, :-1]\n",
    "u1 = u_delay[:, 1:]\n",
    "x_future = x_test[i, -2:, :]\n",
    "\n",
    "g = np.concatenate((x0, u0), axis=0)\n",
    "u, s, v = np.linalg.svd(g, full_matrices=False)\n",
    "print(x0.shape)\n",
    "\n",
    "ux = u[:2*delay, :]\n",
    "uu = u[2*delay:, :]\n",
    "A = x1 @ v.T / s @ ux.T\n",
    "B = x1 @ v.T / s @ uu.T\n",
    "\n",
    "## \n",
    "u_prev = x_train[i, :-2, :]\n",
    "u_future = x_test[i, :-2, :]\n",
    "u_future = np.concatenate((u_prev, u_future), axis=1)\n",
    "n_state, n_time = u_future.shape\n",
    "u_delay = np.zeros((7 * delay, n_time - delay))\n",
    "for j in range(n_time - delay):\n",
    "    for k in range(delay):\n",
    "        u_delay[k*7:k*7+7, j] = u_future[:, j + k : j + k + 1].T\n",
    "u_delay = np.array(u_delay)\n",
    "###\n",
    "\n",
    "x_pred = predict(A, B, x_delay[:, 0], u_delay, 108)\n",
    "\n",
    "x_true = x_total = np.array(x_train[i, -2:, :])\n",
    "x_future = x_test[i, -2:, :]"
   ]
  },
  {
   "cell_type": "code",
   "execution_count": null,
   "id": "f5099190",
   "metadata": {},
   "outputs": [],
   "source": [
    "x_pred = x_pred[:2, :]"
   ]
  },
  {
   "cell_type": "code",
   "execution_count": null,
   "id": "314cf914",
   "metadata": {},
   "outputs": [],
   "source": [
    "err_1 = skm.mean_squared_error(x_true[:, :84], x_pred[:, :84]) ** 0.5\n",
    "err_2 = skm.mean_squared_error(np.concatenate(([x_true[:, 84:96], x_future[:, :13]]), axis=1), x_pred[:, 84:]) ** 0.5\n",
    "err_1, err_2"
   ]
  },
  {
   "cell_type": "code",
   "execution_count": null,
   "id": "2f0f7b55",
   "metadata": {},
   "outputs": [],
   "source": [
    "rcparams(0.75)\n",
    "fig, ax = plt.subplots(nrows=1, ncols=2, figsize=(8, 4.5))\n",
    "for i in range(2):\n",
    "    ax[i].plot(np.arange(84) / 24, x_true[i, :84], 'k', label='True')\n",
    "    ax[i].plot(np.arange(84) / 24, x_pred[i, :84], 'k--', label='Reconst.')\n",
    "    ax[i].plot(np.arange(84, 108) / 24, np.concatenate([x_true[i, 84:96], x_future[i, :12]]), 'r', label='Future')\n",
    "    ax[i].plot(np.arange(84, 109) / 24, x_pred[i, 84:], 'r--', label='Predicted')\n",
    "    ax[i].set_ylabel(df.keys()[-2:][i])\n",
    "    ax[i].set_xlabel('Day')\n",
    "    if i == 0:\n",
    "        ax[i].legend()\n",
    "    format_axis(ax[i])\n",
    "plt.tight_layout()"
   ]
  },
  {
   "cell_type": "code",
   "execution_count": null,
   "id": "f13aa850",
   "metadata": {},
   "outputs": [],
   "source": [
    "A.shape"
   ]
  },
  {
   "cell_type": "code",
   "execution_count": null,
   "id": "0ec9ac05",
   "metadata": {},
   "outputs": [],
   "source": [
    "u0.shape"
   ]
  },
  {
   "cell_type": "code",
   "execution_count": null,
   "id": "e44f37aa",
   "metadata": {},
   "outputs": [],
   "source": [
    "u.shape"
   ]
  },
  {
   "cell_type": "markdown",
   "id": "f119eb12-9122-41f8-8bbe-d597a35d603c",
   "metadata": {},
   "source": [
    "## "
   ]
  }
 ],
 "metadata": {
  "kernelspec": {
   "display_name": "Python 3",
   "language": "python",
   "name": "python3"
  },
  "language_info": {
   "codemirror_mode": {
    "name": "ipython",
    "version": 3
   },
   "file_extension": ".py",
   "mimetype": "text/x-python",
   "name": "python",
   "nbconvert_exporter": "python",
   "pygments_lexer": "ipython3",
   "version": "3.8.8"
  }
 },
 "nbformat": 4,
 "nbformat_minor": 5
}
