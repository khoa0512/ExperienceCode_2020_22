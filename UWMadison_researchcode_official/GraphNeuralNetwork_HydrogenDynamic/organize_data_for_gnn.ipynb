{
 "cells": [
  {
   "cell_type": "code",
   "execution_count": null,
   "id": "387ee31a",
   "metadata": {},
   "outputs": [],
   "source": [
    "import numpy as np\n",
    "import glob\n",
    "import pickle\n",
    "from scipy import sparse"
   ]
  },
  {
   "cell_type": "raw",
   "id": "c81730ef",
   "metadata": {},
   "source": [
    "Read all data and examine the maximum number of nodes"
   ]
  },
  {
   "cell_type": "code",
   "execution_count": null,
   "id": "5a5059a5",
   "metadata": {},
   "outputs": [],
   "source": [
    "%%time\n",
    "files = glob.glob('/Users/sjiang87/data_weight/gnnatv/data/amide/*.pickle')\n",
    "\n",
    "ligands, HFEs, MinNodes, MaxNodes, MinEdges, MaxEdges = [], [], [], [], [], []\n",
    "\n",
    "for i, file in enumerate(files):\n",
    "    with open(file, 'rb') as f:\n",
    "        data = pickle.load(f)\n",
    "    ligands.append(data['ligand'])\n",
    "    HFEs.append(data['label'][0])\n",
    "    MinNodes.append(min([data['pos'][i].shape for i in range(len(data['pos']))])[0])\n",
    "    MaxNodes.append(max([data['pos'][i].shape for i in range(len(data['pos']))])[0])\n",
    "    MinEdges.append(min([data['adj'][i].sum() for i in range(len(data['adj']))]))\n",
    "    MaxEdges.append(max([data['adj'][i].sum() for i in range(len(data['adj']))]))\n",
    "    \n",
    "MaxEdge = int(max(MaxEdges))\n",
    "MaxNode = int(max(MaxNodes) + 2)\n",
    "print('Max node:', MaxNode)\n",
    "print('Max edge:', MaxEdge)"
   ]
  },
  {
   "cell_type": "raw",
   "id": "cda813a6",
   "metadata": {},
   "source": [
    "Maximum number of nodes is 58\n",
    "Maximum number of edges is 226"
   ]
  },
  {
   "cell_type": "raw",
   "id": "ec2bd3db",
   "metadata": {},
   "source": [
    "Reorganize the node features"
   ]
  },
  {
   "cell_type": "code",
   "execution_count": 8,
   "id": "239588ae",
   "metadata": {},
   "outputs": [],
   "source": [
    "def add_node_features(x, adj):\n",
    "    f2 = x.mean(axis=0)  # bulk water\n",
    "    f1 = np.copy(f2)\n",
    "    f1[2] = x[..., 2].min()  # bulk sam site.\n",
    "    x = np.vstack((x, f1, f2))\n",
    "    x = np.hstack((x,\n",
    "                   adj.sum(axis=0)[..., np.newaxis],\n",
    "                   np.array([1] * (x.shape[0] - 2) + [0] * 2)[..., np.newaxis],\n",
    "                   np.array([0] * (x.shape[0] - 2) + [1, 0])[..., np.newaxis],\n",
    "                   np.array([0] * (x.shape[0] - 2) + [0, 1])[..., np.newaxis]))\n",
    "    return x"
   ]
  },
  {
   "cell_type": "raw",
   "id": "fb58e9ca",
   "metadata": {},
   "source": [
    "Prepare node features for 1 data file"
   ]
  },
  {
   "cell_type": "code",
   "execution_count": 11,
   "id": "a6da0647",
   "metadata": {},
   "outputs": [
    {
     "data": {
      "text/plain": [
       "dict_keys(['label', 'adj', 'ligand', 'pos'])"
      ]
     },
     "execution_count": 11,
     "metadata": {},
     "output_type": "execute_result"
    }
   ],
   "source": [
    "file = files[0]\n",
    "\n",
    "with open(file, 'rb') as f:\n",
    "    data = pickle.load(f)\n",
    "    \n",
    "data.keys()"
   ]
  },
  {
   "cell_type": "code",
   "execution_count": 15,
   "id": "40a77fcb",
   "metadata": {},
   "outputs": [
    {
     "data": {
      "text/plain": [
       "(8000, 58, 7)"
      ]
     },
     "execution_count": 15,
     "metadata": {},
     "output_type": "execute_result"
    }
   ],
   "source": [
    "node_feature_previous = data['pos']\n",
    "adj_previous = data['adj']\n",
    "n_time = len(node_feature_previous) # which is 8000\n",
    "\n",
    "node_feature = np.zeros((n_time, MaxNode, 7)) #create node feature matrix. matrix of all water and SAM site locations. \n",
    "for i in range(n_time):\n",
    "    node_feature_temp = add_node_features(node_feature_previous[i], adj_previous[i])\n",
    "    n_node_temp = len(node_feature_temp)\n",
    "    node_feature[i, :n_node_temp, :] = node_feature_temp\n",
    "\n",
    "node_feature.shape\n",
    "\n",
    "#there are 8000 samples data over time, where each data represent a water environment matrix of about 40-58 (58 max) water molecule over time.\n",
    "#There are 3 x,y,z location node of water, 3 x,y,z location of SAM site, and 1 value associated (making the last matrix size 7)"
   ]
  },
  {
   "cell_type": "raw",
   "id": "21ad8bf2",
   "metadata": {},
   "source": [
    "Prepare adjacency matrix for 1 data file"
   ]
  },
  {
   "cell_type": "code",
   "execution_count": 16,
   "id": "54f199d6",
   "metadata": {},
   "outputs": [
    {
     "data": {
      "text/plain": [
       "(8000, 58, 58)"
      ]
     },
     "execution_count": 16,
     "metadata": {},
     "output_type": "execute_result"
    }
   ],
   "source": [
    "adj = np.zeros((n_time, MaxNode, MaxNode)) \n",
    "#create all adjacent matrix, which represent how all site interact with one another.This would have an square matrix for last 2\n",
    "#since all site interact with each other.\n",
    "for i in range(n_time):\n",
    "    adj_temp = adj_previous[i]\n",
    "    n_node_temp = len(adj_temp)\n",
    "    adj[i, :n_node_temp, :n_node_temp] = adj_temp\n",
    "    \n",
    "adj.shape"
   ]
  },
  {
   "cell_type": "raw",
   "id": "c47263f3",
   "metadata": {},
   "source": [
    "temporal average"
   ]
  },
  {
   "cell_type": "code",
   "execution_count": 20,
   "id": "fe24a60a",
   "metadata": {},
   "outputs": [
    {
     "data": {
      "text/plain": [
       "(200, 2320, 7)"
      ]
     },
     "execution_count": 20,
     "metadata": {},
     "output_type": "execute_result"
    }
   ],
   "source": [
    "#temporal\n",
    "#reshape nodes into temporal (smaller snippets). Rather than having it at every interval of time (1 second)\n",
    "#we reshape to 40 interval of time (40 second).\n",
    "window = 40\n",
    "n1, n2, n3 = node_feature.shape\n",
    "node_temporal = np.zeros((int(n1 / window), int(n2 * window), n3))\n",
    "\n",
    "for i in range(len(node_temporal)):\n",
    "    node_temporal_temp = np.zeros((int(n2 * window), n3))\n",
    "    for j in range(window):\n",
    "        node_temporal_temp[j * n2 : (j + 1) * n2] = node_feature[i * window + j]\n",
    "    node_temporal[i] = node_temporal_temp\n",
    "    \n",
    "node_temporal.shape\n",
    "\n"
   ]
  },
  {
   "cell_type": "code",
   "execution_count": 22,
   "id": "d0894ce4",
   "metadata": {},
   "outputs": [
    {
     "data": {
      "text/plain": [
       "(200, 2320, 2320)"
      ]
     },
     "execution_count": 22,
     "metadata": {},
     "output_type": "execute_result"
    }
   ],
   "source": [
    "#temporal\n",
    "#reshape nodes into temporal (smaller snippets). Rather than having it at every interval of time (1 second)\n",
    "#we reshape to 40 interval of time (40 second).\n",
    "window = 40\n",
    "n1, n2, n3 = adj.shape\n",
    "adj_temporal = np.zeros((int(n1 / window), int(n2 * window), int(n2 * window)))\n",
    "\n",
    "for i in range(len(adj_temporal)):\n",
    "    adj_temporal_temp = np.zeros((int(n2 * window), int(n2 * window)))\n",
    "    for j in range(window):\n",
    "        adj_temporal_temp[j * n2 : (j + 1) * n2, j * n2 : (j + 1) * n2] = adj[i * window + j]\n",
    "    adj_temporal[i] = adj_temporal_temp\n",
    "    \n",
    "adj_temporal.shape"
   ]
  },
  {
   "cell_type": "raw",
   "id": "1bc33a47",
   "metadata": {},
   "source": [
    "Do the same thing for all the files"
   ]
  },
  {
   "cell_type": "code",
   "execution_count": 29,
   "id": "fded7b54",
   "metadata": {},
   "outputs": [],
   "source": [
    "#create the temporal node as a function.\n",
    "def organize_node(data, window=40):\n",
    "    node_feature_previous = data['pos']\n",
    "    adj_previous = data['adj']\n",
    "    n_time = len(node_feature_previous) # which is 8000\n",
    "\n",
    "    node_feature = np.zeros((n_time, MaxNode, 7))\n",
    "    for i in range(n_time):\n",
    "        node_feature_temp = add_node_features(node_feature_previous[i], adj_previous[i])\n",
    "        n_node_temp = len(node_feature_temp)\n",
    "        node_feature[i, :n_node_temp, :] = node_feature_temp\n",
    "\n",
    "    n1, n2, n3 = node_feature.shape\n",
    "    node_temporal = np.zeros((int(n1 / window), int(n2 * window), n3))\n",
    "\n",
    "    for i in range(len(node_temporal)):\n",
    "        node_temporal_temp = np.zeros((int(n2 * window), n3))\n",
    "        for j in range(window):\n",
    "            node_temporal_temp[j * n2 : (j + 1) * n2] = node_feature[i * window + j]\n",
    "        node_temporal[i] = node_temporal_temp\n",
    "\n",
    "    return node_temporal"
   ]
  },
  {
   "cell_type": "code",
   "execution_count": 37,
   "id": "f2823abd",
   "metadata": {},
   "outputs": [],
   "source": [
    "#create the adjacent node as a function.\n",
    "def organize_adj(data, window=40):\n",
    "    adj = np.zeros((n_time, MaxNode, MaxNode))\n",
    "    for i in range(n_time):\n",
    "        adj_temp = adj_previous[i]\n",
    "        n_node_temp = len(adj_temp)\n",
    "        adj[i, :n_node_temp, :n_node_temp] = adj_temp\n",
    "\n",
    "    n1, n2, n3 = adj.shape\n",
    "    adj_temporal = np.zeros((int(n1 / window), int(n2 * window), int(n2 * window)))\n",
    "\n",
    "    for i in range(len(adj_temporal)):\n",
    "        adj_temporal_temp = np.zeros((int(n2 * window), int(n2 * window)))\n",
    "        for j in range(window):\n",
    "            adj_temporal_temp[j * n2 : (j + 1) * n2, j * n2 : (j + 1) * n2] = adj[i * window + j]\n",
    "        adj_temporal[i] = adj_temporal_temp\n",
    "    return adj_temporal"
   ]
  },
  {
   "cell_type": "code",
   "execution_count": 39,
   "id": "0715a24e",
   "metadata": {},
   "outputs": [],
   "source": [
    "#return the size of label in accordance to temporal size\n",
    "def organize_label(data, window=40):\n",
    "    y = np.array([data['label'][0]] * int(8000 / 40))\n",
    "    return y"
   ]
  },
  {
   "cell_type": "code",
   "execution_count": null,
   "id": "52830148",
   "metadata": {},
   "outputs": [],
   "source": [
    "%%time\n",
    "#load all files under organized data with desired temporal.\n",
    "for i, file in enumerate(files):\n",
    "    with open(file, 'rb') as f:\n",
    "        data = pickle.load(f)\n",
    "    node = organize_node(data, window=40)\n",
    "    adj = organize_adj(data, window=40)\n",
    "    y = organize_label(data, window=40)\n",
    "    with open(f'{data['ligand']}.pickle', 'wb') as f:\n",
    "        pickle.dump(node, f)\n",
    "        pickle.dump(adj, f)\n",
    "        pickle.dump(y, f)"
   ]
  },
  {
   "cell_type": "code",
   "execution_count": null,
   "id": "6fb64acb",
   "metadata": {},
   "outputs": [],
   "source": []
  }
 ],
 "metadata": {
  "kernelspec": {
   "display_name": "Python 3",
   "language": "python",
   "name": "python3"
  },
  "language_info": {
   "codemirror_mode": {
    "name": "ipython",
    "version": 3
   },
   "file_extension": ".py",
   "mimetype": "text/x-python",
   "name": "python",
   "nbconvert_exporter": "python",
   "pygments_lexer": "ipython3",
   "version": "3.8.8"
  }
 },
 "nbformat": 4,
 "nbformat_minor": 5
}
