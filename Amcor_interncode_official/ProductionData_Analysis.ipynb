{
 "cells": [
  {
   "cell_type": "code",
   "execution_count": 34,
   "id": "615c5f87-e249-4972-80af-d2b3449f79ad",
   "metadata": {},
   "outputs": [],
   "source": [
    "#import relevant libraries to assist coding. In these files, many names/variables/nubmers are changed for confidentiality.\n",
    "#this code iedntify desired specification of the big list from the reference list, then calculated total output and compared it to company's target.\n",
    "#some output are left unchanged to show that there are results produced.\n",
    "import pandas as pd\n",
    "import openpyxl\n",
    "import urllib.request as urllib\n",
    "import PyPDF2\n",
    "import io\n",
    "from PyPDF2 import PdfFileWriter, PdfFileReader\n",
    "from urllib.parse import urljoin\n",
    "import urllib3\n",
    "import urllib\n",
    "import requests\n",
    "from requests.auth import HTTPBasicAuth\n",
    "from requests.auth import HTTPDigestAuth\n",
    "import sys\n",
    "from requests_ntlm import HttpNtlmAuth\n",
    "import win32com.client\n",
    "from bs4 import BeautifulSoup\n",
    "import camelot\n",
    "import time\n",
    "import tabula\n",
    "import ghostscript\n",
    "import os\n",
    "import glob\n",
    "import numpy as np\n",
    "import shutil"
   ]
  },
  {
   "cell_type": "code",
   "execution_count": null,
   "id": "134e82f2-a333-4996-8f4d-11dc7ca0c169",
   "metadata": {},
   "outputs": [],
   "source": [
    "#open up excel and copy it into variable df_ref using panda library. \n",
    "# For confidentiality, name and file location, table's name and header, and other characteristic and identity will be replaced with \"...\", or \"T...\" where T is..\n",
    "# start of header name. The code is suppose to resemble what I do only.\n",
    "df_collect = pd.read_excel(r'C:\\...xlsx')\n",
    "df_collect1 = df_collect\n",
    "df_ref = pd.read_excel(r'C:\\...xlsx') #a reference list to be used for filtering the df_collect."
   ]
  },
  {
   "cell_type": "code",
   "execution_count": null,
   "id": "f1d38c42-347b-416b-9844-b8eb1bae0f50",
   "metadata": {},
   "outputs": [],
   "source": [
    "#collect unique variable by product description\n",
    "uniq_ts = pd.unique(df_collect1[\"T...\"])\n",
    "#collect unique variable by order ID\n",
    "uniq_order = pd.unique(df_collect1[\"O...\"])\n"
   ]
  },
  {
   "cell_type": "code",
   "execution_count": null,
   "id": "57870d0c-7dc9-415b-b0c2-ed892c9a0588",
   "metadata": {},
   "outputs": [],
   "source": [
    "#create a filter file to include\n",
    "filt= df_collect1[(df_collect1[\"T...\"] == uniq_ts[0])]"
   ]
  },
  {
   "cell_type": "code",
   "execution_count": null,
   "id": "34a2f229-9a4d-49e4-81d7-d9f767b90c35",
   "metadata": {},
   "outputs": [],
   "source": [
    "#find product with high prodution number \"a\" quantity from reference list.\n",
    "high_tech = df_ref[df_ref[\"Q...\"] >= a]\n",
    "#create a reference unique list with \"Tech number\" from high_tech. Purpose is for the For loop below to run through each tech number only once.\n",
    "ref_tech_spec = pd.unique(high_tech[\"Te...\"])"
   ]
  },
  {
   "cell_type": "code",
   "execution_count": 183,
   "id": "f07c21c4-3dc5-43a7-9a8a-8efe13902d4a",
   "metadata": {},
   "outputs": [],
   "source": [
    "new_list = pd.DataFrame() #create an empty list\n",
    "avg_list = [] #create another empty list\n",
    "for k in ref_tech_spec: #if df_collect has the technical ID listed in df_ref, push it into new_list\n",
    "    push = df_collect1[df_collect1[\"TeS...\"] == k ]\n",
    "    new_list = pd.concat([new_list,push], axis = 0)\n",
    "    \n",
    "for l in ref_tech_spec: #if df_collect has technical ID listed in df_ref, create table of the following:\n",
    "    spec_list = new_list[new_list[\"TeS...\"] == l]\n",
    "    tech_spec = l\n",
    "    avg = spec_list[\"Av\"].mean() #column for mean quantity of weight from reference list.\n",
    "    \n",
    "    #tot weight\n",
    "    match = df_ref[df_ref[\"Te...\"] == l] #column for tech number as match.\n",
    "    weight = match[\"(Wgt)\"] #column for quantity in weight produced currently.\n",
    "    \n",
    "    #tot Area\n",
    "    match_Area = match[\"(Area)\"] #column for quantity in area.\n",
    "    \n",
    "    #target adhesive weight, dif, and cost\n",
    "    target = spec_list[\"Target\"].iloc[0] #column with company target production, the difference between current and target production (dif),and cost we are losing.\n",
    "    dif = avg - target\n",
    "    cost = A #$ A is a number\n",
    "    \n",
    "    #total production weight dif and cost dif\n",
    "    adh_weight = match_Area/B*(dif*C) #B and C are numbers\n",
    "    tot_cost = adh_weight.iloc[0]*cost\n",
    "    push1 = [tech_spec, avg,weight.iloc[0],match_Area.iloc[0],target,dif,cost,adh_weight.iloc[0],tot_cost] #push all info above into each row of for loop when applicable.\n",
    "    avg_list.append(push1)"
   ]
  },
  {
   "cell_type": "code",
   "execution_count": 184,
   "id": "014ba6f6-fb0d-4e85-b40e-62e5f4a675c8",
   "metadata": {},
   "outputs": [],
   "source": [
    "avg_list_pd = pd.DataFrame(avg_list) #create new avg list variable name for testing below."
   ]
  },
  {
   "cell_type": "code",
   "execution_count": 188,
   "id": "79cae16a-fee5-40e1-9501-1dffc23614a5",
   "metadata": {},
   "outputs": [
    {
     "data": {
      "text/plain": [
       "-15075.93229347907"
      ]
     },
     "execution_count": 188,
     "metadata": {},
     "output_type": "execute_result"
    }
   ],
   "source": [
    "sum(avg_list_pd[8]) #testing each location number visually."
   ]
  },
  {
   "cell_type": "code",
   "execution_count": 1,
   "id": "6f1f995a-d057-42f2-bedb-84d5b0e25520",
   "metadata": {},
   "outputs": [
    {
     "ename": "NameError",
     "evalue": "name 'avg_list_pd' is not defined",
     "output_type": "error",
     "traceback": [
      "\u001b[1;31m---------------------------------------------------------------------------\u001b[0m",
      "\u001b[1;31mNameError\u001b[0m                                 Traceback (most recent call last)",
      "\u001b[1;32m<ipython-input-1-b84523debb04>\u001b[0m in \u001b[0;36m<module>\u001b[1;34m\u001b[0m\n\u001b[1;32m----> 1\u001b[1;33m \u001b[0msum\u001b[0m\u001b[1;33m(\u001b[0m\u001b[0mavg_list_pd\u001b[0m\u001b[1;33m[\u001b[0m\u001b[1;33m(\u001b[0m\u001b[0mavg_list_pd\u001b[0m\u001b[1;33m[\u001b[0m\u001b[1;36m8\u001b[0m\u001b[1;33m]\u001b[0m \u001b[1;33m>\u001b[0m \u001b[1;36m0\u001b[0m\u001b[1;33m)\u001b[0m\u001b[1;33m]\u001b[0m\u001b[1;33m[\u001b[0m\u001b[1;36m8\u001b[0m\u001b[1;33m]\u001b[0m\u001b[1;33m)\u001b[0m \u001b[1;31m#testing for when avg is higher than target.\u001b[0m\u001b[1;33m\u001b[0m\u001b[1;33m\u001b[0m\u001b[0m\n\u001b[0m\u001b[0;32m      2\u001b[0m \u001b[1;33m\u001b[0m\u001b[0m\n\u001b[0;32m      3\u001b[0m \u001b[1;31m#some spaces was done to evaluate data integrity, such as finding when target is larger/smaller, checking for inconsistent productions, etc.. Code is similiar to\u001b[0m\u001b[1;33m\u001b[0m\u001b[1;33m\u001b[0m\u001b[1;33m\u001b[0m\u001b[0m\n\u001b[0;32m      4\u001b[0m \u001b[1;31m#above with constraint larger than 0, or larger than target.\u001b[0m\u001b[1;33m\u001b[0m\u001b[1;33m\u001b[0m\u001b[1;33m\u001b[0m\u001b[0m\n",
      "\u001b[1;31mNameError\u001b[0m: name 'avg_list_pd' is not defined"
     ]
    }
   ],
   "source": [
    "sum(avg_list_pd[(avg_list_pd[8] > 0)][8]) #testing for when avg is higher than target.\n",
    "\n",
    "#some spaces was done to evaluate data integrity, such as finding when target is larger/smaller, checking for inconsistent productions, etc.. Code is similiar to\n",
    "#above with constraint larger than 0, or larger than target."
   ]
  },
  {
   "cell_type": "code",
   "execution_count": 74,
   "id": "f03535eb-a9ec-406e-8022-bcf2d1f0a163",
   "metadata": {},
   "outputs": [],
   "source": [
    "# the codes below are for different productions, which are stored in different excel files.The functionality is similar to above.\n",
    "spec_list = new_list[new_list[\"Technical Specification\"] == ref_tech_spec[0]]\n",
    "avg = spec_list[\"Average\"].mean()"
   ]
  },
  {
   "cell_type": "code",
   "execution_count": 126,
   "id": "cfe3c23f-8652-4e59-948a-421b4a0119ba",
   "metadata": {},
   "outputs": [],
   "source": [
    "# excels of 3 different machines, for example, with its reference list.\n",
    "df_lambase = pd.read_excel(r'C:\\...xlsx')\n",
    "df_ref2 = pd.read_excel(r'C:\\...xlsx')"
   ]
  },
  {
   "cell_type": "code",
   "execution_count": 127,
   "id": "76d4d023-2f47-4524-b1f5-61ffa169094e",
   "metadata": {},
   "outputs": [],
   "source": [
    "#categorize into each different machines. All strings variables are changed.\n",
    "lam2_dat = df_lambase[df_lambase[\"WC\"] == \"2\"]\n",
    "lam3_dat = df_lambase[df_lambase[\"WC\"] == \"3\"]\n",
    "lam4_dat = df_lambase[df_lambase[\"WC\"] == \"4\"]\n",
    "df_reflist = df_ref2[df_ref2[\"len\"] >= a] #where a is a quantity"
   ]
  },
  {
   "cell_type": "code",
   "execution_count": 147,
   "id": "0326f172-9c1b-4728-ad8d-45c509ab22b0",
   "metadata": {},
   "outputs": [],
   "source": [
    "before_ref_tech_spec2 = df_reflist[df_reflist[\"tech num\"].str[0] != '0'] #filter out zero from database.zeros affected analysis.\n",
    "ref_tech_spec2 = pd.unique(before_ref_tech_spec2[\"tech num\"])\n",
    "alllam_dat = pd.concat([lam2_dat,lam3_dat,lam4_dat], axis = 0)"
   ]
  },
  {
   "cell_type": "code",
   "execution_count": null,
   "id": "c6b51718-b837-45ec-bc63-14e5222dd31e",
   "metadata": {},
   "outputs": [],
   "source": [
    "new_list1 = pd.DataFrame()\n",
    "avg_list1 = []\n",
    "for k in ref_tech_spec2:\n",
    "    push2 = alllam_dat[alllam_dat[\"Technical Specification\"] == k ]\n",
    "    new_list1 = pd.concat([new_list1,push2], axis = 0)\n",
    "    \n",
    "for l in ref_tech_spec2:\n",
    "    try:\n",
    "        spec_list1 = new_list1[new_list1[\"Technical Specification\"] == l]\n",
    "        tech_spec1 = l\n",
    "        avg1 = spec_list1[\"Average\"].mean()\n",
    "\n",
    "        #tot weight\n",
    "        match1 = df_reflist[df_reflist[\"Tech Spec Nbr\"] == l]\n",
    "        weight1 = match1[\"Good Qty (Wgt)\"]\n",
    "        print(l)\n",
    "        #tot Area\n",
    "        match_Area1 = match1[\"Good Qty (Area)\"]\n",
    "\n",
    "        #target adhesive weight, dif, and cost\n",
    "        target1 = spec_list1[\"Target\"].iloc[0]\n",
    "        dif1 = avg1 - target1\n",
    "        cost1 = 1.7794 #$\n",
    "\n",
    "        #total adhesive weight dif and cost dif\n",
    "        adh_weight1 = match_Area1/432000*(dif1*1000)\n",
    "        tot_cost1 = adh_weight1.iloc[0]*cost1\n",
    "        push3 = [tech_spec, avg,weight1.iloc[0],match_Area1.iloc[0],target1,dif1,cost1,adh_weight1.iloc[0],tot_cost1]\n",
    "        avg_list1.append(push3)\n",
    "    except:\n",
    "        pass"
   ]
  },
  {
   "cell_type": "code",
   "execution_count": null,
   "id": "6e665efd-bcc9-4af3-bf27-13696fd0469d",
   "metadata": {},
   "outputs": [],
   "source": []
  },
  {
   "cell_type": "code",
   "execution_count": null,
   "id": "df30494e-7b35-40b5-a87e-9e9b11ccc4ae",
   "metadata": {},
   "outputs": [],
   "source": [
    "spec_list1 = new_list1[new_list1[\"Technical Specification\"] == ref_tech_spec2[0]]\n",
    "print(spec_list1) #checking all headers in the file"
   ]
  },
  {
   "cell_type": "code",
   "execution_count": 160,
   "id": "626df15d-4604-4ad5-9061-c4b97c9ab108",
   "metadata": {},
   "outputs": [],
   "source": [
    "check = pd.DataFrame(avg_list1)"
   ]
  },
  {
   "cell_type": "code",
   "execution_count": 166,
   "id": "cb665f3f-4127-40f3-9e41-e18ade29a48c",
   "metadata": {},
   "outputs": [
    {
     "data": {
      "text/plain": [
       "85233.82222466174"
      ]
     },
     "execution_count": 166,
     "metadata": {},
     "output_type": "execute_result"
    }
   ],
   "source": [
    "sum(check[(check[8] > 0)][8])"
   ]
  },
  {
   "cell_type": "code",
   "execution_count": 279,
   "id": "edf86bde-d871-4f6e-b26d-8c68bc8af1be",
   "metadata": {},
   "outputs": [],
   "source": [
    "check.to_excel(r\"...xlsx\") #export to excel for reporting."
   ]
  },
  {
   "cell_type": "code",
   "execution_count": 289,
   "id": "4ae367e0-f9d8-4f59-acb3-9947c937bb09",
   "metadata": {},
   "outputs": [
    {
     "data": {
      "text/plain": [
       "305671.12500726536"
      ]
     },
     "execution_count": 289,
     "metadata": {},
     "output_type": "execute_result"
    }
   ],
   "source": [
    "test10[5].sum()"
   ]
  },
  {
   "cell_type": "code",
   "execution_count": null,
   "id": "350a1c76-7bb6-4e0e-987c-185d5b1f969a",
   "metadata": {},
   "outputs": [],
   "source": []
  }
 ],
 "metadata": {
  "kernelspec": {
   "display_name": "Python 3",
   "language": "python",
   "name": "python3"
  },
  "language_info": {
   "codemirror_mode": {
    "name": "ipython",
    "version": 3
   },
   "file_extension": ".py",
   "mimetype": "text/x-python",
   "name": "python",
   "nbconvert_exporter": "python",
   "pygments_lexer": "ipython3",
   "version": "3.8.8"
  }
 },
 "nbformat": 4,
 "nbformat_minor": 5
}
