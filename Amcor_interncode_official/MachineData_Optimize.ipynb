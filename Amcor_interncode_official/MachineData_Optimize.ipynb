{
 "cells": [
  {
   "cell_type": "code",
   "execution_count": null,
   "id": "aba17bd9-ffd2-4876-9f49-ff9b9ea4242e",
   "metadata": {},
   "outputs": [],
   "source": [
    "#this code is for Julia. This calculated the theoretical maximum output of 1 process given multiple constraints. JuMP is the main package for this.\n",
    "#import relevant package for Julia.\n",
    "using JuMP\n",
    "using Cbc\n",
    "using XLSX\n",
    "using CSV\n",
    "using DataFrames\n",
    "using Glob"
   ]
  },
  {
   "cell_type": "code",
   "execution_count": null,
   "id": "f8ca9828-01a3-49f9-894f-c9410725806b",
   "metadata": {},
   "outputs": [],
   "source": [
    "#call for a model with Cbr optimizer\n",
    "m = Model(Cbc.Optimizer);\n",
    "set_optimizer_attribute(m, \"logLevel\", 0) #set solver attribute. Not necessary, as constraint do not have non-linear relations.\n",
    "\n",
    "#all a,b,c, with numbers are a constant typed in. \n",
    "#current condition of machine\n",
    "Me = [a1,b1,...e1]\n",
    "S = [a2,b2,...e2]\n",
    "...\n",
    "ini_rat1 = [a6,b6,...e6]\n",
    "#maximum limit/constraint of machine\n",
    "lim_Me = [lim_a1,lim_a2,...]\n",
    "lim_S = [lim_b1,lim_b2,...]\n",
    "lim_MeO = a.*[1,1,1,1,1,1];\n",
    "lim_BarP = b .*[1,1,1,1,1,1];\n",
    "\n",
    "println(size(lim_Me,1))"
   ]
  },
  {
   "cell_type": "code",
   "execution_count": null,
   "id": "60bc3638-1e17-4020-b54f-a85a4c8b31f8",
   "metadata": {},
   "outputs": [],
   "source": [
    "@variables(m, begin #create variables mp_sd, s_sd, where consstraint between 0 < current cond < constraint cond\n",
    "        #lim\n",
    "    0 <= mp_sd[i = 1:size(Me,1)] <= lim_Me[i];\n",
    "    0 <= s_sd[i = 1:size(S,1)] <= lim_S[i];\n",
    "    ...\n",
    "    0 <= B_P[i = 1:size(BarP,1)] <= lim_BarP[i];\n",
    "    \n",
    "    PPH_fin[i= 1:size(PPH_cur,1)] >= 0; #variables with ratio constraint, hence between 0<1. \n",
    "    0 <= extr_rat[i =1:6] <= 1;\n",
    "    -1<= rat_del[i = 1:6] <= 1;\n",
    "    PPH1;\n",
    "    PPH2;\n",
    "    max_PPH; #these are calculate variables with no constraint.\n",
    "    end)"
   ]
  },
  {
   "cell_type": "code",
   "execution_count": 64,
   "id": "59738bad-a6dd-48f8-891c-c4b53b84add1",
   "metadata": {},
   "outputs": [
    {
     "name": "stdout",
     "output_type": "stream",
     "text": [
      "Presolve 1 (-41) rows, 3 (-42) columns and 3 (-92) elements\n",
      "0  Obj 5764.3465 Primal inf 1031.7614 (1) Dual inf 2.9468086 (3)\n",
      "1  Obj 6802.6225\n",
      "Optimal - objective value 6802.6225\n",
      "After Postsolve, objective 6802.6225, infeasibilities - dual 0 (0), primal 0 (0)\n",
      "Optimal objective 6802.622471 - 1 iterations time 0.002, Presolve 0.00\n"
     ]
    }
   ],
   "source": [
    "@constraints m begin #create constraints for all variables\n",
    "    sum(extr_rat[1:3]) == 1; #sum of all ratio = 1\n",
    "    sum(extr_rat[4:6]) == 1; #sum of all ratio = 1\n",
    "    0.5*sum(extr_rat) == 1;\n",
    "    ini_rat1[1] .+ rat_del[1] == extr_rat[1]; #A #process part constraint, where initial ratio + extra ratio = final ratio\n",
    "    ini_rat1[2] .+ rat_del[2] == extr_rat[2]; #B\n",
    "    ini_rat1[3] .+ rat_del[3] == extr_rat[3]; #C\n",
    "    ini_rat1[4] .+ rat_del[4] == extr_rat[4]; #D\n",
    "    ini_rat1[5] .+ rat_del[5] == extr_rat[5]; #E\n",
    "    ini_rat1[6] .+ rat_del[6] == extr_rat[6]; #F\n",
    "    mp_sd./melt_pump_sd .== extr_rat./ini_rat1; #ratio of extr_rat calculated as such. scaling current condition by how much will change ratio by certain amount.\n",
    "    PPH_fin./PPH_cur .== extr_rat./ini_rat1;\n",
    "    s_sd./screw_sd .== extr_rat./ini_rat1;\n",
    "    mpo_P./melt_pump_outlet_P .== extr_rat./ini_rat1;\n",
    "    B_P./Barrel_P .== extr_rat./ini_rat1;\n",
    "    PPH1 .== sum(PPH_fin[1:3]); # sum up productions \n",
    "    PPH2 .== sum(PPH_fin[4:6]);\n",
    "    max_PPH .== PPH1 + PPH2; #sum up productions of both machines\n",
    "end\n",
    "\n",
    "@objective(m, Max, max_PPH); #object is to maximize production ppH as max_PPH.\n",
    "\n",
    "optimize!(m)"
   ]
  },
  {
   "cell_type": "code",
   "execution_count": null,
   "id": "9aec6262-000a-46b4-aaa1-37fd8f22c06d",
   "metadata": {},
   "outputs": [],
   "source": [
    "print(value.(extr_rat))\n",
    "print(value.(sum(extr_rat[1:3])))\n",
    "print(value.(sum(extr_rat[4:6])))"
   ]
  },
  {
   "cell_type": "code",
   "execution_count": null,
   "id": "d9300359-2324-4505-8d93-92834e3ccd4b",
   "metadata": {},
   "outputs": [],
   "source": [
    "print(value.(rat_del))"
   ]
  },
  {
   "cell_type": "code",
   "execution_count": null,
   "id": "d0f758b2-7574-4417-80eb-69eb87673969",
   "metadata": {},
   "outputs": [],
   "source": [
    "print(value.(mp_sd))"
   ]
  },
  {
   "cell_type": "code",
   "execution_count": null,
   "id": "04385888-8b08-4a04-a609-06d80227190e",
   "metadata": {},
   "outputs": [],
   "source": [
    "print(melt_pump_sd)"
   ]
  },
  {
   "cell_type": "code",
   "execution_count": null,
   "id": "4f103c83-eb43-4129-a903-171cf5c1a996",
   "metadata": {},
   "outputs": [],
   "source": [
    "print(value.(extr_rat./ini_rat1))"
   ]
  },
  {
   "cell_type": "code",
   "execution_count": null,
   "id": "ab45642f-854a-4189-8aef-4f704addd0e1",
   "metadata": {},
   "outputs": [],
   "source": [
    "value.(mp_sd./melt_pump_sd)"
   ]
  },
  {
   "cell_type": "code",
   "execution_count": null,
   "id": "81b662e5-1af6-42fc-b75a-f955c5405168",
   "metadata": {},
   "outputs": [],
   "source": [
    "value.(PPH_fin)"
   ]
  },
  {
   "cell_type": "code",
   "execution_count": null,
   "id": "26d5fa0b-7a2b-4b3f-81d1-98a142ee7fdf",
   "metadata": {},
   "outputs": [],
   "source": [
    "PPH_cur"
   ]
  },
  {
   "cell_type": "code",
   "execution_count": null,
   "id": "f56fe4a7-54aa-42e0-bf8c-957dea3fa30a",
   "metadata": {},
   "outputs": [],
   "source": [
    "value.(B_P)"
   ]
  },
  {
   "cell_type": "code",
   "execution_count": null,
   "id": "75de55d7-bab0-4684-98a5-3b95fd8a01d1",
   "metadata": {},
   "outputs": [],
   "source": [
    "value.(mpo_P)"
   ]
  },
  {
   "cell_type": "code",
   "execution_count": null,
   "id": "cbe49834-79f6-4b06-8562-e651af2f70b0",
   "metadata": {},
   "outputs": [],
   "source": [
    "value.(mpo_P./melt_pump_outlet_P)"
   ]
  },
  {
   "cell_type": "code",
   "execution_count": null,
   "id": "51db8ebf-4f5d-4650-ad4d-ae57667a09b9",
   "metadata": {},
   "outputs": [],
   "source": [
    "value.(sum(PPH_fin[1:3]))"
   ]
  },
  {
   "cell_type": "code",
   "execution_count": null,
   "id": "57e20606-9bd9-4644-8058-44f6e4b0ab44",
   "metadata": {},
   "outputs": [],
   "source": [
    "value.(sum(PPH_fin[4:6]))"
   ]
  },
  {
   "cell_type": "code",
   "execution_count": null,
   "id": "4e8931f1-ae4b-4c35-834d-6323b65ce141",
   "metadata": {},
   "outputs": [],
   "source": [
    "value.(max_PPH)"
   ]
  },
  {
   "cell_type": "code",
   "execution_count": null,
   "id": "28b5beb2-06fe-49f3-ac7d-b3e2cb31fe7e",
   "metadata": {},
   "outputs": [],
   "source": [
    "sum(PPH_cur)"
   ]
  },
  {
   "cell_type": "code",
   "execution_count": null,
   "id": "f5a219d6-5115-4281-b821-e40612622152",
   "metadata": {},
   "outputs": [],
   "source": []
  }
 ],
 "metadata": {
  "kernelspec": {
   "display_name": "Julia 1.5.2",
   "language": "julia",
   "name": "julia-1.5"
  },
  "language_info": {
   "file_extension": ".jl",
   "mimetype": "application/julia",
   "name": "julia",
   "version": "1.5.2"
  }
 },
 "nbformat": 4,
 "nbformat_minor": 5
}
