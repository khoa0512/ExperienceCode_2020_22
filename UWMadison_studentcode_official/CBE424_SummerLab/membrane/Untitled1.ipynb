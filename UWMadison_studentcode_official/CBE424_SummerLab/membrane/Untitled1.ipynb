{
 "cells": [
  {
   "cell_type": "code",
   "execution_count": 1,
   "id": "9ee7cd56-35e0-4946-ac61-f763de582487",
   "metadata": {},
   "outputs": [],
   "source": [
    "import pickle\n",
    "from scipy import sparse\n",
    "from tensorflow import keras\n",
    "from tensorflow.keras import layers, models\n",
    "import numpy as np\n",
    "import spektral\n",
    "import os\n",
    "import tensorflow as tf\n",
    "import pandas\n",
    "import matplotlib.pyplot as plt\n",
    "from matplotlib.pyplot import figure\n",
    "import keras_tuner as kt\n",
    "from scipy.optimize import curve_fit\n",
    "from scipy.interpolate import make_interp_spline, BSpline\n",
    "import pandas as pd\n",
    "import openpyxl"
   ]
  },
  {
   "cell_type": "code",
   "execution_count": 2,
   "id": "fb1109cc-588d-4042-8765-68ec4c76904d",
   "metadata": {},
   "outputs": [
    {
     "name": "stdout",
     "output_type": "stream",
     "text": [
      "   T1,in  T1,out  T2, in  T2, out  T3, in   T3,out  w1  w2  w3  dT_counter1  \\\n",
      "0    NaN     NaN     NaN      NaN     NaN      NaN NaN NaN NaN          NaN   \n",
      "\n",
      "   ...  A3_tot (outter tube)  A1_cross  A2_cross  A3_cross  Gi_1  Gs_2  Gs_3  \\\n",
      "0  ...                   NaN         0         0         0   NaN   NaN   NaN   \n",
      "\n",
      "   U1  U2  U3  \n",
      "0 NaN NaN NaN  \n",
      "\n",
      "[1 rows x 31 columns]\n"
     ]
    }
   ],
   "source": [
    "batch = pd.read_excel(r\"C:\\Users\\buing\\Documents\\CBE 424\\3rd informal\\data.xlsx\")\n",
    "print(batch)"
   ]
  },
  {
   "cell_type": "code",
   "execution_count": null,
   "id": "6418f14f-c4cc-43c4-a3f8-16b96424812c",
   "metadata": {},
   "outputs": [],
   "source": []
  }
 ],
 "metadata": {
  "kernelspec": {
   "display_name": "Python 3",
   "language": "python",
   "name": "python3"
  },
  "language_info": {
   "codemirror_mode": {
    "name": "ipython",
    "version": 3
   },
   "file_extension": ".py",
   "mimetype": "text/x-python",
   "name": "python",
   "nbconvert_exporter": "python",
   "pygments_lexer": "ipython3",
   "version": "3.8.8"
  }
 },
 "nbformat": 4,
 "nbformat_minor": 5
}
