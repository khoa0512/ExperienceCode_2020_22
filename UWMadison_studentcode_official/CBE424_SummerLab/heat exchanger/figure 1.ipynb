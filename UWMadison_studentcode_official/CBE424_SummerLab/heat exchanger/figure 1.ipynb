{
 "cells": [
  {
   "cell_type": "code",
   "execution_count": 329,
   "id": "5c0eb8f9-7e84-4675-a267-6678575405fc",
   "metadata": {},
   "outputs": [],
   "source": [
    "import pickle\n",
    "from scipy import sparse\n",
    "from tensorflow import keras\n",
    "from tensorflow.keras import layers, models\n",
    "import numpy as np\n",
    "import spektral\n",
    "import os\n",
    "import tensorflow as tf\n",
    "import pandas\n",
    "import matplotlib.pyplot as plt\n",
    "from matplotlib.pyplot import figure\n",
    "import keras_tuner as kt\n",
    "from scipy.optimize import curve_fit\n",
    "from scipy.interpolate import make_interp_spline, BSpline\n",
    "import pandas as pd\n",
    "import openpyxl"
   ]
  },
  {
   "cell_type": "code",
   "execution_count": 387,
   "id": "e3559a21-435d-4b6e-b3e4-1f33f4854256",
   "metadata": {},
   "outputs": [],
   "source": [
    "#counter current\n",
    "counter = pd.read_excel(r\"C:\\Users\\buing\\Documents\\CBE 424\\heat exchanger\\counterflow.xlsx\")"
   ]
  },
  {
   "cell_type": "code",
   "execution_count": 388,
   "id": "ba743acd-3153-4bd6-90e6-51bd6a9a9faa",
   "metadata": {},
   "outputs": [
    {
     "name": "stdout",
     "output_type": "stream",
     "text": [
      "       ms     ts  Ms (kg/s)  mi1 (kg)  ti1 (s)  mi2 (kg)  ti2 (s)  Mi1 (kg/s)  \\\n",
      "0    8.53  20.05   0.425436      1.50    40.10      1.52    40.00    0.037406   \n",
      "1    8.53  20.05   0.425436      5.87    53.02       NaN      NaN    0.110713   \n",
      "2    8.53  20.05   0.425436      6.94    30.03       NaN      NaN    0.231102   \n",
      "3    8.53  20.05   0.425436     14.15    40.05       NaN      NaN    0.353308   \n",
      "4    8.53  20.05   0.425436     12.44    20.24       NaN      NaN    0.614625   \n",
      "5    8.53  20.05   0.425436      9.78    15.00     12.89    19.99    0.652000   \n",
      "6   10.78  19.92   0.541165      1.25    60.15      1.26    60.09    0.020781   \n",
      "7   10.78  19.92   0.541165      4.85    60.10       NaN      NaN    0.080699   \n",
      "8   10.78  19.92   0.541165      7.60    50.04       NaN      NaN    0.151878   \n",
      "9   10.78  19.92   0.541165     10.03    40.16       NaN      NaN    0.249751   \n",
      "10  10.78  19.92   0.541165      7.18    20.18       NaN      NaN    0.355798   \n",
      "11  10.78  19.92   0.541165      9.48    20.10       NaN      NaN    0.471642   \n",
      "12  12.06  20.07   0.600897      0.83    30.07       NaN      NaN    0.027602   \n",
      "13  12.06  20.07   0.600897      2.56    30.13       NaN      NaN    0.084965   \n",
      "14  12.06  20.07   0.600897      4.19    29.92       NaN      NaN    0.140040   \n",
      "15  12.06  20.07   0.600897      6.56    25.07       NaN      NaN    0.261667   \n",
      "16  12.06  20.07   0.600897      6.89    20.17       NaN      NaN    0.341596   \n",
      "17  12.06  20.07   0.600897      7.42    15.21      7.28    15.10    0.487837   \n",
      "18  10.04  15.00   0.669333      0.51    20.27      0.51    20.02    0.025160   \n",
      "19  10.04  15.00   0.669333      1.88    20.13       NaN      NaN    0.093393   \n",
      "20  10.04  15.00   0.669333      2.81    20.03       NaN      NaN    0.140290   \n",
      "21  10.04  15.00   0.669333      3.84    15.15       NaN      NaN    0.253465   \n",
      "22  10.04  15.00   0.669333      6.02    15.12       NaN      NaN    0.398148   \n",
      "23  10.04  15.00   0.669333      7.42    15.21      7.28    15.10    0.487837   \n",
      "24  10.95  15.04   0.728059      0.51    20.27      0.51    20.02    0.025160   \n",
      "25  10.95  15.04   0.728059      1.39    15.23       NaN      NaN    0.091267   \n",
      "26  10.95  15.04   0.728059      2.85    14.98       NaN      NaN    0.190254   \n",
      "27  10.95  15.04   0.728059      4.77    15.08       NaN      NaN    0.316313   \n",
      "28  10.95  15.04   0.728059      4.14    10.00       NaN      NaN    0.414000   \n",
      "29  10.95  15.04   0.728059      5.23    10.09      5.20    10.05    0.518335   \n",
      "30   7.97  10.07   0.791460      0.33    25.17       NaN      NaN    0.013111   \n",
      "31   7.97  10.07   0.791460      0.82    15.05       NaN      NaN    0.054485   \n",
      "32   7.97  10.07   0.791460      1.86    15.07       NaN      NaN    0.123424   \n",
      "33   7.97  10.07   0.791460      2.14     9.99       NaN      NaN    0.214214   \n",
      "34   7.97  10.07   0.791460      3.50    10.03       NaN      NaN    0.348953   \n",
      "35   7.97  10.07   0.791460      5.23    10.09      5.20    10.05    0.518335   \n",
      "\n",
      "    M2 (kg/s)  Th_in  Th_out  Tc_in  Tc_out  Unnamed: 13  \n",
      "0    0.038000  55.82   53.69  16.27   38.66          NaN  \n",
      "1         NaN  57.58   53.69  16.84   30.91          NaN  \n",
      "2         NaN  58.62   52.93  16.04   26.24          NaN  \n",
      "3         NaN  58.67   51.00  15.27   24.25          NaN  \n",
      "4         NaN  57.00   48.17  14.81   20.81          NaN  \n",
      "5    0.644822  55.45   46.75  14.43   20.09     0.003589  \n",
      "6    0.020969  63.52   62.29  15.17   47.48     0.000094  \n",
      "7         NaN  64.26   60.96  15.13   37.33          NaN  \n",
      "8         NaN  64.30   60.19  15.16   29.45          NaN  \n",
      "9         NaN  63.58   57.67  14.99   28.27          NaN  \n",
      "10        NaN  62.74   56.07  14.96   25.50          NaN  \n",
      "11        NaN  62.00   54.66  14.93   23.61          NaN  \n",
      "12        NaN  63.38   61.98  15.26   48.06          NaN  \n",
      "13        NaN  64.11   60.11  15.11   38.24          NaN  \n",
      "14        NaN  64.08   60.11  15.12   32.74          NaN  \n",
      "15        NaN  63.75   58.27  15.17   28.52          NaN  \n",
      "16        NaN  63.02   57.00  15.14   26.42          NaN  \n",
      "17   0.482119  62.10   55.28  15.16   23.86     0.002859  \n",
      "18   0.025475  58.49   57.57  15.61   39.95     0.000157  \n",
      "19        NaN  57.61   55.10  15.33   33.58          NaN  \n",
      "20        NaN  57.61   54.37  15.28   30.58          NaN  \n",
      "21        NaN  57.73   53.53  15.28   26.82          NaN  \n",
      "22        NaN  58.35   53.13  15.19   23.50          NaN  \n",
      "23   0.482119  60.01   54.05  15.18   23.96     0.002859  \n",
      "24   0.025475  60.09   59.27  15.70   41.29     0.000157  \n",
      "25        NaN  60.37   58.12  15.59   34.10          NaN  \n",
      "26        NaN  60.37   57.00  15.58   29.14          NaN  \n",
      "27        NaN  60.13   55.61  15.56   26.76          NaN  \n",
      "28        NaN  59.44   54.32  15.52   24.67          NaN  \n",
      "29   0.517413  58.59   53.08  15.41   23.16     0.000461  \n",
      "30        NaN  56.90   56.47  15.61   40.51          NaN  \n",
      "31        NaN  56.07   54.64  15.46   36.32          NaN  \n",
      "32        NaN  55.81   53.34  15.34   30.67          NaN  \n",
      "33        NaN  55.81   52.68  15.33   26.92          NaN  \n",
      "34        NaN  55.97   52.03  15.30   24.37          NaN  \n",
      "35   0.517413  56.84   52.01  15.31   22.89     0.000461  \n"
     ]
    }
   ],
   "source": [
    "print(counter)"
   ]
  },
  {
   "cell_type": "code",
   "execution_count": 389,
   "id": "922f1acd-0268-47c9-9b0d-b67db063c254",
   "metadata": {},
   "outputs": [],
   "source": [
    "dat = pd.DataFrame(counter)"
   ]
  },
  {
   "cell_type": "code",
   "execution_count": 390,
   "id": "f1cb47bd-4cab-42fb-9f9a-cf96b966155c",
   "metadata": {},
   "outputs": [],
   "source": [
    "hot_rate = dat[\"Ms (kg/s)\"]\n",
    "cold_rate = dat[\"Mi1 (kg/s)\"]\n",
    "wc = cold_rate\n",
    "wh = hot_rate\n",
    "Th_in = dat[\"Th_in\"]\n",
    "Th_out = dat[\"Th_out\"]\n",
    "Tc_in = dat[\"Tc_in\"]\n",
    "Tc_out = dat[\"Tc_out\"]"
   ]
  },
  {
   "cell_type": "code",
   "execution_count": 477,
   "id": "3334fd48-7454-4aa5-a0af-fd446ed0bb16",
   "metadata": {},
   "outputs": [
    {
     "name": "stdout",
     "output_type": "stream",
     "text": [
      "[0.03770324 0.64841121 0.02087496 0.48497808 0.02531743 0.48497808\n",
      " 0.02531743 0.51787396 0.51787396] [2.96758105e-04 3.58879440e-03 9.35836478e-05 2.85887204e-03\n",
      " 1.57095002e-04 2.85887204e-03 1.57095002e-04 4.61024905e-04\n",
      " 4.61024905e-04]\n"
     ]
    }
   ],
   "source": [
    "error_dat = dat[dat[\"mi2 (kg)\"].notna()]\n",
    "#print(error_dat)\n",
    "Ms_err = error_dat[\"Ms (kg/s)\"].to_numpy()\n",
    "M1 = error_dat[\"Mi1 (kg/s)\"].to_numpy()\n",
    "M2 = error_dat[\"mi2 (kg)\"].to_numpy()/error_dat[\"ti2 (s)\"].to_numpy()\n",
    "#print(M1,M2)\n",
    "Avg_Mi = (M1+M2)/2\n",
    "std_Mi = np.std([M1, M2],axis = 0)\n",
    "print(Avg_Mi, std_Mi)"
   ]
  },
  {
   "cell_type": "code",
   "execution_count": 524,
   "id": "486b1a94-d541-4ad8-bf4e-38dabf7a4572",
   "metadata": {},
   "outputs": [
    {
     "name": "stdout",
     "output_type": "stream",
     "text": [
      "[ 53.99922805 941.21374474  29.99957114 704.23135268  36.32094105\n",
      " 704.23135268  36.32094105 748.25768771 748.25768771]\n"
     ]
    }
   ],
   "source": [
    "#print(error_dat)\n",
    "Th_in_err = error_dat[\"Th_in\"]\n",
    "Th_out_err = error_dat[\"Th_out\"]\n",
    "Tc_in_err = error_dat[\"Tc_in\"]\n",
    "Tc_out_err = error_dat[\"Tc_out\"]\n",
    "Ms_err = error_dat[\"Ms (kg/s)\"]\n",
    "Gi_err = M1/(np.pi*31*np.power((0.21/39.37),2)/4)\n",
    "Cp = 4.182\n",
    "dT_counter_err = ((Th_in_err - Tc_out_err) - (Th_out_err - Tc_in_err))/np.log(((Th_in_err - Tc_out_err)/(Th_out_err - Tc_in_err)))\n",
    "Qc_err1 = M1*Cp*(Tc_out_err - Tc_in_err)\n",
    "Qc_err2 = M2*Cp*(Tc_out_err - Tc_in_err)\n",
    "Qc_avg = (Qc_err1+Qc_err2)/2\n",
    "Qc_std = np.std([Qc_err1, Qc_err2],axis = 0)\n",
    "Qh = Ms_err*Cp*(Th_out_err - Th_in_err)\n",
    "A = 31*np.pi*7.875*0.21/(39.37*39.37)\n",
    "Q_err1 = (abs(Qc_err1) + abs(Qh))/2\n",
    "Q_err2 = (abs(Qc_err2) + abs(Qh))/2\n",
    "U_err1 = Q_err1/(A*dT_counter_err)\n",
    "U_err2 = Q_err2/(A*dT_counter_err)\n",
    "U_avg = (U_err1+U_err2)/2\n",
    "U_std = np.std([U_err1, U_err2],axis = 0)\n",
    "print(Gi_err)"
   ]
  },
  {
   "cell_type": "code",
   "execution_count": 526,
   "id": "b0be64de-0bad-4a66-ba98-6defabe05480",
   "metadata": {},
   "outputs": [],
   "source": [
    "dT_counter = ((Th_in - Tc_out) - (Th_out - Tc_in))/np.log(((Th_in - Tc_out)/(Th_out - Tc_in)))\n",
    "Cp = 4.182 #kJ/kgC\n",
    "Qc = wc*Cp*(Tc_out- Tc_in)      #Qc = wc*Cp_c*(Tc_out - Tc_in)\n",
    "Qh = wh*Cp*(Th_out- Th_in)   #Qh = wh*Cp_h*(Th_out- Th_in)\n",
    "Q = (abs(Qc) + abs(Qh))/2\n",
    "A = 31*np.pi*7.875*0.21/(39.37*39.37)\n",
    "U = Q/(A*dT_counter)\n",
    "Gi = wc/(np.pi*31*np.power((0.21/39.37),2)/4)\n",
    "Gs = wh/((np.pi*np.power((2.025/39.37),2)/4)-(np.pi*31*np.power((0.25/39.37),2)/4))\n",
    "#dT_co = ((Th_in - Tc_in) - (Th_out - Tc_out))/np.log(((Th_in - Tc_in)/(Th_out - Tc_out)))\n",
    "flip_U = 1/U\n",
    "print(A,dT_counter[0],U[0],Gs[0])"
   ]
  },
  {
   "cell_type": "code",
   "execution_count": 526,
   "id": "dc40ebd4-626b-44cd-98c2-39f431cab82c",
   "metadata": {},
   "outputs": [
    {
     "name": "stdout",
     "output_type": "stream",
     "text": [
      "0.10390838483425208 25.986878426698617 1.3502797738151784 388.14499082989255\n"
     ]
    }
   ],
   "source": []
  },
  {
   "cell_type": "code",
   "execution_count": 480,
   "id": "135ac362-abc1-4446-b5cd-b2abfcd65c75",
   "metadata": {},
   "outputs": [
    {
     "name": "stdout",
     "output_type": "stream",
     "text": [
      "[ 53.99922805 941.21374474  29.99957114 704.23135268  36.32094105\n",
      " 704.23135268  36.32094105 748.25768771 748.25768771] [0.00514524 0.01208733 0.00210971 0.01277722 0.00268354 0.01349056\n",
      " 0.00274507 0.00196779 0.00199175] 0     1.350280\n",
      "5     4.398503\n",
      "6     0.932915\n",
      "17    4.285565\n",
      "18    0.861966\n",
      "23    4.446049\n",
      "24    0.847314\n",
      "29    4.421781\n",
      "35    4.418139\n",
      "dtype: float64\n"
     ]
    }
   ],
   "source": [
    "print(Gi_err,U_std,U_err1)"
   ]
  },
  {
   "cell_type": "code",
   "execution_count": 481,
   "id": "29dbf8fe-d196-409f-8d48-df704b15bf13",
   "metadata": {},
   "outputs": [],
   "source": [
    "def func(G,a,b,c,d,e):\n",
    "    Gi,Gs = G\n",
    "    return (a/np.power(Gi,b)) + c + (d/np.power(Gs,e))\n",
    "    #Sieder_tate_LHS = h*D/k\n",
    "    #Sieder_tate_RHS = 0.023 * (D*G/miu)^0.8 * (Cp*miu/k)^(1/3) * (miu_b/miu_o)^0.14\n",
    "\n",
    "    #Kern_LHS = h_o*D_e/k\n",
    "    #Kern_RHS = 0.36 * (D_e*G_s/miu)^0.55 * (Cp*miu/k)^(1/3) * (miu_b/miu_o)^0.14\n",
    "\n",
    "    #param fitting\n",
    "    #LHS = 1/U\n",
    "    #RHS = a/(wc^b) + c + d/(wh^e)\n",
    "\n",
    "    #hi_exp = 1/a*wc^b\n",
    "    #h0_exp = (1/d)*(Ai/A0)*(wh^e)\n"
   ]
  },
  {
   "cell_type": "code",
   "execution_count": 482,
   "id": "18d7f442-993e-46bb-b2b6-59668401b9f6",
   "metadata": {},
   "outputs": [
    {
     "name": "stdout",
     "output_type": "stream",
     "text": [
      "(array([30.        ,  0.98426514,  0.20580751,  0.44152376,  5.93986915]), array([[5.11824240e+01, 5.42480063e-01, 1.46191544e-01, 0.00000000e+00,\n",
      "        0.00000000e+00],\n",
      "       [5.42480063e-01, 5.85595432e-03, 1.66619262e-03, 0.00000000e+00,\n",
      "        0.00000000e+00],\n",
      "       [1.46191544e-01, 1.66619262e-03, 6.76561972e-04, 0.00000000e+00,\n",
      "        0.00000000e+00],\n",
      "       [0.00000000e+00, 0.00000000e+00, 0.00000000e+00, 0.00000000e+00,\n",
      "        0.00000000e+00],\n",
      "       [0.00000000e+00, 0.00000000e+00, 0.00000000e+00, 0.00000000e+00,\n",
      "        0.00000000e+00]]))\n"
     ]
    }
   ],
   "source": [
    "guess = [1, 0.3, 2, 1,0.7]\n",
    "a,b,c,d,e = guess\n",
    "LHS = func((Gi,Gs),a,b,c,d,e)\n",
    "param = curve_fit(func,(Gi,Gs),flip_U,guess,bounds=(0, [30, 3, 10,30,10]))\n",
    "LHS_fit = func((Gi,Gs),*param[0])\n",
    "U_fit = 1/LHS_fit\n",
    "\n",
    "print(param)"
   ]
  },
  {
   "cell_type": "code",
   "execution_count": null,
   "id": "5af9007a-daa4-4a3a-8634-9fbc888b4dad",
   "metadata": {},
   "outputs": [],
   "source": []
  },
  {
   "cell_type": "code",
   "execution_count": 483,
   "id": "aede56db-fe0d-42dd-a8f7-3436998aac85",
   "metadata": {},
   "outputs": [
    {
     "data": {
      "text/plain": [
       "[<matplotlib.lines.Line2D at 0x165064644c0>]"
      ]
     },
     "execution_count": 483,
     "metadata": {},
     "output_type": "execute_result"
    },
    {
     "data": {
      "image/png": "[encoded data removed]",
      "text/plain": [
       "<Figure size 432x288 with 1 Axes>"
      ]
     },
     "metadata": {
      "needs_background": "light"
     },
     "output_type": "display_data"
    }
   ],
   "source": [
    "plt.plot(Gi,U,'ro')\n",
    "Gi1 = Gi[0:6]\n",
    "Gi2 = Gi[6:12]\n",
    "Gi3 = Gi[12:18]\n",
    "Gi4 = Gi[18:24]\n",
    "Gi5 = Gi[24:30]\n",
    "Gi6 = Gi[30:36]\n",
    "Gs1 = Gs[0:6]\n",
    "Gs2 = Gs[6:12]\n",
    "Gs3 = Gs[12:18]\n",
    "Gs4 = Gs[18:24]\n",
    "Gs5 = Gs[24:30]\n",
    "Gs6 = Gs[30:36]\n",
    "U1 = U[0:6]\n",
    "U2 = U[6:12]\n",
    "U3 = U[12:18]\n",
    "U4 = U[18:24]\n",
    "U5 = U[24:30]\n",
    "U6 = U[30:36]\n",
    "Gs_1_fit = 1/(func((Gi[0:6],Gs[0:6]),*param[0]))\n",
    "Gs_2_fit = 1/(func((Gi[6:12],Gs[6:12]),*param[0]))\n",
    "Gs_3_fit = 1/(func((Gi[12:18],Gs[12:18]),*param[0]))\n",
    "Gs_4_fit = 1/(func((Gi[18:24],Gs[18:24]),*param[0]))\n",
    "Gs_5_fit = 1/(func((Gi[24:30],Gs[24:30]),*param[0]))\n",
    "Gs_6_fit = 1/(func((Gi[30:36],Gs[30:36]),*param[0]))\n",
    "#plt.plot(Gi[0:6],Gs_1_fit,'r-')\n",
    "#plt.plot(Gi[6:12],Gs_2_fit,'r-')\n",
    "#plt.plot(Gi[12:18],Gs_3_fit,'r-')\n",
    "#plt.plot(Gi[18:24],Gs_4_fit,'r-')\n",
    "plt.plot(Gi[24:30],Gs_5_fit,'r-')"
   ]
  },
  {
   "cell_type": "code",
   "execution_count": 516,
   "id": "17601b9c-c8d7-45ab-8f3a-7dc33f7f43d0",
   "metadata": {},
   "outputs": [
    {
     "data": {
      "text/plain": [
       "<ErrorbarContainer object of 3 artists>"
      ]
     },
     "execution_count": 516,
     "metadata": {},
     "output_type": "execute_result"
    },
    {
     "data": {
      "image/png": "[encoded data removed]",
      "text/plain": [
       "<Figure size 1080x864 with 1 Axes>"
      ]
     },
     "metadata": {
      "needs_background": "light"
     },
     "output_type": "display_data"
    }
   ],
   "source": [
    "Gi_spline_1 = np.sort(Gi1)\n",
    "Gi_spline_2 = np.sort(Gi2)\n",
    "Gi_spline_3 = np.sort(Gi3)\n",
    "Gi_spline_4 = np.sort(Gi4)\n",
    "Gi_spline_5 = np.sort(Gi5)\n",
    "Gi_spline_6 = np.sort(Gi6)\n",
    "\n",
    "#U_spline_1 = 1/func((Gi_spline_1,Gs1),*param[0])\n",
    "#U_spline_2 = 1/func((Gi_spline_1,Gs2),*param[0])\n",
    "#U_spline_3 = 1/func((Gi_spline_1,Gs3),*param[0])\n",
    "#U_spline_4 = 1/func((Gi_spline_1,Gs4),*param[0])\n",
    "#U_spline_5 = 1/func((Gi_spline_1,Gs5),*param[0])\n",
    "#U_spline_6 = 1/func((Gi_spline_1,Gs6),*param[0])\n",
    "#D_model = np.linspace(D_spline.min(), D_spline.max(), 500)\n",
    "Gi_model = np.linspace(Gi.min(),Gi.max(),120)\n",
    "Gi_model1 = np.linspace(Gi1.min(), Gi1.max(), 120)\n",
    "Gi_model2 = np.linspace(Gi2.min(), Gi2.max(), 120)\n",
    "Gi_model3 = np.linspace(Gi3.min(), Gi3.max(), 120)\n",
    "Gi_model4 = np.linspace(Gi4.min(), Gi4.max(), 120)\n",
    "Gi_model5 = np.linspace(Gi5.min(), Gi5.max(), 120)\n",
    "Gi_model6 = np.linspace(Gi6.min(), Gi6.max(), 120)\n",
    "#Gi1_spl = make_interp_spline(Gi_spline_1,U_spline_1)\n",
    "#Gi2_spl = make_interp_spline(Gi_spline_2,U_spline_2)\n",
    "#Gi3_spl = make_interp_spline(Gi_spline_3,U_spline_3)\n",
    "#Gi4_spl = make_interp_spline(Gi_spline_4,U_spline_4)\n",
    "#Gi5_spl = make_interp_spline(Gi_spline_5,U_spline_5)\n",
    "#Gi6_spl = make_interp_spline(Gi_spline_6,U_spline_6)\n",
    "Gs_model1 = np.repeat(Gs1,20)\n",
    "Gs_model2 = np.repeat(Gs2,20)\n",
    "Gs_model3 = np.repeat(Gs3,20)\n",
    "Gs_model4 = np.repeat(Gs4,20)\n",
    "Gs_model5 = np.repeat(Gs5,20)\n",
    "Gs_model6 = np.repeat(Gs6,20)\n",
    "U1_model =  1/func((Gi_model,Gs_model1),*param[0])\n",
    "U2_model = 1/func((Gi_model,Gs_model2),*param[0])\n",
    "U3_model = 1/func((Gi_model,Gs_model3),*param[0])\n",
    "U4_model = 1/func((Gi_model,Gs_model4),*param[0])\n",
    "U5_model = 1/func((Gi_model,Gs_model5),*param[0])\n",
    "U6_model = 1/func((Gi_model,Gs_model6),*param[0])\n",
    "label = np.unique(Gs)\n",
    "l_width = 0.5\n",
    "marksize = 4\n",
    "figure(figsize = (15,12))\n",
    "plt.plot(Gi_model,U1_model,'b-',linewidth = l_width,label =str(int(label[0])))\n",
    "#plt.annotate(int(label[0]),\n",
    "#             xy = (   Gi_model[-1],(U1_model.to_numpy())[-1]),\n",
    "#             xytext= (  0.95*Gi_model[-1],0.95*(U1_model.to_numpy())[-1]),\n",
    "#             color = 'b'\n",
    "#            )\n",
    "\n",
    "plt.plot(Gi_model,U2_model,'g-',linewidth = l_width,label =str(int(label[1])))\n",
    "#plt.annotate(int(label[1]),\n",
    "#             xy = (   Gi_model[-1],(U2_model.to_numpy())[-1]),\n",
    "#             xytext= (   0.95*Gi_model[-1],0.95*(U2_model.to_numpy())[-1]),\n",
    "#             color = 'g'\n",
    "#            )\n",
    "\n",
    "plt.plot(Gi_model,U3_model,'r-',linewidth = l_width,label =str(int(label[2])))\n",
    "#plt.annotate(int(label[2]),\n",
    "#             xy = (   Gi_model[-1],(U3_model.to_numpy())[-1]),\n",
    "#             xytext= (   Gi_model[-1],0.98*(U3_model.to_numpy())[-1]),\n",
    "#             color = 'r'\n",
    "#            )\n",
    "plt.plot(Gi_model,U4_model,'c-',linewidth = l_width,label =str(int(label[3])))\n",
    "#plt.annotate(int(label[3]),\n",
    "#             xy = (   Gi_model[-1],(U4_model.to_numpy())[-1]),\n",
    "#             xytext= (   1.01*Gi_model[-1],0.99*(U4_model.to_numpy())[-1]),\n",
    "#             color = 'c'\n",
    "#            )\n",
    "plt.plot(Gi_model,U5_model,'m-',linewidth = l_width,label =str(int(label[4])))\n",
    "#plt.annotate(int(label[4]),\n",
    "#             xy = (   Gi_model[-1],(U5_model.to_numpy())[-1]),\n",
    " #            xytext= (   1.02*Gi_model[-1],1.01*(U5_model.to_numpy())[-1]),\n",
    " #            color = 'm'\n",
    "#            )\n",
    "plt.plot(Gi_model,U6_model,'y-',linewidth = l_width,label =str(int(label[5])))\n",
    "#plt.annotate(int(label[5]),\n",
    "#             xy = (   Gi_model[-1],(U6_model.to_numpy())[-1]),\n",
    "#             xytext= (   0.97*Gi_model[-1],1.01*(U6_model.to_numpy())[-1]),\n",
    "#             color = 'y'\n",
    "#            )\n",
    "plt.plot(Gi1,U1,'bo',markersize = marksize, label = \" \") #str(int(label[0])))\n",
    "plt.plot(Gi2,U2,'go',markersize = marksize, label = \" \") #str(int(label[1])))\n",
    "plt.plot(Gi3,U3,'ro',markersize = marksize, label = \" \") # str(int(label[2])))\n",
    "plt.plot(Gi4,U4,'co',markersize = marksize, label = \" \") # str(int(label[3])))\n",
    "plt.plot(Gi5,U5,'mo',markersize = marksize, label = \" \") # str(int(label[4])))\n",
    "plt.plot(Gi6,U6,'yo',markersize = marksize, label = \" \") # str(int(label[5])))\n",
    "\n",
    "#plt.annotate(\"$G_s^{model}$ $(kg/$$m^{2}$s)\",\n",
    " #            xy = (   Gi_model[-1],(U5_model.to_numpy())[-1]),\n",
    " #            xytext= (0.9*Gi_model[-1],1.07*(U5_model.to_numpy())[-1]),\n",
    " #            fontsize = 14\n",
    " #           )\n",
    "#legend = plt.legend(loc = 'lower right', fontsize = 13, title = \"$G_s^{Exp}$ $(kg/$$m^{2}$s)\")\n",
    "legend = plt.legend(ncol = 2, loc = 'lower right', fontsize = 13, title = \" \",markerfirst = False,labelcolor =('b','g','r','c','m','y'),labelspacing = 0.4\n",
    "                   ,handlelength =3,handletextpad = 3,columnspacing = 0,bbox_to_anchor = (0.95,0.1),frameon = True,borderpad = 2,borderaxespad = 0.2) #^{Exp}\n",
    "legend.get_title().set_fontsize('13')\n",
    "\n",
    "plt.text(710,2.32,r\"$G_s$ $(\\frac{kg} {m^{2}s})$\",\n",
    "             #xy = (   Gi_model[-1],(U5_model.to_numpy())[-1]),\n",
    "             #xytext= (0.59*Gi_model[-1],0.55*(U5_model.to_numpy())[-1]),\n",
    "            fontsize = 15, zorder = 100\n",
    "            )\n",
    "\n",
    "plt.text(805,2.32, 'Model', fontsize = 15, zorder =100)\n",
    "plt.text(925,2.32, 'Exp', fontsize = 15, zorder =100)\n",
    "\n",
    "plt.ylim(1,5)\n",
    "plt.xlim(0,1050)\n",
    "plt.ylabel(r\"$U^{Exp}$ $(\\frac{kJ} {m^{2}s \\cdot{K}})$\", fontsize = 30,labelpad=20)\n",
    "plt.xlabel(r\"$G_i$ $(\\frac{kg} {m^{2}s})$\",fontsize = 30,labelpad=20)\n",
    "plt.tick_params(axis='both', which='major', labelsize=20)\n",
    "plt.errorbar(Gi_err,U_err1,yerr = [U_std], fmt = 'none',ecolor = 'black',capsize = 5,elinewidth = 1)\n",
    "#spl = make_interp_spline(D_spline,phin_model_point)\n",
    "#color = cm.rainbow(np.linspace(0, 1, n))\n",
    "#for i, c in zip(range(n), color):\n",
    "#   plt.plot(x, y, c=c)\n"
   ]
  },
  {
   "cell_type": "code",
   "execution_count": null,
   "id": "29649ef5-5fab-485f-82de-b40fb97a3cda",
   "metadata": {},
   "outputs": [],
   "source": []
  },
  {
   "cell_type": "code",
   "execution_count": 261,
   "id": "00fe0554-15dd-4fd6-8a91-f8475bed25bd",
   "metadata": {},
   "outputs": [
    {
     "name": "stdout",
     "output_type": "stream",
     "text": [
      "941.2137447425847\n",
      "433 exp\n"
     ]
    }
   ],
   "source": [
    "print(Gi_model[-1])\n",
    "print( str(int(label[0])) + \" exp\")"
   ]
  },
  {
   "cell_type": "code",
   "execution_count": 149,
   "id": "bcde7893-cb08-4d1a-ab11-cb9e138cd29e",
   "metadata": {},
   "outputs": [
    {
     "name": "stdout",
     "output_type": "stream",
     "text": [
      "[ 53.99922805 159.82291327 333.61441159 510.02866387 887.25925282\n",
      " 941.21374474] 0     53.999228\n",
      "1    159.822913\n",
      "2    333.614412\n",
      "3    510.028664\n",
      "4    887.259253\n",
      "5    941.213745\n",
      "Name: Mi1 (kg/s), dtype: float64\n"
     ]
    }
   ],
   "source": [
    "print(Gi_spline_1,Gi[0:6])"
   ]
  },
  {
   "cell_type": "code",
   "execution_count": 150,
   "id": "2a25b042-a95c-4863-a462-243abd2d70ea",
   "metadata": {},
   "outputs": [
    {
     "name": "stdout",
     "output_type": "stream",
     "text": [
      "[ 53.99922805 159.82291327 333.61441159 510.02866387 887.25925282\n",
      " 941.21374474]\n"
     ]
    }
   ],
   "source": [
    "print(Gi_spline_1)"
   ]
  },
  {
   "cell_type": "code",
   "execution_count": 332,
   "id": "acea39b5-aa62-4277-84ff-5423bb398e9c",
   "metadata": {},
   "outputs": [
    {
     "data": {
      "text/plain": [
       "0     0.350901\n",
       "1     0.226743\n",
       "2     0.173598\n",
       "3     0.140810\n",
       "4     0.123190\n",
       "5     0.120999\n",
       "6     0.467820\n",
       "7     0.224546\n",
       "8     0.193291\n",
       "9     0.141857\n",
       "10    0.127866\n",
       "11    0.118162\n",
       "12    0.367594\n",
       "13    0.192679\n",
       "14    0.173016\n",
       "15    0.133571\n",
       "16    0.122935\n",
       "17    0.111941\n",
       "18    0.434674\n",
       "19    0.198015\n",
       "20    0.165786\n",
       "21    0.133531\n",
       "22    0.120505\n",
       "23    0.105428\n",
       "24    0.430934\n",
       "25    0.204658\n",
       "26    0.149732\n",
       "27    0.118432\n",
       "28    0.109955\n",
       "29    0.103549\n",
       "30    0.661619\n",
       "31    0.249811\n",
       "32    0.167908\n",
       "33    0.138282\n",
       "34    0.116164\n",
       "35    0.100746\n",
       "dtype: float64"
      ]
     },
     "execution_count": 332,
     "metadata": {},
     "output_type": "execute_result"
    }
   ],
   "source": [
    "flip_U"
   ]
  },
  {
   "cell_type": "code",
   "execution_count": null,
   "id": "c2034a71-7763-45fa-b460-f5e512d0fa71",
   "metadata": {},
   "outputs": [],
   "source": []
  }
 ],
 "metadata": {
  "kernelspec": {
   "display_name": "Python 3",
   "language": "python",
   "name": "python3"
  },
  "language_info": {
   "codemirror_mode": {
    "name": "ipython",
    "version": 3
   },
   "file_extension": ".py",
   "mimetype": "text/x-python",
   "name": "python",
   "nbconvert_exporter": "python",
   "pygments_lexer": "ipython3",
   "version": "3.8.8"
  }
 },
 "nbformat": 4,
 "nbformat_minor": 5
}
