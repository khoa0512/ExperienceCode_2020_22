{
 "cells": [
  {
   "cell_type": "code",
   "execution_count": 1,
   "id": "5c0eb8f9-7e84-4675-a267-6678575405fc",
   "metadata": {},
   "outputs": [],
   "source": [
    "import pickle\n",
    "from scipy import sparse\n",
    "from tensorflow import keras\n",
    "from tensorflow.keras import layers, models\n",
    "import numpy as np\n",
    "import spektral\n",
    "import os\n",
    "import tensorflow as tf\n",
    "import pandas\n",
    "import matplotlib.pyplot as plt\n",
    "from matplotlib.pyplot import figure\n",
    "import keras_tuner as kt\n",
    "from scipy.optimize import curve_fit\n",
    "from scipy.interpolate import make_interp_spline, BSpline\n",
    "import pandas as pd\n",
    "import openpyxl"
   ]
  },
  {
   "cell_type": "code",
   "execution_count": 390,
   "id": "e3559a21-435d-4b6e-b3e4-1f33f4854256",
   "metadata": {},
   "outputs": [],
   "source": [
    "#counter current\n",
    "cocurrent = pd.read_excel(r\"C:\\Users\\buing\\Documents\\CBE 424\\heat exchanger\\cocurrent.xlsx\")"
   ]
  },
  {
   "cell_type": "code",
   "execution_count": 391,
   "id": "ba743acd-3153-4bd6-90e6-51bd6a9a9faa",
   "metadata": {},
   "outputs": [
    {
     "name": "stdout",
     "output_type": "stream",
     "text": [
      "      ms     ts  Ms (kg/s)  mi1 (kg)  ti1 (s)  Mi1 (kg/s)  mi2 (kg)  ti2 (s)  \\\n",
      "0   8.09  10.15   0.797044      0.47    30.06    0.015635       NaN      NaN   \n",
      "1   8.09  10.15   0.797044      1.01    15.08    0.066976       NaN      NaN   \n",
      "2   8.09  10.15   0.797044      2.12    15.14    0.140026       NaN      NaN   \n",
      "3   8.09  10.15   0.797044      2.16    10.20    0.211765       NaN      NaN   \n",
      "4   8.09  10.15   0.797044      3.51    10.05    0.349254       NaN      NaN   \n",
      "5   8.09  10.15   0.797044      6.14    10.04    0.611554      6.18    10.12   \n",
      "6   7.38  10.15   0.727094      0.42    20.04    0.020958       NaN      NaN   \n",
      "7   7.38  10.15   0.727094      1.14    15.07    0.075647       NaN      NaN   \n",
      "8   7.38  10.15   0.727094      1.24    10.14    0.122288       NaN      NaN   \n",
      "9   7.38  10.15   0.727094      2.51    10.17    0.246804       NaN      NaN   \n",
      "10  7.38  10.15   0.727094      4.12    10.09    0.408325       NaN      NaN   \n",
      "11  7.38  10.15   0.727094      6.14    10.04    0.611554      6.18    10.12   \n",
      "12  6.74  10.14   0.664694      0.39    20.05    0.019451       NaN      NaN   \n",
      "13  6.74  10.14   0.664694      1.10    15.15    0.072607       NaN      NaN   \n",
      "14  6.74  10.14   0.664694      2.09    10.03    0.208375       NaN      NaN   \n",
      "15  6.74  10.14   0.664694      4.36    10.12    0.430830       NaN      NaN   \n",
      "16  6.74  10.14   0.664694      5.92    10.09    0.586720       NaN      NaN   \n",
      "17  6.74  10.14   0.664694      8.03    10.13    0.792695       NaN      NaN   \n",
      "18  6.11  10.18   0.600196      0.34    20.00    0.017000      0.31    20.12   \n",
      "19  6.11  10.18   0.600196      1.22    15.13    0.080635      1.21    15.12   \n",
      "20  6.11  10.18   0.600196      1.88    10.15    0.185222       NaN      NaN   \n",
      "21  6.11  10.18   0.600196      3.27    10.10    0.323762       NaN      NaN   \n",
      "22  6.11  10.18   0.600196      5.58    10.19    0.547596       NaN      NaN   \n",
      "23  6.11  10.18   0.600196      7.99    10.12    0.789526       NaN      NaN   \n",
      "24  5.66  10.50   0.539048      0.34    20.00    0.017000      0.31    20.12   \n",
      "25  5.66  10.50   0.539048      0.82    20.14    0.040715       NaN      NaN   \n",
      "26  5.66  10.50   0.539048      1.96    11.15    0.175785       NaN      NaN   \n",
      "27  5.66  10.50   0.539048      3.01    10.03    0.300100       NaN      NaN   \n",
      "28  5.66  10.50   0.539048      5.16    10.17    0.507375      5.16    10.06   \n",
      "29  5.66  10.50   0.539048      7.95    10.06    0.790258      7.85    10.00   \n",
      "30  6.18  15.15   0.407921      0.95    21.00    0.045238       NaN      NaN   \n",
      "31  6.18  15.15   0.407921      2.31    15.15    0.152475       NaN      NaN   \n",
      "32  6.18  15.15   0.407921      4.27    15.15    0.281848       NaN      NaN   \n",
      "33  6.18  15.15   0.407921      4.56    10.11    0.451039      4.59    10.08   \n",
      "34  6.18  15.15   0.407921      6.02    10.13    0.594274       NaN      NaN   \n",
      "35  6.18  15.15   0.407921      7.95    10.06    0.790258      7.85    10.00   \n",
      "\n",
      "    Th_in  Th_out  Tc_in  Tc_out  \n",
      "0   61.30   60.60  52.25   16.16  \n",
      "1   62.20   60.19  39.38   15.94  \n",
      "2   62.26   59.32  32.42   15.95  \n",
      "3   62.12   58.51  28.84   15.89  \n",
      "4   61.69   57.30  25.76   15.86  \n",
      "5   60.88   55.41  22.53   15.17  \n",
      "6   57.90   57.04  46.32   15.72  \n",
      "7   57.39   55.43  34.58   15.57  \n",
      "8   57.11   54.58  30.22   15.46  \n",
      "9   57.22   53.68  25.61   15.41  \n",
      "10  57.50   53.09  23.15   15.44  \n",
      "11  59.58   53.94  22.10   15.55  \n",
      "12  59.44   58.46  49.16   15.81  \n",
      "13  60.01   57.67  36.50   15.69  \n",
      "14  59.99   56.15  27.77   15.74  \n",
      "15  59.67   54.41  23.65   15.67  \n",
      "16  58.82   53.01  22.03   15.50  \n",
      "17  57.75   51.03  20.82   15.32  \n",
      "18  56.05   55.20  47.79   15.43  \n",
      "19  55.27   52.92  33.11   15.28  \n",
      "20  54.91   51.39  26.41   15.28  \n",
      "21  54.92   50.43  23.43   15.25  \n",
      "22  55.23   49.64  21.28   15.23  \n",
      "23  56.59   49.54  20.42   15.18  \n",
      "24  59.69   58.65  52.21   15.64  \n",
      "25  60.78   58.69  42.79   15.64  \n",
      "26  60.76   56.29  28.88   15.66  \n",
      "27  60.44   54.90  25.42   15.65  \n",
      "28  59.83   52.99  22.79   15.59  \n",
      "29  58.07   50.16  20.77   15.40  \n",
      "30  54.19   51.93  37.07   15.60  \n",
      "31  53.48   49.35  26.48   15.47  \n",
      "32  53.30   47.86  23.36   15.14  \n",
      "33  53.74   47.02  21.53   15.47  \n",
      "34  54.77   46.91  20.71   15.45  \n",
      "35  55.89   46.63  19.90   15.19  \n"
     ]
    }
   ],
   "source": [
    "print(cocurrent)"
   ]
  },
  {
   "cell_type": "code",
   "execution_count": 393,
   "id": "922f1acd-0268-47c9-9b0d-b67db063c254",
   "metadata": {},
   "outputs": [],
   "source": [
    "dat = pd.DataFrame(cocurrent)"
   ]
  },
  {
   "cell_type": "code",
   "execution_count": 394,
   "id": "dff7ed6e-a120-4df4-af11-8ff4d6436f18",
   "metadata": {},
   "outputs": [],
   "source": [
    "hot_rate = dat[\"Ms (kg/s)\"]\n",
    "cold_rate = dat[\"Mi1 (kg/s)\"]\n",
    "wc = cold_rate\n",
    "wh = hot_rate\n",
    "Th_in = dat[\"Th_in\"]\n",
    "Th_out = dat[\"Th_out\"]\n",
    "Tc_in = dat[\"Tc_in\"]\n",
    "Tc_out = dat[\"Tc_out\"]"
   ]
  },
  {
   "cell_type": "code",
   "execution_count": 415,
   "id": "e7b0e0d5-9302-4e61-8dcf-05ec3018b58c",
   "metadata": {},
   "outputs": [
    {
     "name": "stdout",
     "output_type": "stream",
     "text": [
      "0     1.015478\n",
      "1     1.972480\n",
      "2     2.585787\n",
      "3     2.995092\n",
      "4     3.624900\n",
      "5     4.538645\n",
      "6     1.090230\n",
      "7     1.886224\n",
      "8     2.248063\n",
      "9     2.941242\n",
      "10    3.554662\n",
      "11    4.300478\n",
      "12    1.149981\n",
      "13    1.936917\n",
      "14    2.815452\n",
      "15    3.734732\n",
      "16    4.167375\n",
      "17    4.890917\n",
      "18    1.064253\n",
      "19    1.961523\n",
      "20    2.612332\n",
      "21    3.228890\n",
      "22    3.925879\n",
      "23    4.776420\n",
      "24    1.171319\n",
      "25    1.563901\n",
      "26    2.640169\n",
      "27    3.210606\n",
      "28    3.968600\n",
      "29    4.753614\n",
      "30    1.492144\n",
      "31    2.233083\n",
      "32    2.915345\n",
      "33    3.455786\n",
      "34    3.891690\n",
      "35    4.483023\n",
      "dtype: float64\n"
     ]
    }
   ],
   "source": [
    "dT_co = ((Th_in - Tc_in) - (Th_out - Tc_out))/np.log(((Th_in - Tc_in)/(Th_out - Tc_out)))\n",
    "Cp = 4.182 #kJ/kgC\n",
    "Qc = wc*Cp*(Tc_out- Tc_in)      #Qc = wc*Cp_c*(Tc_out - Tc_in)\n",
    "Qh = wh*Cp*(Th_out- Th_in)   #Qh = wh*Cp_h*(Th_out- Th_in)\n",
    "Q = (abs(Qc) + abs(Qh))/2\n",
    "A = 31*np.pi*7.875*0.21/(39.37*39.37)\n",
    "U = Q/(A*dT_co)\n",
    "Gi = wc/(np.pi*31*np.power((0.21/39.37),2)/4)\n",
    "Gs = wh/(np.pi*31*np.power((0.25/39.37),2)/4)\n",
    "#dT_co = ((Th_in - Tc_in) - (Th_out - Tc_out))/np.log(((Th_in - Tc_in)/(Th_out - Tc_out)))\n",
    "flip_U = 1/U\n",
    "print(U)"
   ]
  },
  {
   "cell_type": "code",
   "execution_count": 396,
   "id": "af82766e-5779-41cb-af33-7706144c6074",
   "metadata": {},
   "outputs": [
    {
     "name": "stdout",
     "output_type": "stream",
     "text": [
      "[0.61111286 0.61111286 0.01620378 0.08033048 0.01620378 0.51014855\n",
      " 0.78762922 0.45319786 0.78762922] [0.00044092 0.00044092 0.00079622 0.00030402 0.00079622 0.00277392\n",
      " 0.00262922 0.00215928 0.00262922]\n"
     ]
    }
   ],
   "source": [
    "error_dat = dat[dat[\"mi2 (kg)\"].notna()]\n",
    "#print(error_dat)\n",
    "Ms_err = error_dat[\"Ms (kg/s)\"].to_numpy()\n",
    "M1 = error_dat[\"Mi1 (kg/s)\"].to_numpy()\n",
    "M2 = error_dat[\"mi2 (kg)\"].to_numpy()/error_dat[\"ti2 (s)\"].to_numpy()\n",
    "#print(M1,M2)\n",
    "Avg_Mi = (M1+M2)/2\n",
    "std_Mi = np.std([M1, M2],axis = 0)\n",
    "print(Avg_Mi, std_Mi)"
   ]
  },
  {
   "cell_type": "code",
   "execution_count": 416,
   "id": "5f42565e-da12-4b53-bab5-1725c30b548f",
   "metadata": {},
   "outputs": [
    {
     "name": "stdout",
     "output_type": "stream",
     "text": [
      "      ms     ts  Ms (kg/s)  mi1 (kg)  ti1 (s)  Mi1 (kg/s)  mi2 (kg)  ti2 (s)  \\\n",
      "5   8.09  10.15   0.797044      6.14    10.04    0.611554      6.18    10.12   \n",
      "11  7.38  10.15   0.727094      6.14    10.04    0.611554      6.18    10.12   \n",
      "18  6.11  10.18   0.600196      0.34    20.00    0.017000      0.31    20.12   \n",
      "19  6.11  10.18   0.600196      1.22    15.13    0.080635      1.21    15.12   \n",
      "24  5.66  10.50   0.539048      0.34    20.00    0.017000      0.31    20.12   \n",
      "28  5.66  10.50   0.539048      5.16    10.17    0.507375      5.16    10.06   \n",
      "29  5.66  10.50   0.539048      7.95    10.06    0.790258      7.85    10.00   \n",
      "33  6.18  15.15   0.407921      4.56    10.11    0.451039      4.59    10.08   \n",
      "35  6.18  15.15   0.407921      7.95    10.06    0.790258      7.85    10.00   \n",
      "\n",
      "    Th_in  Th_out  Tc_in  Tc_out  \n",
      "5   60.88   55.41  22.53   15.17  \n",
      "11  59.58   53.94  22.10   15.55  \n",
      "18  56.05   55.20  47.79   15.43  \n",
      "19  55.27   52.92  33.11   15.28  \n",
      "24  59.69   58.65  52.21   15.64  \n",
      "28  59.83   52.99  22.79   15.59  \n",
      "29  58.07   50.16  20.77   15.40  \n",
      "33  53.74   47.02  21.53   15.47  \n",
      "35  55.89   46.63  19.90   15.19  \n",
      "5     4.536982\n",
      "11    4.298946\n",
      "18    1.038391\n",
      "19    1.957790\n",
      "24    1.142472\n",
      "28    3.979398\n",
      "29    4.745725\n",
      "33    3.464046\n",
      "35    4.475620\n",
      "dtype: float64 [0.00166223 0.00153211 0.02586214 0.00373323 0.02884743 0.01079833\n",
      " 0.00788898 0.00826006 0.00740269]\n"
     ]
    }
   ],
   "source": [
    "print(error_dat)\n",
    "Th_in_err = error_dat[\"Th_in\"]\n",
    "Th_out_err = error_dat[\"Th_out\"]\n",
    "Tc_in_err = error_dat[\"Tc_in\"]\n",
    "Tc_out_err = error_dat[\"Tc_out\"]\n",
    "Ms_err = error_dat[\"Ms (kg/s)\"]\n",
    "Gi_err = M1/(np.pi*31*np.power((0.21/39.37),2)/4)\n",
    "Cp = 4.182\n",
    "dT_counter_err = ((Th_in_err - Tc_in_err) - (Th_out_err - Tc_out_err))/np.log(((Th_in_err - Tc_in_err)/(Th_out_err - Tc_out_err)))\n",
    "Qc_err1 = M1*Cp*(Tc_out_err - Tc_in_err)\n",
    "Qc_err2 = M2*Cp*(Tc_out_err - Tc_in_err)\n",
    "Qc_avg = (Qc_err1+Qc_err2)/2\n",
    "Qc_std = np.std([Qc_err1, Qc_err2],axis = 0)\n",
    "Qh = Ms_err*Cp*(Th_out_err - Th_in_err)\n",
    "A = 31*np.pi*7.875*0.21/(39.37*39.37)\n",
    "Q_err1 = (abs(Qc_err1) + abs(Qh))/2\n",
    "Q_err2 = (abs(Qc_err2) + abs(Qh))/2\n",
    "U_err1 = Q_err1/(A*dT_counter_err)\n",
    "U_err2 = Q_err2/(A*dT_counter_err)\n",
    "U_avg = (U_err1+U_err2)/2\n",
    "U_std = np.std([U_err1, U_err2],axis = 0)\n",
    "print(U_avg,U_std)"
   ]
  },
  {
   "cell_type": "code",
   "execution_count": 410,
   "id": "29dbf8fe-d196-409f-8d48-df704b15bf13",
   "metadata": {},
   "outputs": [],
   "source": [
    "def func(G,a,b,c,d,e):\n",
    "    Gi,Gs = G\n",
    "    return (a/np.power(Gi,b)) + c + (d/np.power(Gs,e))\n",
    "    #Sieder_tate_LHS = h*D/k\n",
    "    #Sieder_tate_RHS = 0.023 * (D*G/miu)^0.8 * (Cp*miu/k)^(1/3) * (miu_b/miu_o)^0.14\n",
    "\n",
    "    #Kern_LHS = h_o*D_e/k\n",
    "    #Kern_RHS = 0.36 * (D_e*G_s/miu)^0.55 * (Cp*miu/k)^(1/3) * (miu_b/miu_o)^0.14\n",
    "\n",
    "    #param fitting\n",
    "    #LHS = 1/U\n",
    "    #RHS = a/(wc^b) + c + d/(wh^e)\n",
    "\n",
    "    #hi_exp = 1/a*wc^b\n",
    "    #h0_exp = (1/d)*(Ai/A0)*(wh^e)\n"
   ]
  },
  {
   "cell_type": "code",
   "execution_count": 411,
   "id": "ae16ffed-da97-49c6-bcc6-56fca8d2a193",
   "metadata": {},
   "outputs": [
    {
     "name": "stdout",
     "output_type": "stream",
     "text": [
      "(array([3.17037315e+00, 3.87033535e-01, 8.60557757e-03, 2.22625706e+01,\n",
      "       4.74376033e+00]), array([[inf, inf, inf, inf, inf],\n",
      "       [inf, inf, inf, inf, inf],\n",
      "       [inf, inf, inf, inf, inf],\n",
      "       [inf, inf, inf, inf, inf],\n",
      "       [inf, inf, inf, inf, inf]]))\n"
     ]
    },
    {
     "name": "stderr",
     "output_type": "stream",
     "text": [
      "C:\\Users\\buing\\anaconda3\\envs\\myenv\\lib\\site-packages\\scipy\\optimize\\minpack.py:833: OptimizeWarning: Covariance of the parameters could not be estimated\n",
      "  warnings.warn('Covariance of the parameters could not be estimated',\n"
     ]
    }
   ],
   "source": [
    "guess = [1, 0.3, 0, 1,0.6]\n",
    "a,b,c,d,e = guess\n",
    "LHS = func((Gi,Gs),a,b,c,d,e)\n",
    "param = curve_fit(func,(Gi,Gs),flip_U,guess,maxfev=20000)\n",
    "LHS_fit = func((Gi,Gs),*param[0])\n",
    "U_fit = 1/LHS_fit\n",
    "\n",
    "print(param)"
   ]
  },
  {
   "cell_type": "code",
   "execution_count": null,
   "id": "1f9fee62-dcc7-4305-a56d-e3c17a226039",
   "metadata": {},
   "outputs": [],
   "source": []
  },
  {
   "cell_type": "code",
   "execution_count": 412,
   "id": "aede56db-fe0d-42dd-a8f7-3436998aac85",
   "metadata": {},
   "outputs": [
    {
     "data": {
      "text/plain": [
       "[<matplotlib.lines.Line2D at 0x22e2c573580>]"
      ]
     },
     "execution_count": 412,
     "metadata": {},
     "output_type": "execute_result"
    },
    {
     "data": {
      "image/png": "[encoded data removed]",
      "text/plain": [
       "<Figure size 432x288 with 1 Axes>"
      ]
     },
     "metadata": {
      "needs_background": "light"
     },
     "output_type": "display_data"
    }
   ],
   "source": [
    "\n",
    "plt.plot(Gi,U,'ro')\n",
    "Gi1 = Gi[0:6]\n",
    "Gi2 = Gi[6:12]\n",
    "Gi3 = Gi[12:18]\n",
    "Gi4 = Gi[18:24]\n",
    "Gi5 = Gi[24:30]\n",
    "Gi6 = Gi[30:36]\n",
    "Gs1 = Gs[0:6]\n",
    "Gs2 = Gs[6:12]\n",
    "Gs3 = Gs[12:18]\n",
    "Gs4 = Gs[18:24]\n",
    "Gs5 = Gs[24:30]\n",
    "Gs6 = Gs[30:36]\n",
    "U1 = U[0:6]\n",
    "U2 = U[6:12]\n",
    "U3 = U[12:18]\n",
    "U4 = U[18:24]\n",
    "U5 = U[24:30]\n",
    "U6 = U[30:36]\n",
    "Gs_1_fit = 1/(func((Gi[0:6],Gs[0:6]),*param[0]))\n",
    "Gs_2_fit = 1/(func((Gi[6:12],Gs[6:12]),*param[0]))\n",
    "Gs_3_fit = 1/(func((Gi[12:18],Gs[12:18]),*param[0]))\n",
    "Gs_4_fit = 1/(func((Gi[18:24],Gs[18:24]),*param[0]))\n",
    "Gs_5_fit = 1/(func((Gi[24:30],Gs[24:30]),*param[0]))\n",
    "Gs_6_fit = 1/(func((Gi[30:36],Gs[30:36]),*param[0]))\n",
    "#plt.plot(Gi[0:6],Gs_1_fit,'r-')\n",
    "#plt.plot(Gi[6:12],Gs_2_fit,'r-')\n",
    "#plt.plot(Gi[12:18],Gs_3_fit,'r-')\n",
    "#plt.plot(Gi[18:24],Gs_4_fit,'r-')\n",
    "plt.plot(Gi[24:30],Gs_5_fit,'r-')"
   ]
  },
  {
   "cell_type": "code",
   "execution_count": 425,
   "id": "17601b9c-c8d7-45ab-8f3a-7dc33f7f43d0",
   "metadata": {},
   "outputs": [
    {
     "name": "stdout",
     "output_type": "stream",
     "text": [
      "[ 882.82642325  882.82642325   24.54084917  116.40230159   24.54084917\n",
      "  732.43554706 1140.80078893  651.1099798  1140.80078893] 5     4.538645\n",
      "11    4.300478\n",
      "18    1.064253\n",
      "19    1.961523\n",
      "24    1.171319\n",
      "28    3.968600\n",
      "29    4.753614\n",
      "33    3.455786\n",
      "35    4.483023\n",
      "dtype: float64\n"
     ]
    },
    {
     "data": {
      "image/png": "[encoded data removed]",
      "text/plain": [
       "<Figure size 1080x864 with 1 Axes>"
      ]
     },
     "metadata": {
      "needs_background": "light"
     },
     "output_type": "display_data"
    }
   ],
   "source": [
    "Gi_spline_1 = np.sort(Gi1)\n",
    "Gi_spline_2 = np.sort(Gi2)\n",
    "Gi_spline_3 = np.sort(Gi3)\n",
    "Gi_spline_4 = np.sort(Gi4)\n",
    "Gi_spline_5 = np.sort(Gi5)\n",
    "Gi_spline_6 = np.sort(Gi6)\n",
    "\n",
    "#U_spline_1 = 1/func((Gi_spline_1,Gs1),*param[0])\n",
    "#U_spline_2 = 1/func((Gi_spline_1,Gs2),*param[0])\n",
    "#U_spline_3 = 1/func((Gi_spline_1,Gs3),*param[0])\n",
    "#U_spline_4 = 1/func((Gi_spline_1,Gs4),*param[0])\n",
    "#U_spline_5 = 1/func((Gi_spline_1,Gs5),*param[0])\n",
    "#U_spline_6 = 1/func((Gi_spline_1,Gs6),*param[0])\n",
    "#D_model = np.linspace(D_spline.min(), D_spline.max(), 500)\n",
    "Gi_model = np.linspace(Gi.min(),Gi.max(),120)\n",
    "Gi_model1 = np.linspace(Gi1.min(), Gi1.max(), 120)\n",
    "Gi_model2 = np.linspace(Gi2.min(), Gi2.max(), 120)\n",
    "Gi_model3 = np.linspace(Gi3.min(), Gi3.max(), 120)\n",
    "Gi_model4 = np.linspace(Gi4.min(), Gi4.max(), 120)\n",
    "Gi_model5 = np.linspace(Gi5.min(), Gi5.max(), 120)\n",
    "Gi_model6 = np.linspace(Gi6.min(), Gi6.max(), 120)\n",
    "#Gi1_spl = make_interp_spline(Gi_spline_1,U_spline_1)\n",
    "#Gi2_spl = make_interp_spline(Gi_spline_2,U_spline_2)\n",
    "#Gi3_spl = make_interp_spline(Gi_spline_3,U_spline_3)\n",
    "#Gi4_spl = make_interp_spline(Gi_spline_4,U_spline_4)\n",
    "#Gi5_spl = make_interp_spline(Gi_spline_5,U_spline_5)\n",
    "#Gi6_spl = make_interp_spline(Gi_spline_6,U_spline_6)\n",
    "Gs_model1 = np.repeat(Gs1,20)\n",
    "Gs_model2 = np.repeat(Gs2,20)\n",
    "Gs_model3 = np.repeat(Gs3,20)\n",
    "Gs_model4 = np.repeat(Gs4,20)\n",
    "Gs_model5 = np.repeat(Gs5,20)\n",
    "Gs_model6 = np.repeat(Gs6,20)\n",
    "U1_model =  1/func((Gi_model,Gs_model1),*param[0])\n",
    "U2_model = 1/func((Gi_model,Gs_model2),*param[0])\n",
    "U3_model = 1/func((Gi_model,Gs_model3),*param[0])\n",
    "U4_model = 1/func((Gi_model,Gs_model4),*param[0])\n",
    "U5_model = 1/func((Gi_model,Gs_model5),*param[0])\n",
    "U6_model = 1/func((Gi_model,Gs_model6),*param[0])\n",
    "label = np.unique(Gs)\n",
    "l_width = 0.5\n",
    "marksize = 4\n",
    "fig = figure(figsize = (15,12))\n",
    "plt.plot(Gi_model,U1_model,'b-',linewidth = l_width, label = str(int(label[0])))\n",
    "#plt.annotate(int(label[0]),\n",
    "#             xy = (   Gi_model[-1],(U1_model.to_numpy())[-1]),\n",
    "#             xytext= (  1.01*Gi_model[-1],1.01*(U1_model.to_numpy())[-1]),\n",
    "#             color = 'b'\n",
    "#            )\n",
    "\n",
    "plt.plot(Gi_model,U2_model,'g-',linewidth = l_width, label = str(int(label[1])))\n",
    "#plt.annotate(int(label[1]),\n",
    "#             xy = (   Gi_model[-1],(U2_model.to_numpy())[-1]),\n",
    "#             xytext= (   1.01*Gi_model[-1],1.0*(U2_model.to_numpy())[-1]),\n",
    "#             color = 'g'\n",
    "#            )\n",
    "\n",
    "plt.plot(Gi_model,U3_model,'r-',linewidth = l_width, label = str(int(label[2])))\n",
    "#plt.annotate(int(label[2]),\n",
    "#             xy = (   Gi_model[-1],(U3_model.to_numpy())[-1]),\n",
    "#             xytext= (   1.01*Gi_model[-1],1.0*(U3_model.to_numpy())[-1]),\n",
    "#             color = 'r'\n",
    "#            )\n",
    "plt.plot(Gi_model,U4_model,'c-',linewidth = l_width, label = str(int(label[3])))\n",
    "#plt.annotate(int(label[3]),\n",
    "#             xy = (   Gi_model[-1],(U4_model.to_numpy())[-1]),\n",
    "#             xytext= (   1.01*Gi_model[-1],1.0*(U4_model.to_numpy())[-1]),\n",
    "#             color = 'c'\n",
    "#            )\n",
    "plt.plot(Gi_model,U5_model,'m-',linewidth = l_width, label = str(int(label[4])))\n",
    "#plt.annotate(int(label[4]),\n",
    "#             xy = (   Gi_model[-1],(U5_model.to_numpy())[-1]),\n",
    "#             xytext= (   1.01*Gi_model[-1],1.0*(U5_model.to_numpy())[-1]),\n",
    "#             color = 'm'\n",
    "#            )\n",
    "plt.plot(Gi_model,U6_model,'y-',linewidth = l_width, label = str(int(label[5])))\n",
    "#plt.annotate(int(label[5]),\n",
    "#             xy = (   Gi_model[-1],(U6_model.to_numpy())[-1]),\n",
    "#             xytext= (   1.01*Gi_model[-1],1.0*(U6_model.to_numpy())[-1]),\n",
    "#             color = 'y'\n",
    "#            )\n",
    "plt.plot(Gi1,U1,'bo',markersize = marksize, label = \" \")#str(int(label[0])))\n",
    "plt.plot(Gi2,U2,'go',markersize = marksize, label = \" \")#str(int(label[1])))\n",
    "plt.plot(Gi3,U3,'ro',markersize = marksize, label = \" \")#str(int(label[2])))\n",
    "plt.plot(Gi4,U4,'co',markersize = marksize, label = \" \")#str(int(label[3])))\n",
    "plt.plot(Gi5,U5,'mo',markersize = marksize, label = \" \")#str(int(label[4])))\n",
    "plt.plot(Gi6,U6,'yo',markersize = marksize, label = \" \")#str(int(label[5])))\n",
    "\n",
    "\n",
    "plt.text(820,2.25,r\"$G_s$ $(\\frac{kg} {m^{2}s})$\",\n",
    "             #xy = (   Gi_model[-1],(U5_model.to_numpy())[-1]),\n",
    "             #xytext= (0.59*Gi_model[-1],0.55*(U5_model.to_numpy())[-1]),\n",
    "            fontsize = 15, zorder = 100\n",
    "            )\n",
    "\n",
    "plt.text(925,2.25, 'Model', fontsize = 15, zorder =100)\n",
    "plt.text(1050,2.25, 'Exp', fontsize = 15, zorder =100)\n",
    "#plt.text.pop()\n",
    "legend = plt.legend(ncol = 2, loc = 'lower right', fontsize = 13, title = \" \",markerfirst = False,labelcolor =('b','g','r','c','m','y'),labelspacing = 0.4\n",
    "                   ,handlelength =3,handletextpad = 3,columnspacing = 0,bbox_to_anchor = (0.95,0.1),frameon = True,borderpad = 2,borderaxespad = 0.2) #^{Exp}\n",
    "legend.get_title().set_fontsize('13')\n",
    "legend.get_title().set_ha('left')\n",
    "plt.ylim(0.9,5)\n",
    "plt.xlim(4,1200)\n",
    "plt.ylabel(r\"$U^{Exp}$ $(\\frac{kJ} {m^{2}s \\cdot{K}})$\", fontsize = 30,labelpad=20)\n",
    "plt.xlabel(r\"$G_i$ $(\\frac{kg} {m^{2}s})$\",fontsize = 30,labelpad=20)\n",
    "plt.tick_params(axis='both', which='major', labelsize=20)\n",
    "plt.errorbar(Gi_err,U_err1,yerr = [U_std], fmt = 'none',ecolor = 'black',capsize = 5,elinewidth = 1)\n",
    "#spl = make_interp_spline(D_spline,phin_model_point)\n",
    "#color = cm.rainbow(np.linspace(0, 1, n))\n",
    "#for i, c in zip(range(n), color):\n",
    "#   plt.plot(x, y, c=c)\n",
    "print(Gi_err,U_err1)"
   ]
  },
  {
   "cell_type": "code",
   "execution_count": null,
   "id": "29649ef5-5fab-485f-82de-b40fb97a3cda",
   "metadata": {},
   "outputs": [],
   "source": []
  },
  {
   "cell_type": "code",
   "execution_count": null,
   "id": "00fe0554-15dd-4fd6-8a91-f8475bed25bd",
   "metadata": {},
   "outputs": [],
   "source": [
    "print(Gi_model[-1])\n",
    "print( str(int(label[0])) + \" exp\")"
   ]
  },
  {
   "cell_type": "code",
   "execution_count": null,
   "id": "bcde7893-cb08-4d1a-ab11-cb9e138cd29e",
   "metadata": {},
   "outputs": [],
   "source": [
    "print(Gi_spline_1,Gi[0:6])"
   ]
  },
  {
   "cell_type": "code",
   "execution_count": null,
   "id": "2a25b042-a95c-4863-a462-243abd2d70ea",
   "metadata": {},
   "outputs": [],
   "source": [
    "print(Gi_spline_1)"
   ]
  },
  {
   "cell_type": "code",
   "execution_count": null,
   "id": "acea39b5-aa62-4277-84ff-5423bb398e9c",
   "metadata": {},
   "outputs": [],
   "source": []
  }
 ],
 "metadata": {
  "kernelspec": {
   "display_name": "Python 3 (ipykernel)",
   "language": "python",
   "name": "python3"
  },
  "language_info": {
   "codemirror_mode": {
    "name": "ipython",
    "version": 3
   },
   "file_extension": ".py",
   "mimetype": "text/x-python",
   "name": "python",
   "nbconvert_exporter": "python",
   "pygments_lexer": "ipython3",
   "version": "3.9.6"
  }
 },
 "nbformat": 4,
 "nbformat_minor": 5
}
