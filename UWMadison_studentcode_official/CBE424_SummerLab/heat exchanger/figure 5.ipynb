{
 "cells": [
  {
   "cell_type": "code",
   "execution_count": 2,
   "id": "5c0eb8f9-7e84-4675-a267-6678575405fc",
   "metadata": {},
   "outputs": [],
   "source": [
    "import pickle\n",
    "from scipy import sparse\n",
    "from tensorflow import keras\n",
    "from tensorflow.keras import layers, models\n",
    "import numpy as np\n",
    "import spektral\n",
    "import os\n",
    "import tensorflow as tf\n",
    "import pandas\n",
    "import matplotlib.pyplot as plt\n",
    "from matplotlib.pyplot import figure\n",
    "import keras_tuner as kt\n",
    "from scipy.optimize import curve_fit\n",
    "from scipy.interpolate import make_interp_spline, BSpline\n",
    "import pandas as pd\n",
    "import openpyxl"
   ]
  },
  {
   "cell_type": "code",
   "execution_count": 102,
   "id": "e3559a21-435d-4b6e-b3e4-1f33f4854256",
   "metadata": {},
   "outputs": [],
   "source": [
    "#counter current\n",
    "cocurrent = pd.read_excel(r\"C:\\Users\\buing\\Documents\\CBE 424\\heat exchanger\\cocurrent.xlsx\")\n",
    "counter = pd.read_excel(r\"C:\\Users\\buing\\Documents\\CBE 424\\heat exchanger\\counterflow.xlsx\")\n",
    "both_flow_prop = pd.read_excel(r\"C:\\Users\\buing\\Documents\\CBE 424\\heat exchanger\\bothflow_error_prop.xlsx\")"
   ]
  },
  {
   "cell_type": "code",
   "execution_count": 103,
   "id": "ba743acd-3153-4bd6-90e6-51bd6a9a9faa",
   "metadata": {},
   "outputs": [
    {
     "name": "stdout",
     "output_type": "stream",
     "text": [
      "0     0.109547\n",
      "1     0.067958\n",
      "2     0.062573\n",
      "3     0.062490\n",
      "4     0.086729\n",
      "5     0.092155\n",
      "6     0.229198\n",
      "7     0.088565\n",
      "8     0.077815\n",
      "9     0.060673\n",
      "10    0.063799\n",
      "11    0.069728\n",
      "12    0.216868\n",
      "13    0.088631\n",
      "14    0.083019\n",
      "15    0.067718\n",
      "16    0.068176\n",
      "17    0.074153\n",
      "18    0.381062\n",
      "19    0.141217\n",
      "20    0.113387\n",
      "21    0.092896\n",
      "22    0.090408\n",
      "23    0.082007\n",
      "24    0.446003\n",
      "25    0.168910\n",
      "26    0.116484\n",
      "27    0.093429\n",
      "28    0.092082\n",
      "29    0.094556\n",
      "30    0.988264\n",
      "31    0.291472\n",
      "32    0.174278\n",
      "33    0.139715\n",
      "34    0.118682\n",
      "35    0.108167\n",
      "36    0.589341\n",
      "37    0.209557\n",
      "38    0.145428\n",
      "39    0.123638\n",
      "40    0.107609\n",
      "41    0.101808\n",
      "42    0.437001\n",
      "43    0.194983\n",
      "44    0.155432\n",
      "45    0.118964\n",
      "46    0.108189\n",
      "47    0.101717\n",
      "48    0.355865\n",
      "49    0.152599\n",
      "50    0.100223\n",
      "51    0.091126\n",
      "52    0.097091\n",
      "53    0.103962\n",
      "54    0.368043\n",
      "55    0.135613\n",
      "56    0.100606\n",
      "57    0.092989\n",
      "58    0.099694\n",
      "59    0.104544\n",
      "60    0.268789\n",
      "61    0.137421\n",
      "62    0.074190\n",
      "63    0.072180\n",
      "64    0.080869\n",
      "65    0.099458\n",
      "66    0.095014\n",
      "67    0.068806\n",
      "68    0.073036\n",
      "69    0.088598\n",
      "70    0.097795\n",
      "71    0.107788\n",
      "Name: Q_prop, dtype: float64\n"
     ]
    }
   ],
   "source": [
    "print(both_flow_prop[\"Q_prop\"])"
   ]
  },
  {
   "cell_type": "code",
   "execution_count": 104,
   "id": "922f1acd-0268-47c9-9b0d-b67db063c254",
   "metadata": {},
   "outputs": [],
   "source": [
    "dat_co = pd.DataFrame(cocurrent)\n",
    "dat_cu = pd.DataFrame(counter)"
   ]
  },
  {
   "cell_type": "code",
   "execution_count": 105,
   "id": "dff7ed6e-a120-4df4-af11-8ff4d6436f18",
   "metadata": {},
   "outputs": [],
   "source": [
    "#co-current\n",
    "\n",
    "hot_rate_co = dat_co[\"Ms (kg/s)\"]\n",
    "cold_rate_co = dat_co[\"Mi1 (kg/s)\"]\n",
    "wc_co = cold_rate_co\n",
    "wh_co = hot_rate_co\n",
    "Th_in_co = dat_co[\"Th_in\"]\n",
    "Th_out_co = dat_co[\"Th_out\"]\n",
    "Tc_in_co = dat_co[\"Tc_in\"]\n",
    "Tc_out_co = dat_co[\"Tc_out\"]\n",
    "\n",
    "#counter-current\n",
    "\n",
    "hot_rate_cu = dat_cu[\"Ms (kg/s)\"]\n",
    "cold_rate_cu = dat_cu[\"Mi1 (kg/s)\"]\n",
    "wc_cu = cold_rate_cu\n",
    "wh_cu = hot_rate_cu\n",
    "Th_in_cu = dat_cu[\"Th_in\"]\n",
    "Th_out_cu = dat_cu[\"Th_out\"]\n",
    "Tc_in_cu = dat_cu[\"Tc_in\"]\n",
    "Tc_out_cu = dat_cu[\"Tc_out\"]"
   ]
  },
  {
   "cell_type": "code",
   "execution_count": 122,
   "id": "1e13a118-f511-4c08-8719-e81318581982",
   "metadata": {},
   "outputs": [
    {
     "name": "stdout",
     "output_type": "stream",
     "text": [
      "[-0.01131765  0.02026412  0.01594788  0.04803727  0.01190595 -0.03187122\n",
      " -0.02529077 -0.00904294  0.01897447  0.02219749  0.01834759  0.02347024\n",
      "  0.00414913  0.02897754  0.01805681  0.01680575  0.0079539   0.02422759\n",
      " -0.07536263 -0.01913609  0.02451929  0.01740731  0.01264068  0.02252983\n",
      " -0.10332488  0.01899391  0.03619728  0.01836668  0.00926091  0.00474374\n",
      " -0.05214651  0.0035442  -0.04308004  0.0028985   0.02538601  0.01472885\n",
      " -0.07873827 -0.06052058 -0.02657628 -0.02808914 -0.01849898 -0.00297006\n",
      "  0.00869635  0.00317037 -0.02450456  0.03635012  0.03819209  0.03017658\n",
      "  0.0733977  -0.20066854  0.03377087  0.05904478  0.06312971  0.0350179\n",
      " -0.00551072  0.0144157  -0.01029399  0.03967445 -0.05448233  0.07107502\n",
      "  0.07550404  0.03078892  0.05017788  0.07371918  0.01608365  0.00136853\n",
      " -0.04159535  0.00420628 -0.03265687  0.0022071   0.01484985  0.02740767]\n",
      "3.5025553615960097 -3.789642882793022 0.03740648379052369\n"
     ]
    }
   ],
   "source": [
    "dT_cu = ((Th_in_cu - Th_out_cu) - (Th_out_cu - Tc_in_cu))/np.log(((Th_in_cu - Th_out_cu)/(Th_out_cu - Tc_in_cu)))\n",
    "dT_co = ((Th_in_co - Tc_in_co) - (Th_out_co - Tc_out_co))/np.log(((Th_in_co - Tc_in_co)/(Th_out_co - Tc_out_co)))\n",
    "\n",
    "#counter\n",
    "Cp = 4.182 #kJ/kgC\n",
    "Qc_co = wc_co*Cp*(Tc_out_co- Tc_in_co)      #Qc = wc*Cp_c*(Tc_out - Tc_in)\n",
    "Qh_co = wh_co*Cp*(Th_out_co- Th_in_co)   #Qh = wh*Cp_h*(Th_out- Th_in)\n",
    "Qc_cu = wc_cu*Cp*(Tc_out_cu- Tc_in_cu)\n",
    "Qh_cu = wh_cu*Cp*(Th_out_cu- Th_in_cu)\n",
    "Q_co = ((Qc_co) - (Qh_co))/(0.5*(abs(Qc_co) + abs(Qh_co)))\n",
    "Q_cu = ((Qc_cu) + (Qh_cu))/(0.5*(abs(Qc_cu) + abs(Qh_cu)))\n",
    "Q = [Q_co,Q_cu]\n",
    "pd.set_option('display.max_rows', None)\n",
    "print(pd.concat(Q).to_numpy())\n",
    "Q_np = pd.concat(Q).to_numpy()\n",
    "pd.set_option('display.max_rows', None)\n",
    "\n",
    "print(Qc_cu[0],Qh_cu[0],wc_cu[0])"
   ]
  },
  {
   "cell_type": "code",
   "execution_count": 107,
   "id": "0e0d7bfb-9374-4318-ad74-8ba4951b217a",
   "metadata": {},
   "outputs": [
    {
     "name": "stdout",
     "output_type": "stream",
     "text": [
      "0     0.109547\n",
      "1     0.067958\n",
      "2     0.062573\n",
      "3     0.062490\n",
      "4     0.086729\n",
      "5     0.092155\n",
      "6     0.229198\n",
      "7     0.088565\n",
      "8     0.077815\n",
      "9     0.060673\n",
      "10    0.063799\n",
      "11    0.069728\n",
      "12    0.216868\n",
      "13    0.088631\n",
      "14    0.083019\n",
      "15    0.067718\n",
      "16    0.068176\n",
      "17    0.074153\n",
      "18    0.381062\n",
      "19    0.141217\n",
      "20    0.113387\n",
      "21    0.092896\n",
      "22    0.090408\n",
      "23    0.082007\n",
      "24    0.446003\n",
      "25    0.168910\n",
      "26    0.116484\n",
      "27    0.093429\n",
      "28    0.092082\n",
      "29    0.094556\n",
      "30    0.988264\n",
      "31    0.291472\n",
      "32    0.174278\n",
      "33    0.139715\n",
      "34    0.118682\n",
      "35    0.108167\n",
      "36    0.589341\n",
      "37    0.209557\n",
      "38    0.145428\n",
      "39    0.123638\n",
      "40    0.107609\n",
      "41    0.101808\n",
      "42    0.437001\n",
      "43    0.194983\n",
      "44    0.155432\n",
      "45    0.118964\n",
      "46    0.108189\n",
      "47    0.101717\n",
      "48    0.355865\n",
      "49    0.152599\n",
      "50    0.100223\n",
      "51    0.091126\n",
      "52    0.097091\n",
      "53    0.103962\n",
      "54    0.368043\n",
      "55    0.135613\n",
      "56    0.100606\n",
      "57    0.092989\n",
      "58    0.099694\n",
      "59    0.104544\n",
      "60    0.268789\n",
      "61    0.137421\n",
      "62    0.074190\n",
      "63    0.072180\n",
      "64    0.080869\n",
      "65    0.099458\n",
      "66    0.095014\n",
      "67    0.068806\n",
      "68    0.073036\n",
      "69    0.088598\n",
      "70    0.097795\n",
      "71    0.107788\n",
      "Name: Q_prop, dtype: float64 [-0.01131765  0.02026412  0.01594788  0.04803727  0.01190595 -0.03187122\n",
      " -0.02529077 -0.00904294  0.01897447  0.02219749  0.01834759  0.02347024\n",
      "  0.00414913  0.02897754  0.01805681  0.01680575  0.0079539   0.02422759\n",
      " -0.07536263 -0.01913609  0.02451929  0.01740731  0.01264068  0.02252983\n",
      " -0.10332488  0.01899391  0.03619728  0.01836668  0.00926091  0.00474374\n",
      " -0.05214651  0.0035442  -0.04308004  0.0028985   0.02538601  0.01472885\n",
      " -0.07873827 -0.06052058 -0.02657628 -0.02808914 -0.01849898 -0.00297006\n",
      "  0.00869635  0.00317037 -0.02450456  0.03635012  0.03819209  0.03017658\n",
      "  0.0733977  -0.20066854  0.03377087  0.05904478  0.06312971  0.0350179\n",
      " -0.00551072  0.0144157  -0.01029399  0.03967445 -0.05448233  0.07107502\n",
      "  0.07550404  0.03078892  0.05017788  0.07371918  0.01608365  0.00136853\n",
      " -0.04159535  0.00420628 -0.03265687  0.0022071   0.01484985  0.02740767]\n"
     ]
    }
   ],
   "source": [
    "#error propagation\n",
    "dQ_prop = both_flow_prop[\"Q_prop\"]\n",
    "print(dQ_prop,Q_np)"
   ]
  },
  {
   "cell_type": "code",
   "execution_count": 108,
   "id": "0c8b9993-24f3-43c9-a51f-6f1c7da917ac",
   "metadata": {
    "jupyter": {
     "source_hidden": true
    },
    "tags": []
   },
   "outputs": [
    {
     "ename": "ValueError",
     "evalue": "Length of values (2) does not match length of index (36)",
     "output_type": "error",
     "traceback": [
      "\u001b[1;31m---------------------------------------------------------------------------\u001b[0m",
      "\u001b[1;31mValueError\u001b[0m                                Traceback (most recent call last)",
      "\u001b[1;32m~\\AppData\\Local\\Temp/ipykernel_19156/4018843310.py\u001b[0m in \u001b[0;36m<module>\u001b[1;34m\u001b[0m\n\u001b[0;32m      1\u001b[0m \u001b[0mA\u001b[0m \u001b[1;33m=\u001b[0m \u001b[1;36m31\u001b[0m\u001b[1;33m*\u001b[0m\u001b[0mnp\u001b[0m\u001b[1;33m.\u001b[0m\u001b[0mpi\u001b[0m\u001b[1;33m*\u001b[0m\u001b[1;36m7.875\u001b[0m\u001b[1;33m*\u001b[0m\u001b[1;36m0.21\u001b[0m\u001b[1;33m/\u001b[0m\u001b[1;33m(\u001b[0m\u001b[1;36m39.37\u001b[0m\u001b[1;33m*\u001b[0m\u001b[1;36m39.37\u001b[0m\u001b[1;33m)\u001b[0m\u001b[1;33m\u001b[0m\u001b[1;33m\u001b[0m\u001b[0m\n\u001b[1;32m----> 2\u001b[1;33m \u001b[0mU\u001b[0m \u001b[1;33m=\u001b[0m \u001b[0mQ\u001b[0m\u001b[1;33m/\u001b[0m\u001b[1;33m(\u001b[0m\u001b[0mA\u001b[0m\u001b[1;33m*\u001b[0m\u001b[0mdT_co\u001b[0m\u001b[1;33m)\u001b[0m\u001b[1;33m\u001b[0m\u001b[1;33m\u001b[0m\u001b[0m\n\u001b[0m\u001b[0;32m      3\u001b[0m \u001b[0mGi\u001b[0m \u001b[1;33m=\u001b[0m \u001b[0mwc\u001b[0m\u001b[1;33m/\u001b[0m\u001b[1;33m(\u001b[0m\u001b[0mnp\u001b[0m\u001b[1;33m.\u001b[0m\u001b[0mpi\u001b[0m\u001b[1;33m*\u001b[0m\u001b[1;36m31\u001b[0m\u001b[1;33m*\u001b[0m\u001b[0mnp\u001b[0m\u001b[1;33m.\u001b[0m\u001b[0mpower\u001b[0m\u001b[1;33m(\u001b[0m\u001b[1;33m(\u001b[0m\u001b[1;36m0.21\u001b[0m\u001b[1;33m/\u001b[0m\u001b[1;36m39.37\u001b[0m\u001b[1;33m)\u001b[0m\u001b[1;33m,\u001b[0m\u001b[1;36m2\u001b[0m\u001b[1;33m)\u001b[0m\u001b[1;33m/\u001b[0m\u001b[1;36m4\u001b[0m\u001b[1;33m)\u001b[0m\u001b[1;33m\u001b[0m\u001b[1;33m\u001b[0m\u001b[0m\n\u001b[0;32m      4\u001b[0m \u001b[0mGs\u001b[0m \u001b[1;33m=\u001b[0m \u001b[0mwh\u001b[0m\u001b[1;33m/\u001b[0m\u001b[1;33m(\u001b[0m\u001b[0mnp\u001b[0m\u001b[1;33m.\u001b[0m\u001b[0mpi\u001b[0m\u001b[1;33m*\u001b[0m\u001b[1;36m31\u001b[0m\u001b[1;33m*\u001b[0m\u001b[0mnp\u001b[0m\u001b[1;33m.\u001b[0m\u001b[0mpower\u001b[0m\u001b[1;33m(\u001b[0m\u001b[1;33m(\u001b[0m\u001b[1;36m0.25\u001b[0m\u001b[1;33m/\u001b[0m\u001b[1;36m39.37\u001b[0m\u001b[1;33m)\u001b[0m\u001b[1;33m,\u001b[0m\u001b[1;36m2\u001b[0m\u001b[1;33m)\u001b[0m\u001b[1;33m/\u001b[0m\u001b[1;36m4\u001b[0m\u001b[1;33m)\u001b[0m\u001b[1;33m\u001b[0m\u001b[1;33m\u001b[0m\u001b[0m\n\u001b[0;32m      5\u001b[0m \u001b[1;31m#dT_co = ((Th_in - Tc_in) - (Th_out - Tc_out))/np.log(((Th_in - Tc_in)/(Th_out - Tc_out)))\u001b[0m\u001b[1;33m\u001b[0m\u001b[1;33m\u001b[0m\u001b[1;33m\u001b[0m\u001b[0m\n",
      "\u001b[1;32m~\\anaconda3\\envs\\myenv\\lib\\site-packages\\pandas\\core\\ops\\common.py\u001b[0m in \u001b[0;36mnew_method\u001b[1;34m(self, other)\u001b[0m\n\u001b[0;32m     67\u001b[0m         \u001b[0mother\u001b[0m \u001b[1;33m=\u001b[0m \u001b[0mitem_from_zerodim\u001b[0m\u001b[1;33m(\u001b[0m\u001b[0mother\u001b[0m\u001b[1;33m)\u001b[0m\u001b[1;33m\u001b[0m\u001b[1;33m\u001b[0m\u001b[0m\n\u001b[0;32m     68\u001b[0m \u001b[1;33m\u001b[0m\u001b[0m\n\u001b[1;32m---> 69\u001b[1;33m         \u001b[1;32mreturn\u001b[0m \u001b[0mmethod\u001b[0m\u001b[1;33m(\u001b[0m\u001b[0mself\u001b[0m\u001b[1;33m,\u001b[0m \u001b[0mother\u001b[0m\u001b[1;33m)\u001b[0m\u001b[1;33m\u001b[0m\u001b[1;33m\u001b[0m\u001b[0m\n\u001b[0m\u001b[0;32m     70\u001b[0m \u001b[1;33m\u001b[0m\u001b[0m\n\u001b[0;32m     71\u001b[0m     \u001b[1;32mreturn\u001b[0m \u001b[0mnew_method\u001b[0m\u001b[1;33m\u001b[0m\u001b[1;33m\u001b[0m\u001b[0m\n",
      "\u001b[1;32m~\\anaconda3\\envs\\myenv\\lib\\site-packages\\pandas\\core\\arraylike.py\u001b[0m in \u001b[0;36m__rtruediv__\u001b[1;34m(self, other)\u001b[0m\n\u001b[0;32m    118\u001b[0m     \u001b[1;33m@\u001b[0m\u001b[0munpack_zerodim_and_defer\u001b[0m\u001b[1;33m(\u001b[0m\u001b[1;34m\"__rtruediv__\"\u001b[0m\u001b[1;33m)\u001b[0m\u001b[1;33m\u001b[0m\u001b[1;33m\u001b[0m\u001b[0m\n\u001b[0;32m    119\u001b[0m     \u001b[1;32mdef\u001b[0m \u001b[0m__rtruediv__\u001b[0m\u001b[1;33m(\u001b[0m\u001b[0mself\u001b[0m\u001b[1;33m,\u001b[0m \u001b[0mother\u001b[0m\u001b[1;33m)\u001b[0m\u001b[1;33m:\u001b[0m\u001b[1;33m\u001b[0m\u001b[1;33m\u001b[0m\u001b[0m\n\u001b[1;32m--> 120\u001b[1;33m         \u001b[1;32mreturn\u001b[0m \u001b[0mself\u001b[0m\u001b[1;33m.\u001b[0m\u001b[0m_arith_method\u001b[0m\u001b[1;33m(\u001b[0m\u001b[0mother\u001b[0m\u001b[1;33m,\u001b[0m \u001b[0mroperator\u001b[0m\u001b[1;33m.\u001b[0m\u001b[0mrtruediv\u001b[0m\u001b[1;33m)\u001b[0m\u001b[1;33m\u001b[0m\u001b[1;33m\u001b[0m\u001b[0m\n\u001b[0m\u001b[0;32m    121\u001b[0m \u001b[1;33m\u001b[0m\u001b[0m\n\u001b[0;32m    122\u001b[0m     \u001b[1;33m@\u001b[0m\u001b[0munpack_zerodim_and_defer\u001b[0m\u001b[1;33m(\u001b[0m\u001b[1;34m\"__floordiv__\"\u001b[0m\u001b[1;33m)\u001b[0m\u001b[1;33m\u001b[0m\u001b[1;33m\u001b[0m\u001b[0m\n",
      "\u001b[1;32m~\\anaconda3\\envs\\myenv\\lib\\site-packages\\pandas\\core\\series.py\u001b[0m in \u001b[0;36m_arith_method\u001b[1;34m(self, other, op)\u001b[0m\n\u001b[0;32m   5526\u001b[0m             \u001b[0mresult\u001b[0m \u001b[1;33m=\u001b[0m \u001b[0mops\u001b[0m\u001b[1;33m.\u001b[0m\u001b[0marithmetic_op\u001b[0m\u001b[1;33m(\u001b[0m\u001b[0mlvalues\u001b[0m\u001b[1;33m,\u001b[0m \u001b[0mrvalues\u001b[0m\u001b[1;33m,\u001b[0m \u001b[0mop\u001b[0m\u001b[1;33m)\u001b[0m\u001b[1;33m\u001b[0m\u001b[1;33m\u001b[0m\u001b[0m\n\u001b[0;32m   5527\u001b[0m \u001b[1;33m\u001b[0m\u001b[0m\n\u001b[1;32m-> 5528\u001b[1;33m         \u001b[1;32mreturn\u001b[0m \u001b[0mself\u001b[0m\u001b[1;33m.\u001b[0m\u001b[0m_construct_result\u001b[0m\u001b[1;33m(\u001b[0m\u001b[0mresult\u001b[0m\u001b[1;33m,\u001b[0m \u001b[0mname\u001b[0m\u001b[1;33m=\u001b[0m\u001b[0mres_name\u001b[0m\u001b[1;33m)\u001b[0m\u001b[1;33m\u001b[0m\u001b[1;33m\u001b[0m\u001b[0m\n\u001b[0m\u001b[0;32m   5529\u001b[0m \u001b[1;33m\u001b[0m\u001b[0m\n\u001b[0;32m   5530\u001b[0m \u001b[1;33m\u001b[0m\u001b[0m\n",
      "\u001b[1;32m~\\anaconda3\\envs\\myenv\\lib\\site-packages\\pandas\\core\\series.py\u001b[0m in \u001b[0;36m_construct_result\u001b[1;34m(self, result, name)\u001b[0m\n\u001b[0;32m   2943\u001b[0m         \u001b[1;31m# We do not pass dtype to ensure that the Series constructor\u001b[0m\u001b[1;33m\u001b[0m\u001b[1;33m\u001b[0m\u001b[1;33m\u001b[0m\u001b[0m\n\u001b[0;32m   2944\u001b[0m         \u001b[1;31m#  does inference in the case where `result` has object-dtype.\u001b[0m\u001b[1;33m\u001b[0m\u001b[1;33m\u001b[0m\u001b[1;33m\u001b[0m\u001b[0m\n\u001b[1;32m-> 2945\u001b[1;33m         \u001b[0mout\u001b[0m \u001b[1;33m=\u001b[0m \u001b[0mself\u001b[0m\u001b[1;33m.\u001b[0m\u001b[0m_constructor\u001b[0m\u001b[1;33m(\u001b[0m\u001b[0mresult\u001b[0m\u001b[1;33m,\u001b[0m \u001b[0mindex\u001b[0m\u001b[1;33m=\u001b[0m\u001b[0mself\u001b[0m\u001b[1;33m.\u001b[0m\u001b[0mindex\u001b[0m\u001b[1;33m)\u001b[0m\u001b[1;33m\u001b[0m\u001b[1;33m\u001b[0m\u001b[0m\n\u001b[0m\u001b[0;32m   2946\u001b[0m         \u001b[0mout\u001b[0m \u001b[1;33m=\u001b[0m \u001b[0mout\u001b[0m\u001b[1;33m.\u001b[0m\u001b[0m__finalize__\u001b[0m\u001b[1;33m(\u001b[0m\u001b[0mself\u001b[0m\u001b[1;33m)\u001b[0m\u001b[1;33m\u001b[0m\u001b[1;33m\u001b[0m\u001b[0m\n\u001b[0;32m   2947\u001b[0m \u001b[1;33m\u001b[0m\u001b[0m\n",
      "\u001b[1;32m~\\anaconda3\\envs\\myenv\\lib\\site-packages\\pandas\\core\\series.py\u001b[0m in \u001b[0;36m__init__\u001b[1;34m(self, data, index, dtype, name, copy, fastpath)\u001b[0m\n\u001b[0;32m    428\u001b[0m                 \u001b[0mindex\u001b[0m \u001b[1;33m=\u001b[0m \u001b[0mibase\u001b[0m\u001b[1;33m.\u001b[0m\u001b[0mdefault_index\u001b[0m\u001b[1;33m(\u001b[0m\u001b[0mlen\u001b[0m\u001b[1;33m(\u001b[0m\u001b[0mdata\u001b[0m\u001b[1;33m)\u001b[0m\u001b[1;33m)\u001b[0m\u001b[1;33m\u001b[0m\u001b[1;33m\u001b[0m\u001b[0m\n\u001b[0;32m    429\u001b[0m             \u001b[1;32melif\u001b[0m \u001b[0mis_list_like\u001b[0m\u001b[1;33m(\u001b[0m\u001b[0mdata\u001b[0m\u001b[1;33m)\u001b[0m\u001b[1;33m:\u001b[0m\u001b[1;33m\u001b[0m\u001b[1;33m\u001b[0m\u001b[0m\n\u001b[1;32m--> 430\u001b[1;33m                 \u001b[0mcom\u001b[0m\u001b[1;33m.\u001b[0m\u001b[0mrequire_length_match\u001b[0m\u001b[1;33m(\u001b[0m\u001b[0mdata\u001b[0m\u001b[1;33m,\u001b[0m \u001b[0mindex\u001b[0m\u001b[1;33m)\u001b[0m\u001b[1;33m\u001b[0m\u001b[1;33m\u001b[0m\u001b[0m\n\u001b[0m\u001b[0;32m    431\u001b[0m \u001b[1;33m\u001b[0m\u001b[0m\n\u001b[0;32m    432\u001b[0m             \u001b[1;31m# create/copy the manager\u001b[0m\u001b[1;33m\u001b[0m\u001b[1;33m\u001b[0m\u001b[1;33m\u001b[0m\u001b[0m\n",
      "\u001b[1;32m~\\anaconda3\\envs\\myenv\\lib\\site-packages\\pandas\\core\\common.py\u001b[0m in \u001b[0;36mrequire_length_match\u001b[1;34m(data, index)\u001b[0m\n\u001b[0;32m    529\u001b[0m     \"\"\"\n\u001b[0;32m    530\u001b[0m     \u001b[1;32mif\u001b[0m \u001b[0mlen\u001b[0m\u001b[1;33m(\u001b[0m\u001b[0mdata\u001b[0m\u001b[1;33m)\u001b[0m \u001b[1;33m!=\u001b[0m \u001b[0mlen\u001b[0m\u001b[1;33m(\u001b[0m\u001b[0mindex\u001b[0m\u001b[1;33m)\u001b[0m\u001b[1;33m:\u001b[0m\u001b[1;33m\u001b[0m\u001b[1;33m\u001b[0m\u001b[0m\n\u001b[1;32m--> 531\u001b[1;33m         raise ValueError(\n\u001b[0m\u001b[0;32m    532\u001b[0m             \u001b[1;34m\"Length of values \"\u001b[0m\u001b[1;33m\u001b[0m\u001b[1;33m\u001b[0m\u001b[0m\n\u001b[0;32m    533\u001b[0m             \u001b[1;34mf\"({len(data)}) \"\u001b[0m\u001b[1;33m\u001b[0m\u001b[1;33m\u001b[0m\u001b[0m\n",
      "\u001b[1;31mValueError\u001b[0m: Length of values (2) does not match length of index (36)"
     ]
    }
   ],
   "source": [
    "A = 31*np.pi*7.875*0.21/(39.37*39.37)\n",
    "U = Q/(A*dT_co)\n",
    "Gi = wc/(np.pi*31*np.power((0.21/39.37),2)/4)\n",
    "Gs = wh/(np.pi*31*np.power((0.25/39.37),2)/4)\n",
    "#dT_co = ((Th_in - Tc_in) - (Th_out - Tc_out))/np.log(((Th_in - Tc_in)/(Th_out - Tc_out)))\n",
    "flip_U = 1/U\n",
    "print(U,Gi,Gs)"
   ]
  },
  {
   "cell_type": "code",
   "execution_count": 109,
   "id": "af82766e-5779-41cb-af33-7706144c6074",
   "metadata": {
    "jupyter": {
     "source_hidden": true
    },
    "tags": []
   },
   "outputs": [
    {
     "name": "stdout",
     "output_type": "stream",
     "text": [
      "[0.61111286 0.61111286 0.01620378 0.08033048 0.01620378 0.51014855\n",
      " 0.78762922 0.45319786 0.78762922] [0.00044092 0.00044092 0.00079622 0.00030402 0.00079622 0.00277392\n",
      " 0.00262922 0.00215928 0.00262922]\n"
     ]
    }
   ],
   "source": [
    "error_dat = dat[dat[\"mi2 (kg)\"].notna()]\n",
    "#print(error_dat)\n",
    "Ms_err = error_dat[\"Ms (kg/s)\"].to_numpy()\n",
    "M1 = error_dat[\"Mi1 (kg/s)\"].to_numpy()\n",
    "M2 = error_dat[\"mi2 (kg)\"].to_numpy()/error_dat[\"ti2 (s)\"].to_numpy()\n",
    "#print(M1,M2)\n",
    "Avg_Mi = (M1+M2)/2\n",
    "std_Mi = np.std([M1, M2],axis = 0)\n",
    "print(Avg_Mi, std_Mi)"
   ]
  },
  {
   "cell_type": "code",
   "execution_count": 110,
   "id": "5f42565e-da12-4b53-bab5-1725c30b548f",
   "metadata": {
    "jupyter": {
     "source_hidden": true
    },
    "tags": []
   },
   "outputs": [
    {
     "name": "stdout",
     "output_type": "stream",
     "text": [
      "      ms     ts  Ms (kg/s)  mi1 (kg)  ti1 (s)  Mi1 (kg/s)  mi2 (kg)  ti2 (s)  \\\n",
      "5   8.09  10.15   0.797044      6.14    10.04    0.611554      6.18    10.12   \n",
      "11  7.38  10.15   0.727094      6.14    10.04    0.611554      6.18    10.12   \n",
      "18  6.11  10.18   0.600196      0.34    20.00    0.017000      0.31    20.12   \n",
      "19  6.11  10.18   0.600196      1.22    15.13    0.080635      1.21    15.12   \n",
      "24  5.66  10.50   0.539048      0.34    20.00    0.017000      0.31    20.12   \n",
      "28  5.66  10.50   0.539048      5.16    10.17    0.507375      5.16    10.06   \n",
      "29  5.66  10.50   0.539048      7.95    10.06    0.790258      7.85    10.00   \n",
      "33  6.18  15.15   0.407921      4.56    10.11    0.451039      4.59    10.08   \n",
      "35  6.18  15.15   0.407921      7.95    10.06    0.790258      7.85    10.00   \n",
      "\n",
      "    Th_in  Th_out  Tc_in  Tc_out  \n",
      "5   60.88   55.41  22.53   15.17  \n",
      "11  59.58   53.94  22.10   15.55  \n",
      "18  56.05   55.20  47.79   15.43  \n",
      "19  55.27   52.92  33.11   15.28  \n",
      "24  59.69   58.65  52.21   15.64  \n",
      "28  59.83   52.99  22.79   15.59  \n",
      "29  58.07   50.16  20.77   15.40  \n",
      "33  53.74   47.02  21.53   15.47  \n",
      "35  55.89   46.63  19.90   15.19  \n",
      "5     11.663632\n",
      "11    10.773002\n",
      "18     6.871744\n",
      "19     6.984562\n",
      "24     7.835512\n",
      "28     9.415858\n",
      "29    10.443852\n",
      "33     7.843625\n",
      "35     9.142452\n",
      "dtype: float64 [0.00427325 0.00383941 0.17114753 0.01331857 0.19784686 0.02555047\n",
      " 0.01736118 0.01870321 0.01512164]\n"
     ]
    }
   ],
   "source": [
    "print(error_dat)\n",
    "Th_in_err = error_dat[\"Th_in\"]\n",
    "Th_out_err = error_dat[\"Th_out\"]\n",
    "Tc_in_err = error_dat[\"Tc_in\"]\n",
    "Tc_out_err = error_dat[\"Tc_out\"]\n",
    "Ms_err = error_dat[\"Ms (kg/s)\"]\n",
    "Gi_err = M1/(np.pi*31*np.power((0.21/39.37),2)/4)\n",
    "Cp = 4.182\n",
    "dT_counter_err = ((Th_in_err - Th_out_err) - (Th_out_err - Tc_in_err))/np.log(((Th_in_err - Th_out_err)/(Th_out_err - Tc_in_err)))\n",
    "Qc_err1 = M1*Cp*(Tc_out_err - Tc_in_err)\n",
    "Qc_err2 = M2*Cp*(Tc_out_err - Tc_in_err)\n",
    "Qc_avg = (Qc_err1+Qc_err2)/2\n",
    "Qc_std = np.std([Qc_err1, Qc_err2],axis = 0)\n",
    "Qh = Ms_err*Cp*(Th_out_err - Th_in_err)\n",
    "A = 31*np.pi*7.875*0.21/(39.37*39.37)\n",
    "Q_err1 = (abs(Qc_err1) + abs(Qh))/2\n",
    "Q_err2 = (abs(Qc_err2) + abs(Qh))/2\n",
    "U_err1 = Q_err1/(A*dT_counter_err)\n",
    "U_err2 = Q_err2/(A*dT_counter_err)\n",
    "U_avg = (U_err1+U_err2)/2\n",
    "U_std = np.std([U_err1, U_err2],axis = 0)\n",
    "print(U_avg,U_std)"
   ]
  },
  {
   "cell_type": "code",
   "execution_count": 111,
   "id": "29dbf8fe-d196-409f-8d48-df704b15bf13",
   "metadata": {
    "jupyter": {
     "source_hidden": true
    },
    "tags": []
   },
   "outputs": [],
   "source": [
    "def func(G,a,b,c,d,e):\n",
    "    Gi,Gs = G\n",
    "    return (a/np.power(Gi,b)) + c + (d/np.power(Gs,e))\n",
    "    #Sieder_tate_LHS = h*D/k\n",
    "    #Sieder_tate_RHS = 0.023 * (D*G/miu)^0.8 * (Cp*miu/k)^(1/3) * (miu_b/miu_o)^0.14\n",
    "\n",
    "    #Kern_LHS = h_o*D_e/k\n",
    "    #Kern_RHS = 0.36 * (D_e*G_s/miu)^0.55 * (Cp*miu/k)^(1/3) * (miu_b/miu_o)^0.14\n",
    "\n",
    "    #param fitting\n",
    "    #LHS = 1/U\n",
    "    #RHS = a/(wc^b) + c + d/(wh^e)\n",
    "\n",
    "    #hi_exp = 1/a*wc^b\n",
    "    #h0_exp = (1/d)*(Ai/A0)*(wh^e)\n"
   ]
  },
  {
   "cell_type": "code",
   "execution_count": 112,
   "id": "ae16ffed-da97-49c6-bcc6-56fca8d2a193",
   "metadata": {
    "jupyter": {
     "source_hidden": true
    },
    "tags": []
   },
   "outputs": [
    {
     "ename": "NameError",
     "evalue": "name 'Gi' is not defined",
     "output_type": "error",
     "traceback": [
      "\u001b[1;31m---------------------------------------------------------------------------\u001b[0m",
      "\u001b[1;31mNameError\u001b[0m                                 Traceback (most recent call last)",
      "\u001b[1;32m~\\AppData\\Local\\Temp/ipykernel_19156/3220770648.py\u001b[0m in \u001b[0;36m<module>\u001b[1;34m\u001b[0m\n\u001b[0;32m      1\u001b[0m \u001b[0mguess\u001b[0m \u001b[1;33m=\u001b[0m \u001b[1;33m[\u001b[0m\u001b[1;36m1\u001b[0m\u001b[1;33m,\u001b[0m \u001b[1;36m0.3\u001b[0m\u001b[1;33m,\u001b[0m \u001b[1;36m0\u001b[0m\u001b[1;33m,\u001b[0m \u001b[1;36m1\u001b[0m\u001b[1;33m,\u001b[0m\u001b[1;36m0.6\u001b[0m\u001b[1;33m]\u001b[0m\u001b[1;33m\u001b[0m\u001b[1;33m\u001b[0m\u001b[0m\n\u001b[0;32m      2\u001b[0m \u001b[0ma\u001b[0m\u001b[1;33m,\u001b[0m\u001b[0mb\u001b[0m\u001b[1;33m,\u001b[0m\u001b[0mc\u001b[0m\u001b[1;33m,\u001b[0m\u001b[0md\u001b[0m\u001b[1;33m,\u001b[0m\u001b[0me\u001b[0m \u001b[1;33m=\u001b[0m \u001b[0mguess\u001b[0m\u001b[1;33m\u001b[0m\u001b[1;33m\u001b[0m\u001b[0m\n\u001b[1;32m----> 3\u001b[1;33m \u001b[0mLHS\u001b[0m \u001b[1;33m=\u001b[0m \u001b[0mfunc\u001b[0m\u001b[1;33m(\u001b[0m\u001b[1;33m(\u001b[0m\u001b[0mGi\u001b[0m\u001b[1;33m,\u001b[0m\u001b[0mGs\u001b[0m\u001b[1;33m)\u001b[0m\u001b[1;33m,\u001b[0m\u001b[0ma\u001b[0m\u001b[1;33m,\u001b[0m\u001b[0mb\u001b[0m\u001b[1;33m,\u001b[0m\u001b[0mc\u001b[0m\u001b[1;33m,\u001b[0m\u001b[0md\u001b[0m\u001b[1;33m,\u001b[0m\u001b[0me\u001b[0m\u001b[1;33m)\u001b[0m\u001b[1;33m\u001b[0m\u001b[1;33m\u001b[0m\u001b[0m\n\u001b[0m\u001b[0;32m      4\u001b[0m \u001b[0mparam\u001b[0m \u001b[1;33m=\u001b[0m \u001b[0mcurve_fit\u001b[0m\u001b[1;33m(\u001b[0m\u001b[0mfunc\u001b[0m\u001b[1;33m,\u001b[0m\u001b[1;33m(\u001b[0m\u001b[0mGi\u001b[0m\u001b[1;33m,\u001b[0m\u001b[0mGs\u001b[0m\u001b[1;33m)\u001b[0m\u001b[1;33m,\u001b[0m\u001b[0mflip_U\u001b[0m\u001b[1;33m,\u001b[0m\u001b[0mguess\u001b[0m\u001b[1;33m,\u001b[0m\u001b[0mmaxfev\u001b[0m\u001b[1;33m=\u001b[0m\u001b[1;36m20000\u001b[0m\u001b[1;33m)\u001b[0m\u001b[1;33m\u001b[0m\u001b[1;33m\u001b[0m\u001b[0m\n\u001b[0;32m      5\u001b[0m \u001b[0mLHS_fit\u001b[0m \u001b[1;33m=\u001b[0m \u001b[0mfunc\u001b[0m\u001b[1;33m(\u001b[0m\u001b[1;33m(\u001b[0m\u001b[0mGi\u001b[0m\u001b[1;33m,\u001b[0m\u001b[0mGs\u001b[0m\u001b[1;33m)\u001b[0m\u001b[1;33m,\u001b[0m\u001b[1;33m*\u001b[0m\u001b[0mparam\u001b[0m\u001b[1;33m[\u001b[0m\u001b[1;36m0\u001b[0m\u001b[1;33m]\u001b[0m\u001b[1;33m)\u001b[0m\u001b[1;33m\u001b[0m\u001b[1;33m\u001b[0m\u001b[0m\n",
      "\u001b[1;31mNameError\u001b[0m: name 'Gi' is not defined"
     ]
    }
   ],
   "source": [
    "guess = [1, 0.3, 0, 1,0.6]\n",
    "a,b,c,d,e = guess\n",
    "LHS = func((Gi,Gs),a,b,c,d,e)\n",
    "param = curve_fit(func,(Gi,Gs),flip_U,guess,maxfev=20000)\n",
    "LHS_fit = func((Gi,Gs),*param[0])\n",
    "U_fit = 1/LHS_fit\n",
    "\n",
    "print(param)"
   ]
  },
  {
   "cell_type": "code",
   "execution_count": null,
   "id": "1f9fee62-dcc7-4305-a56d-e3c17a226039",
   "metadata": {
    "collapsed": true,
    "jupyter": {
     "outputs_hidden": true,
     "source_hidden": true
    },
    "tags": []
   },
   "outputs": [],
   "source": []
  },
  {
   "cell_type": "code",
   "execution_count": 123,
   "id": "e51bc88e-0516-40b5-9112-834ff542f8b6",
   "metadata": {},
   "outputs": [
    {
     "data": {
      "text/plain": [
       "Text(0, 0.5, '$\\\\frac{(\\\\.Q_c + \\\\.Q_c)}{0.5(|\\\\.Q_c| + |\\\\.Q_c|)}$ ')"
      ]
     },
     "execution_count": 123,
     "metadata": {},
     "output_type": "execute_result"
    },
    {
     "data": {
      "image/png": "[encoded data removed]",
      "text/plain": [
       "<Figure size 1728x1440 with 1 Axes>"
      ]
     },
     "metadata": {
      "needs_background": "light"
     },
     "output_type": "display_data"
    }
   ],
   "source": [
    "fig = figure(figsize = (24,20))\n",
    "x_axis = np.linspace(1,72,72)\n",
    "plt.plot(x_axis,Q_np,'bo')\n",
    "plt.errorbar(x_axis,Q_np,yerr = [dQ_prop], fmt = 'none',ecolor = 'black',capsize = 5,elinewidth = 1)\n",
    "plt.axhline(y=0, c=\"black\")\n",
    "plt.ylabel(r\"$U^{Exp}$ $(\\frac{kJ} {m^{2}s \\cdot{K}})$\", fontsize = 30,labelpad=20)\n",
    "plt.xlabel(r\"Run number\",fontsize = 30,labelpad=20)\n",
    "plt.tick_params(axis='both', which='major', labelsize=20)\n",
    "plt.ylabel(r\"$\\frac{(\\.Q_c + \\.Q_c)}{0.5(|\\.Q_c| + |\\.Q_c|)}$ \",fontsize = 30,labelpad=20)"
   ]
  },
  {
   "cell_type": "code",
   "execution_count": null,
   "id": "b5a090ab-6f7b-491c-9679-ed8b7fa4ff75",
   "metadata": {},
   "outputs": [
    {
     "data": {
      "text/plain": [
       "[<matplotlib.lines.Line2D at 0x22e03e8be50>]"
      ]
     },
     "execution_count": 400,
     "metadata": {},
     "output_type": "execute_result"
    },
    {
     "data": {
      "image/png": "[encoded data removed]",
      "text/plain": [
       "<Figure size 432x288 with 1 Axes>"
      ]
     },
     "metadata": {
      "needs_background": "light"
     },
     "output_type": "display_data"
    }
   ],
   "source": [
    "# Mathtext demo\n",
    "fig, ax = plt.subplots()\n",
    "ax.plot(range(10))\n",
    "ax.set_title(r'$\\ddot{o}\\acute{e}\\grave{e}\\hat{O}'\n",
    "             r'\\breve{i}\\bar{A}\\tilde{n}\\vec{q}$', fontsize=20)\n",
    "\n",
    "# Shorthand is also supported and curly braces are optional\n",
    "ax.set_xlabel(r\"\"\"$\\\"o\\ddot o \\'e\\`e\\~n\\.x\\^y$\"\"\", fontsize=20)\n",
    "ax.text(4, 0.5, r\"$F=m\\ddot{x}$\")\n",
    "fig.tight_layout()"
   ]
  },
  {
   "cell_type": "code",
   "execution_count": 46,
   "id": "17601b9c-c8d7-45ab-8f3a-7dc33f7f43d0",
   "metadata": {},
   "outputs": [
    {
     "ename": "SyntaxError",
     "evalue": "invalid syntax (Temp/ipykernel_19156/1011326853.py, line 44)",
     "output_type": "error",
     "traceback": [
      "\u001b[1;36m  File \u001b[1;32m\"C:\\Users\\buing\\AppData\\Local\\Temp/ipykernel_19156/1011326853.py\"\u001b[1;36m, line \u001b[1;32m44\u001b[0m\n\u001b[1;33m    x_axis = [1:72]\u001b[0m\n\u001b[1;37m               ^\u001b[0m\n\u001b[1;31mSyntaxError\u001b[0m\u001b[1;31m:\u001b[0m invalid syntax\n"
     ]
    }
   ],
   "source": [
    "Gi_spline_1 = np.sort(Gi1)\n",
    "Gi_spline_2 = np.sort(Gi2)\n",
    "Gi_spline_3 = np.sort(Gi3)\n",
    "Gi_spline_4 = np.sort(Gi4)\n",
    "Gi_spline_5 = np.sort(Gi5)\n",
    "Gi_spline_6 = np.sort(Gi6)\n",
    "\n",
    "#U_spline_1 = 1/func((Gi_spline_1,Gs1),*param[0])\n",
    "#U_spline_2 = 1/func((Gi_spline_1,Gs2),*param[0])\n",
    "#U_spline_3 = 1/func((Gi_spline_1,Gs3),*param[0])\n",
    "#U_spline_4 = 1/func((Gi_spline_1,Gs4),*param[0])\n",
    "#U_spline_5 = 1/func((Gi_spline_1,Gs5),*param[0])\n",
    "#U_spline_6 = 1/func((Gi_spline_1,Gs6),*param[0])\n",
    "#D_model = np.linspace(D_spline.min(), D_spline.max(), 500)\n",
    "Gi_model = np.linspace(Gi.min(),Gi.max(),120)\n",
    "Gi_model1 = np.linspace(Gi1.min(), Gi1.max(), 120)\n",
    "Gi_model2 = np.linspace(Gi2.min(), Gi2.max(), 120)\n",
    "Gi_model3 = np.linspace(Gi3.min(), Gi3.max(), 120)\n",
    "Gi_model4 = np.linspace(Gi4.min(), Gi4.max(), 120)\n",
    "Gi_model5 = np.linspace(Gi5.min(), Gi5.max(), 120)\n",
    "Gi_model6 = np.linspace(Gi6.min(), Gi6.max(), 120)\n",
    "#Gi1_spl = make_interp_spline(Gi_spline_1,U_spline_1)\n",
    "#Gi2_spl = make_interp_spline(Gi_spline_2,U_spline_2)\n",
    "#Gi3_spl = make_interp_spline(Gi_spline_3,U_spline_3)\n",
    "#Gi4_spl = make_interp_spline(Gi_spline_4,U_spline_4)\n",
    "#Gi5_spl = make_interp_spline(Gi_spline_5,U_spline_5)\n",
    "#Gi6_spl = make_interp_spline(Gi_spline_6,U_spline_6)\n",
    "Gs_model1 = np.repeat(Gs1,20)\n",
    "Gs_model2 = np.repeat(Gs2,20)\n",
    "Gs_model3 = np.repeat(Gs3,20)\n",
    "Gs_model4 = np.repeat(Gs4,20)\n",
    "Gs_model5 = np.repeat(Gs5,20)\n",
    "Gs_model6 = np.repeat(Gs6,20)\n",
    "U1_model =  1/func((Gi_model,Gs_model1),*param[0])\n",
    "U2_model = 1/func((Gi_model,Gs_model2),*param[0])\n",
    "U3_model = 1/func((Gi_model,Gs_model3),*param[0])\n",
    "U4_model = 1/func((Gi_model,Gs_model4),*param[0])\n",
    "U5_model = 1/func((Gi_model,Gs_model5),*param[0])\n",
    "U6_model = 1/func((Gi_model,Gs_model6),*param[0])\n",
    "label = np.unique(Gs)\n",
    "l_width = 0.5\n",
    "marksize = 4\n",
    "fig = figure(figsize = (12,9))\n",
    "plt.plot(Gi_model,U1_model,'b-',linewidth = l_width, label = str(int(label[0])))\n",
    "#plt.annotate(int(label[0]),\n",
    "#             xy = (   Gi_model[-1],(U1_model.to_numpy())[-1]),\n",
    "#             xytext= (  1.01*Gi_model[-1],1.01*(U1_model.to_numpy())[-1]),\n",
    "#             color = 'b'\n",
    "#            )\n",
    "\n",
    "plt.plot(Gi_model,U2_model,'g-',linewidth = l_width, label = str(int(label[1])))\n",
    "#plt.annotate(int(label[1]),\n",
    "#             xy = (   Gi_model[-1],(U2_model.to_numpy())[-1]),\n",
    "#             xytext= (   1.01*Gi_model[-1],1.0*(U2_model.to_numpy())[-1]),\n",
    "#             color = 'g'\n",
    "#            )\n",
    "\n",
    "plt.plot(Gi_model,U3_model,'r-',linewidth = l_width, label = str(int(label[2])))\n",
    "#plt.annotate(int(label[2]),\n",
    "#             xy = (   Gi_model[-1],(U3_model.to_numpy())[-1]),\n",
    "#             xytext= (   1.01*Gi_model[-1],1.0*(U3_model.to_numpy())[-1]),\n",
    "#             color = 'r'\n",
    "#            )\n",
    "plt.plot(Gi_model,U4_model,'c-',linewidth = l_width, label = str(int(label[3])))\n",
    "#plt.annotate(int(label[3]),\n",
    "#             xy = (   Gi_model[-1],(U4_model.to_numpy())[-1]),\n",
    "#             xytext= (   1.01*Gi_model[-1],1.0*(U4_model.to_numpy())[-1]),\n",
    "#             color = 'c'\n",
    "#            )\n",
    "plt.plot(Gi_model,U5_model,'m-',linewidth = l_width, label = str(int(label[4])))\n",
    "#plt.annotate(int(label[4]),\n",
    "#             xy = (   Gi_model[-1],(U5_model.to_numpy())[-1]),\n",
    "#             xytext= (   1.01*Gi_model[-1],1.0*(U5_model.to_numpy())[-1]),\n",
    "#             color = 'm'\n",
    "#            )\n",
    "plt.plot(Gi_model,U6_model,'y-',linewidth = l_width, label = str(int(label[5])))\n",
    "#plt.annotate(int(label[5]),\n",
    "#             xy = (   Gi_model[-1],(U6_model.to_numpy())[-1]),\n",
    "#             xytext= (   1.01*Gi_model[-1],1.0*(U6_model.to_numpy())[-1]),\n",
    "#             color = 'y'\n",
    "#            )\n",
    "plt.plot(Gi1,U1,'bo',markersize = marksize, label = \" \")#str(int(label[0])))\n",
    "plt.plot(Gi2,U2,'go',markersize = marksize, label = \" \")#str(int(label[1])))\n",
    "plt.plot(Gi3,U3,'ro',markersize = marksize, label = \" \")#str(int(label[2])))\n",
    "plt.plot(Gi4,U4,'co',markersize = marksize, label = \" \")#str(int(label[3])))\n",
    "plt.plot(Gi5,U5,'mo',markersize = marksize, label = \" \")#str(int(label[4])))\n",
    "plt.plot(Gi6,U6,'yo',markersize = marksize, label = \" \")#str(int(label[5])))\n",
    "\n",
    "\n",
    "plt.text(720,2.55,r\"$G_s$ $(\\frac{kg} {m^{2}s})$\",\n",
    "             #xy = (   Gi_model[-1],(U5_model.to_numpy())[-1]),\n",
    "             #xytext= (0.59*Gi_model[-1],0.55*(U5_model.to_numpy())[-1]),\n",
    "            fontsize = 15, zorder = 100\n",
    "            )\n",
    "\n",
    "plt.text(865,2.55, 'Model', fontsize = 15, zorder =100)\n",
    "plt.text(1040,2.55, 'Exp', fontsize = 15, zorder =100)\n",
    "#plt.text.pop()\n",
    "legend = plt.legend(ncol = 2, loc = 'lower right', fontsize = 13, title = \" \",markerfirst = False,labelcolor =('b','g','r','c','m','y'),labelspacing = 0.4\n",
    "                   ,handlelength =3,handletextpad = 3,columnspacing = 0,bbox_to_anchor = (0.95,0.1),frameon = True,borderpad = 2,borderaxespad = 0.2) #^{Exp}\n",
    "legend.get_title().set_fontsize('13')\n",
    "legend.get_title().set_ha('left')\n",
    "plt.ylim(0.9,5)\n",
    "plt.xlim(4,1200)\n",
    "plt.ylabel(r\"$U^{Exp}$ $(\\frac{kJ} {m^{2}s \\cdot{K}})$\", fontsize = 30,labelpad=20)\n",
    "plt.xlabel(r\"$G_i$ $(\\frac{kg} {m^{2}s})$\",fontsize = 30,labelpad=20)\n",
    "plt.tick_params(axis='both', which='major', labelsize=20)\n",
    "plt.errorbar(Gi_err,U_err1,yerr = [U_std], fmt = 'none',ecolor = 'black',capsize = 5,elinewidth = 1)\n",
    "#spl = make_interp_spline(D_spline,phin_model_point)\n",
    "#color = cm.rainbow(np.linspace(0, 1, n))\n",
    "#for i, c in zip(range(n), color):\n",
    "#   plt.plot(x, y, c=c)\n"
   ]
  },
  {
   "cell_type": "code",
   "execution_count": 51,
   "id": "29649ef5-5fab-485f-82de-b40fb97a3cda",
   "metadata": {},
   "outputs": [
    {
     "name": "stdout",
     "output_type": "stream",
     "text": [
      "[ 1.  2.  3.  4.  5.  6.  7.  8.  9. 10. 11. 12. 13. 14. 15. 16. 17. 18.\n",
      " 19. 20. 21. 22. 23. 24. 25. 26. 27. 28. 29. 30. 31. 32. 33. 34. 35. 36.\n",
      " 37. 38. 39. 40. 41. 42. 43. 44. 45. 46. 47. 48. 49. 50. 51. 52. 53. 54.\n",
      " 55. 56. 57. 58. 59. 60. 61. 62. 63. 64. 65. 66. 67. 68. 69. 70. 71. 72.]\n"
     ]
    }
   ],
   "source": [
    "print(x_axis)"
   ]
  },
  {
   "cell_type": "code",
   "execution_count": null,
   "id": "00fe0554-15dd-4fd6-8a91-f8475bed25bd",
   "metadata": {},
   "outputs": [],
   "source": [
    "print(Gi_model[-1])\n",
    "print( str(int(label[0])) + \" exp\")"
   ]
  },
  {
   "cell_type": "code",
   "execution_count": null,
   "id": "bcde7893-cb08-4d1a-ab11-cb9e138cd29e",
   "metadata": {},
   "outputs": [],
   "source": [
    "print(Gi_spline_1,Gi[0:6])"
   ]
  },
  {
   "cell_type": "code",
   "execution_count": null,
   "id": "2a25b042-a95c-4863-a462-243abd2d70ea",
   "metadata": {},
   "outputs": [],
   "source": [
    "print(Gi_spline_1)"
   ]
  },
  {
   "cell_type": "code",
   "execution_count": null,
   "id": "acea39b5-aa62-4277-84ff-5423bb398e9c",
   "metadata": {},
   "outputs": [],
   "source": []
  }
 ],
 "metadata": {
  "kernelspec": {
   "display_name": "Python 3",
   "language": "python",
   "name": "python3"
  },
  "language_info": {
   "codemirror_mode": {
    "name": "ipython",
    "version": 3
   },
   "file_extension": ".py",
   "mimetype": "text/x-python",
   "name": "python",
   "nbconvert_exporter": "python",
   "pygments_lexer": "ipython3",
   "version": "3.8.8"
  }
 },
 "nbformat": 4,
 "nbformat_minor": 5
}
